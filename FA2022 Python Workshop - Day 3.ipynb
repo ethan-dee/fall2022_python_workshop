{
 "cells": [
  {
   "cell_type": "code",
   "execution_count": 210,
   "id": "0b4a5bf2",
   "metadata": {},
   "outputs": [],
   "source": [
    "# itinerary:\n",
    "    # write a flexible function to compute SE of a list of ints & floats\n",
    "    # use the scatterplot visualization from seaborn\n",
    "    # create a DataFrame class with methods that formalize a 'dataset' (dictionary with keys = varnames, values = lists of data)"
   ]
  },
  {
   "cell_type": "code",
   "execution_count": 211,
   "id": "f25e9f01",
   "metadata": {},
   "outputs": [],
   "source": [
    "# for computing the SE of a list X:\n",
    "# 0.) Compute list X's average    [X]\n",
    "# 1.) take the difference of an element x_i in X against X's average [ ]\n",
    "# 2.) square that difference\n",
    "# 3.) do 1&2 for every x_i in X\n",
    "# 4.) sum them together"
   ]
  },
  {
   "cell_type": "code",
   "execution_count": 212,
   "id": "062b44fa",
   "metadata": {},
   "outputs": [],
   "source": [
    "x = [1,5,7,3,7,3,6]"
   ]
  },
  {
   "cell_type": "code",
   "execution_count": 213,
   "id": "41aa4c0c",
   "metadata": {},
   "outputs": [
    {
     "data": {
      "text/plain": [
       "5"
      ]
     },
     "execution_count": 213,
     "metadata": {},
     "output_type": "execute_result"
    }
   ],
   "source": [
    "x[1]"
   ]
  },
  {
   "cell_type": "code",
   "execution_count": 215,
   "id": "7a182bd9",
   "metadata": {},
   "outputs": [
    {
     "data": {
      "text/plain": [
       "4.571428571428571"
      ]
     },
     "execution_count": 215,
     "metadata": {},
     "output_type": "execute_result"
    }
   ],
   "source": [
    "# compute the average of list x\n",
    "x_bar = sum(x) / len(x)\n",
    "x_bar"
   ]
  },
  {
   "cell_type": "code",
   "execution_count": 216,
   "id": "2267d752",
   "metadata": {},
   "outputs": [
    {
     "data": {
      "text/plain": [
       "12.755102040816325"
      ]
     },
     "execution_count": 216,
     "metadata": {},
     "output_type": "execute_result"
    }
   ],
   "source": [
    "(x[0] - x_bar)**2  # this is steps 0-2 for a single value x_i in X"
   ]
  },
  {
   "cell_type": "code",
   "execution_count": 217,
   "id": "07ef04ee",
   "metadata": {},
   "outputs": [
    {
     "name": "stdout",
     "output_type": "stream",
     "text": [
      "12.755102040816325\n",
      "0.1836734693877553\n",
      "5.89795918367347\n",
      "2.4693877551020402\n",
      "5.89795918367347\n",
      "2.4693877551020402\n",
      "2.040816326530613\n",
      "31.71428571428572\n"
     ]
    }
   ],
   "source": [
    "summation_of_xs = 0  # instantiate the variable that will store our sum\n",
    "for x_i in x:\n",
    "    print((x_i - x_bar)**2)  # every x_i step 0-2\n",
    "    summation_of_xs += ((x_i - x_bar)**2)  # modify the sum in-place\n",
    "\n",
    "print(summation_of_xs)"
   ]
  },
  {
   "cell_type": "code",
   "execution_count": 219,
   "id": "56d6bf18",
   "metadata": {},
   "outputs": [
    {
     "data": {
      "text/plain": [
       "2.29906813420444"
      ]
     },
     "execution_count": 219,
     "metadata": {},
     "output_type": "execute_result"
    }
   ],
   "source": [
    "sample_std_deviation = (summation_of_xs / (len(x)-1))**(1/2)  # numerator of our SE formula\n",
    "sample_std_deviation"
   ]
  },
  {
   "cell_type": "code",
   "execution_count": 220,
   "id": "6a6cde8f",
   "metadata": {},
   "outputs": [],
   "source": [
    "# note: be careful about recursively affecting variables, e.g. by setting its value to its current value + / - something else\n",
    "# if we compute sample std_deviation in steps:\n",
    "sample_std_deviation = (summation_of_xs / (len(x)-1))"
   ]
  },
  {
   "cell_type": "code",
   "execution_count": 221,
   "id": "fa07b926",
   "metadata": {},
   "outputs": [],
   "source": [
    "# and do the square-root-ing in this new block:\n",
    "sample_std_deviation = sample_std_deviation**(1/2)\n",
    "# if we run this block over and over again it will change the value further"
   ]
  },
  {
   "cell_type": "code",
   "execution_count": 222,
   "id": "18389275",
   "metadata": {},
   "outputs": [],
   "source": [
    "root_n = len(x)**(1/2)  # denominator of our SE formula"
   ]
  },
  {
   "cell_type": "code",
   "execution_count": 223,
   "id": "c4cfd083",
   "metadata": {},
   "outputs": [],
   "source": [
    "standard_error = sample_std_deviation / root_n"
   ]
  },
  {
   "cell_type": "code",
   "execution_count": 224,
   "id": "7b4d7b7c",
   "metadata": {},
   "outputs": [
    {
     "data": {
      "text/plain": [
       "0.8689660757568884"
      ]
     },
     "execution_count": 224,
     "metadata": {},
     "output_type": "execute_result"
    }
   ],
   "source": [
    "standard_error"
   ]
  },
  {
   "cell_type": "code",
   "execution_count": 244,
   "id": "223bcbe2",
   "metadata": {},
   "outputs": [],
   "source": [
    "# now that we fleshed out the code to do it for our example list, let's write a function that accepts -any- list\n",
    "# (and, let's be sure to provide good documenation & raise errors when the end-user isn't doing what we expect them to do)\n",
    "\n",
    "def compute_std_error(x):\n",
    "    '''Accepts as an argument a list, and prints the standard error of that list.'''\n",
    "    \n",
    "    # tests of the structure of the input list:\n",
    "    # 1.) first check to ensure that the input data is a list (otherwise, we can't iterate through it as expected)\n",
    "    if not isinstance(x,list):\n",
    "        raise TypeError('X must be a list.')\n",
    "    # 2.) make sure every element is a integer or float (otherwise, we can't safely do arithmetic on every element in the list)\n",
    "    for x_i in x:\n",
    "        if not (isinstance(x_i,int) or isinstance(x_i,float)):\n",
    "            raise TypeError('Element \\'{x_i}\\' of list X needs to be of class <int> or <float>. Type {type_xi} is not allowed.'.format(x_i=x_i,type_xi=type(x_i)))\n",
    "    # 3.) make sure the list has >= 2 elements (otherwise, we'd get a divide by 0 error)\n",
    "    if len(x)<=1:\n",
    "        raise ValueError('List X cannot be < len 2.')\n",
    "    \n",
    "    # if all tests pass, proceed with the main functionality below:\n",
    "    x_bar = sum(x) / len(x)\n",
    "    summation_of_xs = 0\n",
    "    for x_i in x:\n",
    "        summation_of_xs += ((x_i - x_bar)**2)\n",
    "    sample_std_deviation = (summation_of_xs / (len(x)-1))**(1/2)\n",
    "    root_n = len(x)**(1/2)\n",
    "    standard_error = sample_std_deviation / root_n\n",
    "    print(standard_error)"
   ]
  },
  {
   "cell_type": "code",
   "execution_count": 245,
   "id": "cfee48d3",
   "metadata": {},
   "outputs": [
    {
     "ename": "TypeError",
     "evalue": "X must be a list.",
     "output_type": "error",
     "traceback": [
      "\u001b[1;31m---------------------------------------------------------------------------\u001b[0m",
      "\u001b[1;31mTypeError\u001b[0m                                 Traceback (most recent call last)",
      "Input \u001b[1;32mIn [245]\u001b[0m, in \u001b[0;36m<cell line: 1>\u001b[1;34m()\u001b[0m\n\u001b[1;32m----> 1\u001b[0m \u001b[43mcompute_std_error\u001b[49m\u001b[43m(\u001b[49m\u001b[38;5;124;43m'\u001b[39;49m\u001b[38;5;124;43mtest string; not a list!\u001b[39;49m\u001b[38;5;124;43m'\u001b[39;49m\u001b[43m)\u001b[49m\n",
      "Input \u001b[1;32mIn [244]\u001b[0m, in \u001b[0;36mcompute_std_error\u001b[1;34m(x)\u001b[0m\n\u001b[0;32m      7\u001b[0m \u001b[38;5;66;03m# tests of the structure of the input list:\u001b[39;00m\n\u001b[0;32m      8\u001b[0m \u001b[38;5;66;03m# 1.) first check to ensure that the input data is a list (otherwise, we can't iterate through it as expected)\u001b[39;00m\n\u001b[0;32m      9\u001b[0m \u001b[38;5;28;01mif\u001b[39;00m \u001b[38;5;129;01mnot\u001b[39;00m \u001b[38;5;28misinstance\u001b[39m(x,\u001b[38;5;28mlist\u001b[39m):\n\u001b[1;32m---> 10\u001b[0m     \u001b[38;5;28;01mraise\u001b[39;00m \u001b[38;5;167;01mTypeError\u001b[39;00m(\u001b[38;5;124m'\u001b[39m\u001b[38;5;124mX must be a list.\u001b[39m\u001b[38;5;124m'\u001b[39m)\n\u001b[0;32m     11\u001b[0m \u001b[38;5;66;03m# 2.) make sure every element is a integer or float (otherwise, we can't safely do arithmetic on every element in the list)\u001b[39;00m\n\u001b[0;32m     12\u001b[0m \u001b[38;5;28;01mfor\u001b[39;00m x_i \u001b[38;5;129;01min\u001b[39;00m x:\n",
      "\u001b[1;31mTypeError\u001b[0m: X must be a list."
     ]
    }
   ],
   "source": [
    "compute_std_error('test string; not a list!')"
   ]
  },
  {
   "cell_type": "code",
   "execution_count": 246,
   "id": "2f39c325",
   "metadata": {},
   "outputs": [
    {
     "ename": "TypeError",
     "evalue": "Element 'bad list' of list X needs to be of class <int> or <float>. Type <class 'str'> is not allowed.",
     "output_type": "error",
     "traceback": [
      "\u001b[1;31m---------------------------------------------------------------------------\u001b[0m",
      "\u001b[1;31mTypeError\u001b[0m                                 Traceback (most recent call last)",
      "Input \u001b[1;32mIn [246]\u001b[0m, in \u001b[0;36m<cell line: 1>\u001b[1;34m()\u001b[0m\n\u001b[1;32m----> 1\u001b[0m \u001b[43mcompute_std_error\u001b[49m\u001b[43m(\u001b[49m\u001b[43m[\u001b[49m\u001b[38;5;241;43m1\u001b[39;49m\u001b[43m,\u001b[49m\u001b[38;5;241;43m5.0\u001b[39;49m\u001b[43m,\u001b[49m\u001b[38;5;124;43m'\u001b[39;49m\u001b[38;5;124;43mbad list\u001b[39;49m\u001b[38;5;124;43m'\u001b[39;49m\u001b[43m]\u001b[49m\u001b[43m)\u001b[49m\n",
      "Input \u001b[1;32mIn [244]\u001b[0m, in \u001b[0;36mcompute_std_error\u001b[1;34m(x)\u001b[0m\n\u001b[0;32m     12\u001b[0m \u001b[38;5;28;01mfor\u001b[39;00m x_i \u001b[38;5;129;01min\u001b[39;00m x:\n\u001b[0;32m     13\u001b[0m     \u001b[38;5;28;01mif\u001b[39;00m \u001b[38;5;129;01mnot\u001b[39;00m (\u001b[38;5;28misinstance\u001b[39m(x_i,\u001b[38;5;28mint\u001b[39m) \u001b[38;5;129;01mor\u001b[39;00m \u001b[38;5;28misinstance\u001b[39m(x_i,\u001b[38;5;28mfloat\u001b[39m)):\n\u001b[1;32m---> 14\u001b[0m         \u001b[38;5;28;01mraise\u001b[39;00m \u001b[38;5;167;01mTypeError\u001b[39;00m(\u001b[38;5;124m'\u001b[39m\u001b[38;5;124mElement \u001b[39m\u001b[38;5;130;01m\\'\u001b[39;00m\u001b[38;5;132;01m{x_i}\u001b[39;00m\u001b[38;5;130;01m\\'\u001b[39;00m\u001b[38;5;124m of list X needs to be of class <int> or <float>. Type \u001b[39m\u001b[38;5;132;01m{type_xi}\u001b[39;00m\u001b[38;5;124m is not allowed.\u001b[39m\u001b[38;5;124m'\u001b[39m\u001b[38;5;241m.\u001b[39mformat(x_i\u001b[38;5;241m=\u001b[39mx_i,type_xi\u001b[38;5;241m=\u001b[39m\u001b[38;5;28mtype\u001b[39m(x_i)))\n\u001b[0;32m     15\u001b[0m \u001b[38;5;66;03m# 3.) make sure the list has >= 2 elements (otherwise, we'd get a divide by 0 error)\u001b[39;00m\n\u001b[0;32m     16\u001b[0m \u001b[38;5;28;01mif\u001b[39;00m \u001b[38;5;28mlen\u001b[39m(x)\u001b[38;5;241m<\u001b[39m\u001b[38;5;241m=\u001b[39m\u001b[38;5;241m1\u001b[39m:\n",
      "\u001b[1;31mTypeError\u001b[0m: Element 'bad list' of list X needs to be of class <int> or <float>. Type <class 'str'> is not allowed."
     ]
    }
   ],
   "source": [
    "compute_std_error([1,5.0,'bad list'])"
   ]
  },
  {
   "cell_type": "code",
   "execution_count": 247,
   "id": "0516dc10",
   "metadata": {},
   "outputs": [
    {
     "ename": "ValueError",
     "evalue": "List X cannot be < len 2.",
     "output_type": "error",
     "traceback": [
      "\u001b[1;31m---------------------------------------------------------------------------\u001b[0m",
      "\u001b[1;31mValueError\u001b[0m                                Traceback (most recent call last)",
      "Input \u001b[1;32mIn [247]\u001b[0m, in \u001b[0;36m<cell line: 1>\u001b[1;34m()\u001b[0m\n\u001b[1;32m----> 1\u001b[0m \u001b[43mcompute_std_error\u001b[49m\u001b[43m(\u001b[49m\u001b[43m[\u001b[49m\u001b[38;5;241;43m42\u001b[39;49m\u001b[43m]\u001b[49m\u001b[43m)\u001b[49m\n",
      "Input \u001b[1;32mIn [244]\u001b[0m, in \u001b[0;36mcompute_std_error\u001b[1;34m(x)\u001b[0m\n\u001b[0;32m     15\u001b[0m \u001b[38;5;66;03m# 3.) make sure the list has >= 2 elements (otherwise, we'd get a divide by 0 error)\u001b[39;00m\n\u001b[0;32m     16\u001b[0m \u001b[38;5;28;01mif\u001b[39;00m \u001b[38;5;28mlen\u001b[39m(x)\u001b[38;5;241m<\u001b[39m\u001b[38;5;241m=\u001b[39m\u001b[38;5;241m1\u001b[39m:\n\u001b[1;32m---> 17\u001b[0m     \u001b[38;5;28;01mraise\u001b[39;00m \u001b[38;5;167;01mValueError\u001b[39;00m(\u001b[38;5;124m'\u001b[39m\u001b[38;5;124mList X cannot be < len 2.\u001b[39m\u001b[38;5;124m'\u001b[39m)\n\u001b[0;32m     19\u001b[0m \u001b[38;5;66;03m# if all tests pass, proceed with the main functionality below:\u001b[39;00m\n\u001b[0;32m     20\u001b[0m x_bar \u001b[38;5;241m=\u001b[39m \u001b[38;5;28msum\u001b[39m(x) \u001b[38;5;241m/\u001b[39m \u001b[38;5;28mlen\u001b[39m(x)\n",
      "\u001b[1;31mValueError\u001b[0m: List X cannot be < len 2."
     ]
    }
   ],
   "source": [
    "compute_std_error([42])"
   ]
  },
  {
   "cell_type": "code",
   "execution_count": 248,
   "id": "462316c0",
   "metadata": {},
   "outputs": [],
   "source": [
    "# let's generate some synthetic data and start thinking about working with multiple lists / columns / series of data\n",
    "# (approaching a full-fledged dataset)\n",
    "import random"
   ]
  },
  {
   "cell_type": "code",
   "execution_count": 251,
   "id": "43d5c317",
   "metadata": {},
   "outputs": [],
   "source": [
    "# our dear friend 'random' can draw values from the normal distribution as well. n=1000 obs from std normal:\n",
    "U = []\n",
    "for i in range(0,1000):\n",
    "    U.append(random.normalvariate(0,1))"
   ]
  },
  {
   "cell_type": "code",
   "execution_count": 252,
   "id": "246875b8",
   "metadata": {},
   "outputs": [],
   "source": [
    "# perhaps we're skeptical that the 'random' module is really giving us draws from the std normal distribution.\n",
    "# let's recycle some of our Day 2 code to test whether it seems to be okay.\n",
    "import seaborn as sns\n",
    "\n",
    "# remember this?\n",
    "def generate_randint_distribution(maximum_num, num_draws):\n",
    "    '''maximum_num is the maximum number that x can take.\n",
    "    num_draws is the number of times to repeat the while loop.'''\n",
    "    \n",
    "    if not isinstance(maximum_num, int):\n",
    "        raise ValueError('maximum_num needs to be an integer.')\n",
    "    if not isinstance(num_draws, int):\n",
    "        raise ValueError('num_draws needs to be an integer.')\n",
    "        \n",
    "    counter = 0\n",
    "    dataset = []\n",
    "    while True:\n",
    "        x = random.randint(0,maximum_num)\n",
    "        # print(x)\n",
    "        dataset.append(x)\n",
    "\n",
    "        # if x == 100:\n",
    "        #     print(x)\n",
    "        #     break\n",
    "\n",
    "        counter = counter+1\n",
    "        if counter >= num_draws:\n",
    "            break\n",
    "    sns.histplot(data=dataset,  bins=maximum_num+1)"
   ]
  },
  {
   "cell_type": "code",
   "execution_count": 253,
   "id": "c2590492",
   "metadata": {},
   "outputs": [
    {
     "data": {
      "image/png": "[encoded data removed]",
      "text/plain": [
       "<Figure size 432x288 with 1 Axes>"
      ]
     },
     "metadata": {
      "needs_background": "light"
     },
     "output_type": "display_data"
    }
   ],
   "source": [
    "generate_randint_distribution(100,5000)"
   ]
  },
  {
   "cell_type": "code",
   "execution_count": 254,
   "id": "7a51f514",
   "metadata": {},
   "outputs": [],
   "source": [
    "# let's recycle it for drawing from the normal distribution instead.\n",
    "def generate_randnormal_distribution(mu, sigma, num_draws):\n",
    "    '''maximum_num is the maximum number that x can take.\n",
    "    num_draws is the number of times to repeat the while loop.'''\n",
    "    \n",
    "    # GOOD TESTS & FAILSAFES SHOULD GO HERE! Skipping for now...\n",
    "        \n",
    "    counter = 0\n",
    "    dataset = []\n",
    "    while True:\n",
    "        x = random.normalvariate(mu,sigma)\n",
    "        # print(x)\n",
    "        dataset.append(x)\n",
    "\n",
    "        # if x == 100:\n",
    "        #     print(x)\n",
    "        #     break\n",
    "\n",
    "        counter = counter+1\n",
    "        if counter >= num_draws:\n",
    "            break\n",
    "    sns.histplot(data=dataset,  bins='auto')"
   ]
  },
  {
   "cell_type": "code",
   "execution_count": 255,
   "id": "db42c277",
   "metadata": {},
   "outputs": [
    {
     "data": {
      "image/png": "[encoded data removed]",
      "text/plain": [
       "<Figure size 432x288 with 1 Axes>"
      ]
     },
     "metadata": {
      "needs_background": "light"
     },
     "output_type": "display_data"
    }
   ],
   "source": [
    "generate_randnormal_distribution(0,1, 5000)  # draw from X~N(0,1) 5000 times."
   ]
  },
  {
   "cell_type": "code",
   "execution_count": null,
   "id": "8703fe73",
   "metadata": {},
   "outputs": [],
   "source": [
    "# looks like it works fine! onto creating our synthetic dataset"
   ]
  },
  {
   "cell_type": "code",
   "execution_count": 256,
   "id": "5f98fdbc",
   "metadata": {},
   "outputs": [],
   "source": [
    "# data-generating process: y = beta*x + error   ,   error ~ N(0,1),    x in X ~ N(0,1), beta = 2\n",
    "\n",
    "error = []\n",
    "for i in range(0,1000):\n",
    "    error.append(random.normalvariate(0,1))\n",
    "\n",
    "X = [] \n",
    "for i in range(0,1000):\n",
    "    X.append(random.normalvariate(0,1))\n",
    "    \n",
    "y = []\n",
    "for i in range(0,1000):\n",
    "    y_i = 2*X[i] + error[i]\n",
    "    y.append(y_i)"
   ]
  },
  {
   "cell_type": "code",
   "execution_count": 257,
   "id": "983b5bbe",
   "metadata": {},
   "outputs": [
    {
     "name": "stderr",
     "output_type": "stream",
     "text": [
      "C:\\Users\\ethan\\anaconda3\\lib\\site-packages\\seaborn\\_decorators.py:36: FutureWarning: Pass the following variables as keyword args: x, y. From version 0.12, the only valid positional argument will be `data`, and passing other arguments without an explicit keyword will result in an error or misinterpretation.\n",
      "  warnings.warn(\n"
     ]
    },
    {
     "data": {
      "text/plain": [
       "<AxesSubplot:>"
      ]
     },
     "execution_count": 257,
     "metadata": {},
     "output_type": "execute_result"
    },
    {
     "data": {
      "image/png": "[encoded data removed]",
      "text/plain": [
       "<Figure size 432x288 with 1 Axes>"
      ]
     },
     "metadata": {
      "needs_background": "light"
     },
     "output_type": "display_data"
    }
   ],
   "source": [
    "sns.scatterplot(X,y)"
   ]
  },
  {
   "cell_type": "code",
   "execution_count": 261,
   "id": "cbb71643",
   "metadata": {},
   "outputs": [
    {
     "name": "stdout",
     "output_type": "stream",
     "text": [
      "0.03115416439446249\n"
     ]
    }
   ],
   "source": [
    "compute_std_error(error)  # our helpful function from earlier is ready  for any list of ints & floats with len >=2!"
   ]
  },
  {
   "cell_type": "code",
   "execution_count": 262,
   "id": "21b494b7",
   "metadata": {},
   "outputs": [],
   "source": [
    "# we can use a dictionary to define a 'dataset' whose keys are variable names and values are lists of data\n",
    "dataset = {'y': y, 'X': X, 'error': error}"
   ]
  },
  {
   "cell_type": "code",
   "execution_count": 264,
   "id": "542d274d",
   "metadata": {},
   "outputs": [
    {
     "name": "stdout",
     "output_type": "stream",
     "text": [
      "[-1.188213406851786, 0.4335031048760619, -1.5443039959337006, 0.2524941870368334, -0.4085935047745458, -1.0471093422873332, 0.06566446190500193, 1.0048192911295493, 1.7546361329701596, 0.8091378204029955, 1.3972434746876154, 0.18309189074894935, 0.8367055388978271, -1.288139862609769, -1.252390656942856, -1.4391434623919517, 1.2378657839407654, -0.19102029461230008, 2.0631214860228524, -1.9764152763778613, 0.0849897615866723, 0.16846805525880373, -0.6642828508433662, 0.7564732570351247, -0.45439000834325505, -2.452086665985244, -0.4263297915815941, 2.181395708897847, 0.5144123969508921, -0.11523348567940278, 0.9814694981867499, -0.7616944227472499, -0.3718303340546824, 0.19250710645309127, -0.5224842612624724, -1.703423568112913, -0.5973029195080802, 0.8317792250916585, -1.0903953672907156, 0.6073711907441776, -0.01804194828902454, -0.8556998946222442, -0.20672137629119425, 0.6741061285406553, -0.4593035220867959, -0.92581951525912, -1.2103722479531607, 1.4999173000163784, 0.9187315670163184, -0.31779627801974475, -0.2928008578797161, -1.6013969680441054, -0.6050397980718281, 1.321514786943893, 1.1896707009517418, 0.3393008736600324, 0.2587605453864352, 0.7058361614090464, 0.5604698961264515, -1.1627965800235012, -1.561231745772279, -0.398431103524807, 0.9932122709504776, -1.2539806922084642, -1.6150245472919904, -0.14836995230468195, 1.3716821591491903, 1.439777269576979, -1.2843116440672813, 0.1412727592304053, -0.39889628324049714, -0.7599368279661182, 1.0847464539372889, 0.332523177210135, -0.587344982069897, -0.4739148963828285, 1.4693178843864951, 0.14730127813435612, -0.14456465006973673, 0.18397343432475458, -0.7828068443497049, 1.3940917112375881, -0.4516742885311592, 1.1758439517562824, 1.3217267153888788, 0.2150127513727642, 0.6488123899963888, 1.096679642415653, -0.23745499834601277, 0.0515093122644557, 1.001416833223735, -1.0253898989060561, 0.42717260620208186, -0.42938390036140667, 1.0176563133914713, -1.8379749077781793, -1.7961835655241372, -1.3988404548543065, 0.12291387551525627, -0.8268016943825411, 0.1916624681416234, 0.662768907113162, 0.3724718735068394, 0.1623350567364212, 0.6567529241050772, 0.7649241283926616, 0.08262652097757317, -1.1154686958730302, -1.4006226757694966, 0.5168432237274844, 2.2652154726885714, -0.5560371017811978, -1.6026471827093882, 1.3611856718046622, -0.5375540241966406, 0.5741948212475874, -0.023538535691052853, 0.933393939395535, -1.8851977090160599, 2.460476576572454, 0.8277931357170408, 1.1650986099343545, -0.6758392218332798, -1.8788103811178751, -2.680938642295792, 0.5739961430558735, -0.7744466708572407, 1.5101418918603857, 0.021496073085243046, -1.227347390152159, 0.46868244168095385, 0.09174447404181126, 1.2166379744756168, -0.33476758742810353, 0.18008885103260022, -1.3623879227456652, 0.7582311779539124, -0.8233456765743802, 0.6391311228645107, -0.5250247841515732, 2.3690858034608646, 0.042754626980674636, -0.417530587257792, 0.572445195596664, 0.33582215618042016, -0.5953649135286213, -0.7450574332794555, 2.2985703002579734, 0.8540700031828035, 1.1709136901397512, -0.37350621021567026, 2.5230633348403786, 1.1778792927481458, 1.0829378718514484, 1.8625621419017626, -0.736135688394913, -1.0325470116246698, 0.9092858752977298, 0.8732981494657358, 0.5215728967197955, 0.2991516036297404, 1.9621338134777122, 1.10072216093795, 0.2400631729182947, -0.6340356706301755, 0.09499579193609328, -0.6853348440068288, 0.20914636118451793, -0.5629701018744147, 1.095907381875253, 0.7226523361880264, 0.08444654003532914, -0.9564105573352261, 0.7190444650210898, 0.14712871981589257, 0.37121754380458194, 1.6593375259692738, -2.12881551854745, -1.8850247448050965, 0.021734846136343078, -2.0154523375258497, 0.18107108867759364, -0.1603674987145062, 0.4564132024952237, -0.04202975608401996, 0.7525990763320979, -0.5689356212246169, 0.5479437238931983, -0.560245876400127, -0.03478679385377897, 0.31833819613320147, 0.2948340780689908, -0.23255995470982177, 0.22744494116181804, 0.715354383739963, -1.94797454692171, 0.13598162104365072, -1.7342712512375211, 0.05920023612186283, 0.1191179529066375, 1.352788056351879, 1.690110359600695, -1.1076192216949319, -0.39586286008080057, -1.29894873786753, 0.8988835712213786, 0.2390401035055349, 0.2888847063404489, -1.8414587975694727, 1.5425815136074028, 0.5425527592548088, -0.9538271426176458, -0.4589146535453903, 0.4620368949385244, -0.1731170188215554, 0.1061560133568365, 1.6753050102012141, 0.033946129390800335, 0.21778307940377473, 0.5852728094285331, -0.5459067181132848, 0.06665070911391795, -1.2702828735856697, 0.6855252436082241, 0.08398785444236093, 2.3851262082455382, -1.2870952084061904, -0.8298986092706935, 0.18478253936446232, 1.2886237871027997, -0.32859869508208867, 0.12281173419410499, 2.8770345309371974, -0.09324554666964471, 1.5607669113081175, 1.7613370489630988, -0.5455562455509394, 0.19780431912942806, 0.44581420982017766, 1.8248991968406807, -1.256359028833499, 1.9124930620974347, 1.3366870055525433, 0.8057402771285873, 0.6202087676804533, 1.7728792158144075, -0.5919132223096105, -0.46737248039027507, -1.1684327593711168, 1.0708615397868282, -0.028403215313852398, 0.04798060044549467, 0.2744769169782869, -0.09547570545218877, 0.7250398661459588, 1.3753241755821484, 2.1102899007892826, -1.084584876166285, 0.5060698904675163, 0.8268633375998214, 0.9211946956144853, 0.8961281107783586, 1.3615354242409157, -0.28120941752771617, 0.516658020360491, -0.12491750649154666, -2.4793141653997024, 0.6920274984937214, 0.29168070580425604, -1.0683644590268753, 0.46325735297840165, -0.9149097540331277, -0.10919739549984722, -2.322378716705606, -0.26963855206349396, -1.373056980985282, -0.0280879226590196, 1.555647030361801, 0.655276898157267, 1.2627636509070184, -0.8000525088670415, 1.304798220827742, -0.5670964805988521, 1.7630975956887407, -0.11366659424820928, -0.3168577283401803, -0.0714429851792911, 1.3332874874359475, 0.6486042863079685, 0.5095600637608024, 0.7095251828894161, 0.5333162526161972, -1.4395516793620513, -0.319988711636139, 1.3670696526420172, -1.1877977341070582, 0.35755544578653703, -0.3381948785437209, 0.43151584973920876, -0.7494038194707874, 1.0081653118647458, -0.8491049395480919, 0.4733875328837455, 1.58900051584379, 0.04046174511026208, 0.8155557751674954, 0.3392452084296611, -0.3039459217849804, -0.652161523256697, -0.5091810445106325, 0.6333218754537853, -0.5748438037935164, -0.35968545972141375, -0.34335137114852887, -0.117283186885069, 0.647851945960661, -1.2416669074484945, 1.6113622675857189, -0.6371271947015578, -0.3843156968276312, 1.4622556255837063, -0.19110131238106, -0.9693890489003298, 0.12634959826696446, -0.7605621098841063, -0.7674447190813871, -0.9057453666235675, -0.6505951929537629, 1.237787438841478, -0.523684515762009, 0.7123482671760976, 1.2489389558954256, 1.209421447701162, 2.571555566707264, 1.6179780213462658, 1.5635024086504783, -1.8365696498722484, 0.019487404032819327, -0.6809974573825851, -0.018624288624213097, -0.4985857276994019, -0.5281417337073328, -1.82058177843279, 1.4165619119821324, -0.9818350837196329, -1.1265334583718174, 1.4083942575784638, -0.25863140607044544, 0.4419621774896816, 0.3078249607244873, -1.309446148629652, -0.3731494414942043, 0.7518569753590598, -0.4868959422022063, 0.21124822961308423, 0.4645163233704342, 0.10814286873963937, -0.6746699311220309, -1.8437567544848659, -0.13610305427582722, -0.5939663179501733, -0.19765163841195682, 1.573265593821913, -0.21524941918733725, -0.6937586428336379, -0.21984178134657778, -1.1584437448072324, 0.029835689533884425, -1.475150508877207, -1.018373486206051, 0.31365460089907815, -0.46839030041073915, 2.22243573868581, 0.24851563650323125, -1.0390141889743008, -0.501256595853747, -0.5266588082979768, -2.2316415232175086, -1.6364984566238263, -1.460140937483542, 0.12314510370373796, 1.3805871581207598, 0.996324352927078, -1.2373364800818623, -0.8802648931484476, -0.15786932588043368, 1.3597558562972394, 0.617238618280906, 0.8580746431063363, 1.1796733545330096, 0.22684726133475824, -2.56668346836951, 0.5927231311189799, 0.7545610224651005, -0.20199976343102755, -0.008870316303585462, 0.0012304515817239208, -0.29724765075251164, 0.8542265022902081, -0.3921383541738056, -1.6685838813444152, -0.9721431933954977, -0.9969615871064188, 0.2699868221494783, 0.4160517169716928, -0.3406606119602409, -0.12027433899099446, -0.513615106704877, -0.48228910798697044, -1.1591547628945527, 0.8752606903496324, -0.014035597210875996, -1.51950215414221, -0.5393109359126684, 0.3141427282069216, -0.7254121784865626, -2.173337174505407, -0.7975025160851535, 0.525957503033439, 0.20855836293862134, -2.86295599735825, -0.5062412491438688, 0.04370243222209972, -0.5245708167362484, -1.1681536432179613, 0.23205755165614672, -0.20036452249806413, -0.8928654821212382, -0.6316562699102604, -0.393518724334047, -0.33184840781605324, -1.250177665698457, 0.3183436695283754, -0.2828986327573821, 0.3694711469543536, -0.21620532643150295, 0.07607783348868119, 1.1596491016257242, -0.3287901312134207, -0.28389623792332036, 0.4954041297870471, 0.21030011892469114, 0.5191950414076077, -1.9157907061799995, 1.2841910024253294, -0.26782108656462017, 0.8897787685293008, 0.6487740322381814, 0.9894215469935883, -0.6597736791725657, -2.3651536360040355, 0.7814680859897136, 0.08526685299704735, 0.014585907285754686, 0.8731345911936519, 1.4011320107716168, 0.5750537549380287, -0.069129550938437, 0.35670093869669534, 0.3216715885818597, 0.9440760272433503, 0.046316981729318, -0.305456040075568, 1.4952819965318787, -1.4189075762491814, -0.3575908072069676, 0.15933037850751303, 0.8447155210990911, 1.2771173563254583, 0.22506926399577334, 0.5138619577447933, 1.0442167517249559, -1.2292898971587967, -0.48122350035834033, -0.8688444853471644, 1.2943363157147818, -0.5436656199379, 0.9371693579559234, -0.9418016106447492, 0.03390183465896467, 0.03446586310655709, -0.08777829597705424, 0.2219122631550369, 0.3527620378849038, -1.6401151545047457, -0.22829370591709808, 1.3046121989935666, 1.410758222984417, -0.20335969680996413, -1.023802322105915, -0.5586482614294038, 1.3181604653649543, -0.9694039553295134, 1.200603729759714, 1.2619261030923778, 1.1276356977006505, -0.41964645692856173, 0.3319739143659198, -0.6497692097922956, -0.4411152248229171, 0.020827080639709197, -1.1338807670678859, 1.0770399016657055, 0.5813745269179922, -0.5187813419069168, -0.38162838005065847, 0.2655147462097577, -0.24096684437310795, 0.2728210014542931, -0.4675932273411452, 0.2798223752524441, 1.3816872869576737, -0.14035558821567154, -0.4754974596755735, -0.48983137918114045, -0.8160017908110083, 0.10964444406430261, 0.24563402346106908, 0.7394490435481955, -2.0975901306346643, -0.3694148217964477, -1.2046577825347302, -0.5881976549027286, 0.696975281641744, 0.9927412787215126, 1.169900801157279, -0.20516015793360906, 0.8444860857880033, -0.5155908290783865, 0.32098665230584605, 1.2529427739761665, -0.762270840352711, -1.2996520535178198, 1.2747050190209468, 0.6487203302187696, -0.32987385887924175, -2.0714080876364256, 0.2833867383295922, 0.9679504676045555, 0.04208331289689886, 1.9842459217399488, 0.5106208675789683, 0.3274089614727166, 0.028840906341496213, 0.03532683146433886, 0.1543530839024972, 0.0901933992253343, -0.595778537844784, 0.7054420064638216, 1.6332344646426284, 0.4442982056526819, 0.6680206098833322, 0.33489679078546697, 0.7728256855222696, -0.4457813782766556, -0.8642327163733894, -1.0321751683416023, -1.388933952507549, -1.326185528578112, -0.02766704415788112, -0.8516581201132181, -0.07766909665206087, -0.21330738179547387, 2.2039044548203095, 1.016276163410279, 0.12304578127417669, -0.9462853259702387, 0.8864769572767787, -0.8765306960681029, -0.7965406073039294, 0.8256455188759753, 1.216232468444659, -0.6899373109487705, -1.5888200196862068, 1.5305560258749995, 0.4077403165548882, -0.5161865338424484, -1.2152811364351863, -0.8542797565901039, -1.7116786686449839, 1.5670675430119476, -0.28964754935509573, -0.6877948396999263, -1.1922637458755165, 0.19938935898526317, 0.9287542844829813, 0.7967684631879016, 0.07408256647712443, -2.3066093491255475, 0.41397070638663475, 0.7089618024855039, -0.10784795685412499, -0.6351142187042188, -0.27252657139428577, -0.9521335859205018, -1.7918898339257465, 0.8825348966430306, -0.43882274635191, -0.0843368318770924, 1.4486098202189024, -1.2235527042733794, 0.933057857832895, 0.3061456262552546, 0.008156243654735704, 1.0869519920347912, 0.6303392499320077, 0.17200731253491122, 0.11968884286745708, -1.041933319571386, 0.749537892062962, 1.1012623711307934, -1.5263739421576512, -0.7055624399894111, -0.3382928907136766, -0.9540662716531715, 0.11426701766747532, 1.1419518966447002, -0.7620087452666141, 0.45376814526565984, 0.8063235985137751, -0.6596258991983207, 1.1934456226635197, 0.12419535696374151, -1.0145530663106075, -0.2718957237794248, 1.6798846928390028, -0.09148525111661882, 1.9150623594872032, 0.617181338609818, 1.5119167295299905, 0.6156614783841642, 1.5435983345599815, -0.3672766821636696, 0.9622265520366746, 0.5659434746249347, 0.8992083637739576, 1.0527622207333633, -1.0102649391343488, 0.7916075087440201, 2.3491759754100974, 2.45207542730115, -1.2601708474555147, -0.48510051431855417, 0.5568164836719232, -0.9701924948854342, 1.445186192168761, 0.00039450960586689656, 0.373613975257787, -2.388784401781374, -2.3154638348680296, -0.6768456380170618, 0.5491007501258822, 0.020903594560456498, -0.32934361135802087, -0.120692776401203, 0.2746800449063502, -0.8388687971187161, -1.4112498974724341, -1.6383805618557885, 0.4390318044307898, -0.27675898743951177, -0.7073937191572226, -0.03104706903090869, 0.7658054877478059, -0.720172579404062, -0.18269849970222718, 0.08771290530271945, 0.9497720394568384, -1.0844769118307613, 1.4371710602604542, -1.513146850973542, 1.702820763016438, 0.3320210552127391, -2.86580112588941, 0.3712424520292382, -0.9877584365618566, 0.4399564971681767, -1.7452504731398344, -0.12102212852558775, 0.3302132578303029, -0.17321132540592865, -0.18057415750932437, -2.0046338033495528, -0.5034770204423467, -1.3467505533690043, -0.2908118519018104, -0.1238305876385729, 0.5181472208854137, -0.7881135267015732, 0.10249792017933904, 0.20082653782773768, 0.23957787527520047, -0.173364896776247, -0.3175948123043685, 0.05568275893310987, 0.25166600293382135, -0.048266633805813315, -0.3249398293679642, 1.7242672569017132, -0.35430210018922215, 1.5397648529898036, 0.45107299330620965, -0.5103409367955639, 0.10239964346286994, -1.059612337913444, -1.1701669438406819, 0.5475292727574427, 0.316972303463102, -2.070434095575514, 0.1060163346154559, -0.7572762159764155, -0.9964453603111572, 1.5821831467833114, 0.019262583300452277, -1.5481434494851303, 1.824220126344752, -1.0687474371590169, -0.24883697020346285, 0.11907437347766685, -0.8419558143074398, 0.21998051978745334, 0.41719343033145717, 0.9297693007432839, 0.4439826873013533, 1.6544689888218007, 0.7574366122270705, -1.3342790698064269, 1.7836347643472839, -0.6767474076602362, 0.4916260981890598, 2.11358900304075, 0.5486725563861596, -0.5078515311714168, -0.3220453329157843, 0.0031718359134576316, -1.0287157952441557, -0.3022619271696532, -0.21861689826971548, 0.38812749689845816, 0.22475944977068713, 1.1731207338451426, -0.4504949428673432, -1.1407934915748361, -1.0791527922923871, -0.2382670992387283, -1.1976086953387475, 2.6598458840589445, 0.6385313553719144, -0.29209175662620107, 0.058677530813900786, -0.25139250363725074, 0.27365245437756913, -0.269008566072988, -0.6592155108989249, 1.2529435590102065, -1.3139648448127574, -0.018371002747989324, -0.9757486719668951, 0.8253951940421195, 0.40849301850456227, 1.028758959573789, 1.8984242264477384, -0.010307886042149706, -0.6999635884572779, -0.29718732935409614, 0.2461634770609309, 0.7251092954245785, 2.313559858970874, -0.23481544405989127, 0.29477816394693657, 0.6489639656218413, 0.09864064164881722, 0.47072358955512583, -0.6973277934768168, -0.7078759108178106, 1.742637423021977, -0.4551668942937755, -0.01803402748937411, -1.2540272417714058, 0.5017868688652608, -0.3784665792884967, 0.752281740657756, 0.1094422475115046, -0.34001364765782793, 0.6186326280189548, -0.4873708359052093, 0.7184253509507561, 0.8392472830798073, -0.46261193064153294, -1.0724700574907169, -2.2402627701866633, 0.10573815646310726, 1.4261753594574238, -0.07048061873880891, 0.7275495532889972, 2.6379808621235306, 1.0713809378961583, 0.8002036074898656, -0.5312061819877466, 0.28141556995020983, -0.8719978693086513, -0.7888127796469836, -0.7319831640771437, -1.1616610504361091, -0.6221647250596709, -0.04928117003789439, 0.8229056421410771, -0.65510249250777, -0.08976519971075177, 0.004329470183744966, -0.23038103484785108, 0.8846629019710537, -1.2049222440124698, -1.0677033209020064, -1.5537989993192272, -0.5981716114852315, -0.6362383696212989, -0.23646774765065237, -0.799293546697222, -0.550350239091344, 0.7235053425431922, -1.2235753648682806, -0.743503283275995, -0.46187957416275416, 0.5732290304576262, -0.6990214696886731, 0.12567723991278085, -0.003514078131463079, 1.7247110871382207, -0.724715513595538, 0.22748287727896777, 2.255205932707251, -2.0609991305736175, -1.8871986921276842, 0.6135335725091807, 1.4079189059894073, 1.9049018023564237, 0.05676470376267719, 0.9406671080501579, 0.19700630825488552, -0.5402610431727086, -0.22898095361067555, 0.2539892621508862, 1.900548428597593, -0.8059460826266821, 2.0766993820386146, 1.4937291319812915, 1.0728399708009453, 0.2723392840865633, 0.5591081218002597, -0.8378283805567569, -0.7437198369457482, -0.2900840504925592, -1.0297367721358586, -0.01986544048150028, 0.7540137571478948, 0.09486343928229393, -0.07122008583328761, 1.1717650805848936, 1.291681876859541, -2.0438961928300947, -2.353582439509805, 0.2651979677401872, -0.3907323291295995, -0.10375240557970089, -0.825375857705587, -1.2150088151902294, 0.44971423798431454, 0.12722361694212433, 0.1402152682872668, 0.40950600121305064, -0.6056312030938398, -0.7750991247589054, -0.9884448185348972, 0.6160260173450587, -1.693774023687019, -0.018292174389681816, -1.0501674520431055, -0.7557615881302981, 0.22338965033162, -0.22450408475096748, 0.0543336640137514, -0.15075302376374483, 1.6011224101664232, 1.6126211137881186, 0.433979792951496, -2.001167632110842, -0.06408996183491411, -0.9428202042603323, -0.8861661379301192, 0.27843456775240794, 1.1535865879379092, -0.5028101490628142, 1.4551479041204143, -0.6720902078626549, -0.6358450811357248, 0.022920716371289673, -1.2069134548477813, -0.26031849607485785, -0.27097972419011895, -0.7555017412045568, -0.9143625085365783, -1.0052199603385357, 1.1659893344596266, 1.042578060627288, 1.4699440886735426, -0.40360645453276556, -1.7519433893903347, 1.779565775326942, 0.8762532776344119, 0.36045883937163203, 0.499458844353823, -1.4092727534811578, 0.24255332585228567, 1.1150228771990462, -1.164310771180282, -0.4754845256223093, -0.3705820811207944, 1.65303078239138, -1.1245745617937766, 0.11659352815230403, -0.3241943088493432, 0.7017101534201622, 2.3359751170771683, 0.14540519704561147, -0.16067988875837572, 1.5365196926968743, -1.2021791484901612, -0.7830335064328389, -0.08420524629864208, -2.256206319095697, -1.5106191186704792, 0.6078525980722326, -0.0428120867048032, 1.6937793035723847, 1.105677405027726, -1.1897814980823265, 1.141723055445305, 0.38832818470465097, 0.9626860845207141, 1.3826641629359135, -0.5354160920677993, -1.2631137355792048, -0.4231251583690956, 0.07591992652038024, 0.23879340492880213, 1.8689732000489236, -1.5487917721447189, 0.00574732266886347, -0.7150304372311775, -1.729827258602026, -0.937612867797004, -1.542275352962556, 1.3152662239342598, 0.04200711033101634, 1.4645977988917844, 1.6952730548671, -1.1813669189009302, 0.7784464686281487, 0.1451086620574111, -2.111556218645311, 0.43786457498971804, -0.5015292562824399, 2.2710834655383096, 0.88624726392011, 0.33896751752668586, 0.7972926562585018, 0.22564346009887362, -0.28201829267962547, -1.3071580076544649, 1.2757589659756492, -0.1459719952856636, 1.1041321243873177, -1.502163850058373, -0.6142675407459832, 0.06069813622326081, -0.016496741096589374, 1.1631902475383709, 1.2430449753608819, 2.3684813143174943, -0.6029948924058435, -1.099388812599466, 0.9540083771134608, 0.5419505447356927, 3.9055387580793983, -2.3412389411674894, 1.1979546670434298, 0.9971786718919591, 0.11484240975847103, 1.233758524425818, 0.34601732478167885, -0.9730474372197597, -0.358828519217277, 2.668267532022426, 0.7862712731897196, 2.994942639906419, 0.21020225856884933, 0.7080666166355823, -2.7162797934551586, 0.6221658481835083]\n",
      "this is just the 6th element of X -1.0471093422873332\n"
     ]
    }
   ],
   "source": [
    "# with dicts, recall that we can pull values using the keys for indexing:\n",
    "print(dataset['X'])\n",
    "# and we can note that the value associated with dataset's key 'X' is, itself, a list, and index into that as well:\n",
    "print('this is just the 6th element of X', dataset['X'][5])"
   ]
  },
  {
   "cell_type": "code",
   "execution_count": 265,
   "id": "6322a605",
   "metadata": {},
   "outputs": [],
   "source": [
    "# if we want to add new data to the dictionary, we can 'update' the dictionary (it's like list's 'append' method)\n",
    "X_2 = []\n",
    "for i in range(0,1000):\n",
    "    X_2.append(random.normalvariate(0,10))  # ~N(0,10)\n",
    "dataset.update({'X_2': X_2})"
   ]
  },
  {
   "cell_type": "code",
   "execution_count": 267,
   "id": "3de9d601",
   "metadata": {},
   "outputs": [
    {
     "data": {
      "text/plain": [
       "{'y': 'junk', 'X': 5, 'error': 42.0, 'X_2': 'destroyed our dataset'}"
      ]
     },
     "execution_count": 267,
     "metadata": {},
     "output_type": "execute_result"
    }
   ],
   "source": [
    "# keys must be unique! so if you try to update but the key already exists, it'll overwrite it without warning\n",
    "dataset.update({'y': 'junk'})\n",
    "dataset.update({'X': 5})\n",
    "dataset.update({'error': 42.0})\n",
    "dataset.update({'X_2': 'destroyed our dataset'})\n",
    "\n",
    "dataset"
   ]
  },
  {
   "cell_type": "code",
   "execution_count": null,
   "id": "ed7f98cb",
   "metadata": {},
   "outputs": [],
   "source": [
    "# we want to formalize the dataset structure and give it some additional functionality\n",
    "# for example, we might want to quickly update the dataset with a new column of data without needing to use dict's .update method\n",
    "# we might also want to prevent the dataset's key:value pair from being overwritten if we try to update with an existing varname\n",
    "# in dictionary form, if we want to plot a scatter with e.g. X and y, we need to do indexing:\n",
    "    # sns.scatterplot(dataset['y'], dataset['X'])\n",
    "# let's try to streamline the idea of a dataset by creating a DataFrame -class-\n",
    "# classes allow us to define class-specific -methods-, or functions that pertain only to the class\n",
    "# for example, below we'll define an append_column method. you can't append_column on e.g. the class <int> or <float>; only\n",
    "    # class <DataFrame>"
   ]
  },
  {
   "cell_type": "code",
   "execution_count": 297,
   "id": "640a9cba",
   "metadata": {},
   "outputs": [],
   "source": [
    "class DataFrame():  \n",
    "    '''This formalizes a dictionary, whose keys are variable names and whose values are lists of data.\n",
    "    We don't yet know everything we'll want to do with a dataset dictionary, so it's safe to create a class that\n",
    "    future-proofs us.'''\n",
    "    \n",
    "    # 'self' shows up a lot; don't worry about it for now\n",
    "    def __init__(self):  # this is the DataFrame class' initialization \"method\" (method = function, for a class)\n",
    "        self.dataset = {}\n",
    "    \n",
    "    def append_column(self, list_of_data, column_name):\n",
    "        '''Accepts a list of data to pass in to the dataset with the associated column_name.'''\n",
    "        # check arguments\n",
    "        # 1.) verify that the list_of_data is of the correct type (just like for SE)\n",
    "        self.verify_datatype(list_of_data)\n",
    "        # 2.) -prevent- the user from appending the column of data if the column_name is already in use in dataset\n",
    "        if column_name in self.dataset.keys():\n",
    "            raise NameError('column_name \\'{column_name}\\' already exists in dataset.'.format(column_name=column_name))\n",
    "            \n",
    "        # main functionality\n",
    "        self.dataset.update({column_name: list_of_data})\n",
    "        \n",
    "    def verify_datatype(self, list_of_data):\n",
    "        '''Ensures the list_of_data being passed in is in 'proper' format (just like for our SE function).'''\n",
    "        if not isinstance(list_of_data,list):\n",
    "            raise TypeError('list_of_data must be a list.')\n",
    "        for x_i in list_of_data:\n",
    "            if not (isinstance(x_i,int) or isinstance(x_i,float)):\n",
    "                raise TypeError('Element \\'{x_i}\\' of list_of_data needs to be of class <int> or <float>. Type {type_xi} is not allowed.'.format(x_i=x_i,type_xi=type(x_i)))\n",
    "        if len(list_of_data)<=1:\n",
    "            raise ValueError('list_of_data cannot be < len 2.')\n",
    "            \n",
    "    def create_scatterplot(self, list_1, list_2):\n",
    "        X_data = self.dataset[list_1]\n",
    "        y_data = self.dataset[list_2]\n",
    "        sns.scatterplot(X_data, y_data)"
   ]
  },
  {
   "cell_type": "code",
   "execution_count": 298,
   "id": "a18410e0",
   "metadata": {},
   "outputs": [],
   "source": [
    "# we can \"instantiate an instance of the class DataFrame\":\n",
    "my_dataframe = DataFrame()"
   ]
  },
  {
   "cell_type": "code",
   "execution_count": 299,
   "id": "eca6788d",
   "metadata": {},
   "outputs": [],
   "source": [
    "my_dataframe.append_column(y, 'y')\n",
    "my_dataframe.append_column(X, 'X')"
   ]
  },
  {
   "cell_type": "code",
   "execution_count": 300,
   "id": "6595bf03",
   "metadata": {},
   "outputs": [
    {
     "ename": "NameError",
     "evalue": "column_name 'y' already exists in dataset.",
     "output_type": "error",
     "traceback": [
      "\u001b[1;31m---------------------------------------------------------------------------\u001b[0m",
      "\u001b[1;31mNameError\u001b[0m                                 Traceback (most recent call last)",
      "Input \u001b[1;32mIn [300]\u001b[0m, in \u001b[0;36m<cell line: 1>\u001b[1;34m()\u001b[0m\n\u001b[1;32m----> 1\u001b[0m \u001b[43mmy_dataframe\u001b[49m\u001b[38;5;241;43m.\u001b[39;49m\u001b[43mappend_column\u001b[49m\u001b[43m(\u001b[49m\u001b[43my\u001b[49m\u001b[43m,\u001b[49m\u001b[43m \u001b[49m\u001b[38;5;124;43m'\u001b[39;49m\u001b[38;5;124;43my\u001b[39;49m\u001b[38;5;124;43m'\u001b[39;49m\u001b[43m)\u001b[49m\n",
      "Input \u001b[1;32mIn [297]\u001b[0m, in \u001b[0;36mDataFrame.append_column\u001b[1;34m(self, list_of_data, column_name)\u001b[0m\n\u001b[0;32m     15\u001b[0m \u001b[38;5;66;03m# 2.) -prevent- the user from appending the column of data if the column_name is already in use in dataset\u001b[39;00m\n\u001b[0;32m     16\u001b[0m \u001b[38;5;28;01mif\u001b[39;00m column_name \u001b[38;5;129;01min\u001b[39;00m \u001b[38;5;28mself\u001b[39m\u001b[38;5;241m.\u001b[39mdataset\u001b[38;5;241m.\u001b[39mkeys():\n\u001b[1;32m---> 17\u001b[0m     \u001b[38;5;28;01mraise\u001b[39;00m \u001b[38;5;167;01mNameError\u001b[39;00m(\u001b[38;5;124m'\u001b[39m\u001b[38;5;124mcolumn_name \u001b[39m\u001b[38;5;130;01m\\'\u001b[39;00m\u001b[38;5;132;01m{column_name}\u001b[39;00m\u001b[38;5;130;01m\\'\u001b[39;00m\u001b[38;5;124m already exists in dataset.\u001b[39m\u001b[38;5;124m'\u001b[39m\u001b[38;5;241m.\u001b[39mformat(column_name\u001b[38;5;241m=\u001b[39mcolumn_name))\n\u001b[0;32m     19\u001b[0m \u001b[38;5;66;03m# main functionality\u001b[39;00m\n\u001b[0;32m     20\u001b[0m \u001b[38;5;28mself\u001b[39m\u001b[38;5;241m.\u001b[39mdataset\u001b[38;5;241m.\u001b[39mupdate({column_name: list_of_data})\n",
      "\u001b[1;31mNameError\u001b[0m: column_name 'y' already exists in dataset."
     ]
    }
   ],
   "source": [
    "my_dataframe.append_column(y, 'y')"
   ]
  },
  {
   "cell_type": "code",
   "execution_count": 301,
   "id": "c487c1d5",
   "metadata": {},
   "outputs": [
    {
     "ename": "TypeError",
     "evalue": "list_of_data must be a list.",
     "output_type": "error",
     "traceback": [
      "\u001b[1;31m---------------------------------------------------------------------------\u001b[0m",
      "\u001b[1;31mTypeError\u001b[0m                                 Traceback (most recent call last)",
      "Input \u001b[1;32mIn [301]\u001b[0m, in \u001b[0;36m<cell line: 1>\u001b[1;34m()\u001b[0m\n\u001b[1;32m----> 1\u001b[0m \u001b[43mmy_dataframe\u001b[49m\u001b[38;5;241;43m.\u001b[39;49m\u001b[43mappend_column\u001b[49m\u001b[43m(\u001b[49m\u001b[38;5;124;43m'\u001b[39;49m\u001b[38;5;124;43mthis is bad data; we need a list (and a proper one!)\u001b[39;49m\u001b[38;5;124;43m'\u001b[39;49m\u001b[43m,\u001b[49m\u001b[43m \u001b[49m\u001b[38;5;124;43m'\u001b[39;49m\u001b[38;5;124;43mbad_data\u001b[39;49m\u001b[38;5;124;43m'\u001b[39;49m\u001b[43m)\u001b[49m\n",
      "Input \u001b[1;32mIn [297]\u001b[0m, in \u001b[0;36mDataFrame.append_column\u001b[1;34m(self, list_of_data, column_name)\u001b[0m\n\u001b[0;32m     11\u001b[0m \u001b[38;5;124;03m'''Accepts a list of data to pass in to the dataset with the associated column_name.'''\u001b[39;00m\n\u001b[0;32m     12\u001b[0m \u001b[38;5;66;03m# check arguments\u001b[39;00m\n\u001b[0;32m     13\u001b[0m \u001b[38;5;66;03m# 1.) verify that the list_of_data is of the correct type (just like for SE)\u001b[39;00m\n\u001b[1;32m---> 14\u001b[0m \u001b[38;5;28;43mself\u001b[39;49m\u001b[38;5;241;43m.\u001b[39;49m\u001b[43mverify_datatype\u001b[49m\u001b[43m(\u001b[49m\u001b[43mlist_of_data\u001b[49m\u001b[43m)\u001b[49m\n\u001b[0;32m     15\u001b[0m \u001b[38;5;66;03m# 2.) -prevent- the user from appending the column of data if the column_name is already in use in dataset\u001b[39;00m\n\u001b[0;32m     16\u001b[0m \u001b[38;5;28;01mif\u001b[39;00m column_name \u001b[38;5;129;01min\u001b[39;00m \u001b[38;5;28mself\u001b[39m\u001b[38;5;241m.\u001b[39mdataset\u001b[38;5;241m.\u001b[39mkeys():\n",
      "Input \u001b[1;32mIn [297]\u001b[0m, in \u001b[0;36mDataFrame.verify_datatype\u001b[1;34m(self, list_of_data)\u001b[0m\n\u001b[0;32m     23\u001b[0m \u001b[38;5;124;03m'''Ensures the list_of_data being passed in is in 'proper' format (just like for our SE function).'''\u001b[39;00m\n\u001b[0;32m     24\u001b[0m \u001b[38;5;28;01mif\u001b[39;00m \u001b[38;5;129;01mnot\u001b[39;00m \u001b[38;5;28misinstance\u001b[39m(list_of_data,\u001b[38;5;28mlist\u001b[39m):\n\u001b[1;32m---> 25\u001b[0m     \u001b[38;5;28;01mraise\u001b[39;00m \u001b[38;5;167;01mTypeError\u001b[39;00m(\u001b[38;5;124m'\u001b[39m\u001b[38;5;124mlist_of_data must be a list.\u001b[39m\u001b[38;5;124m'\u001b[39m)\n\u001b[0;32m     26\u001b[0m \u001b[38;5;28;01mfor\u001b[39;00m x_i \u001b[38;5;129;01min\u001b[39;00m list_of_data:\n\u001b[0;32m     27\u001b[0m     \u001b[38;5;28;01mif\u001b[39;00m \u001b[38;5;129;01mnot\u001b[39;00m (\u001b[38;5;28misinstance\u001b[39m(x_i,\u001b[38;5;28mint\u001b[39m) \u001b[38;5;129;01mor\u001b[39;00m \u001b[38;5;28misinstance\u001b[39m(x_i,\u001b[38;5;28mfloat\u001b[39m)):\n",
      "\u001b[1;31mTypeError\u001b[0m: list_of_data must be a list."
     ]
    }
   ],
   "source": [
    "my_dataframe.append_column('this is bad data; we need a list (and a proper one!)', 'bad_data')"
   ]
  },
  {
   "cell_type": "code",
   "execution_count": 302,
   "id": "c637f632",
   "metadata": {},
   "outputs": [
    {
     "data": {
      "image/png": "[encoded data removed]",
      "text/plain": [
       "<Figure size 432x288 with 1 Axes>"
      ]
     },
     "metadata": {
      "needs_background": "light"
     },
     "output_type": "display_data"
    }
   ],
   "source": [
    "my_dataframe.create_scatterplot('X', 'y')"
   ]
  },
  {
   "cell_type": "code",
   "execution_count": 305,
   "id": "01b4c8f9",
   "metadata": {},
   "outputs": [
    {
     "name": "stdout",
     "output_type": "stream",
     "text": [
      "0.03232412674726553\n"
     ]
    }
   ],
   "source": [
    "# we can view a specific slice of the dataset like this:\n",
    "my_dataframe.dataset['X']\n",
    "# and we can even use our global function compute_std_error on it\n",
    "compute_std_error(my_dataframe.dataset['X'])"
   ]
  },
  {
   "cell_type": "code",
   "execution_count": 306,
   "id": "7720a4da",
   "metadata": {},
   "outputs": [],
   "source": [
    "# now that we have our nice DataFrame class, let's instantiate another one!\n",
    "error2 = [random.normalvariate(0,1) for i in range(0,1000)]  # this is a 'list comprehension', which we'll see on Day 4\n",
    "X2 = [random.normalvariate(0,5) for i in range(0,1000)]\n",
    "y2 = [((0.5*x_i**2) + (2*x_i) + e_i) for (x_i,e_i) in zip(X2,error2)]  # zip() method lets us walk through multiple lists simultaneously"
   ]
  },
  {
   "cell_type": "code",
   "execution_count": 309,
   "id": "57c442aa",
   "metadata": {},
   "outputs": [],
   "source": [
    "my_dataframe2 = DataFrame()\n",
    "my_dataframe2.append_column(y2, 'y')\n",
    "my_dataframe2.append_column(X2, 'X')\n",
    "my_dataframe2.append_column(error2, 'error')"
   ]
  },
  {
   "cell_type": "code",
   "execution_count": 310,
   "id": "deebf0ba",
   "metadata": {},
   "outputs": [
    {
     "name": "stderr",
     "output_type": "stream",
     "text": [
      "C:\\Users\\ethan\\anaconda3\\lib\\site-packages\\seaborn\\_decorators.py:36: FutureWarning: Pass the following variables as keyword args: x, y. From version 0.12, the only valid positional argument will be `data`, and passing other arguments without an explicit keyword will result in an error or misinterpretation.\n",
      "  warnings.warn(\n"
     ]
    },
    {
     "data": {
      "image/png": "[encoded data removed]",
      "text/plain": [
       "<Figure size 432x288 with 1 Axes>"
      ]
     },
     "metadata": {
      "needs_background": "light"
     },
     "output_type": "display_data"
    }
   ],
   "source": [
    "my_dataframe2.create_scatterplot('X', 'y')"
   ]
  },
  {
   "cell_type": "code",
   "execution_count": 311,
   "id": "17fe924b",
   "metadata": {},
   "outputs": [],
   "source": [
    "# you can imagine how many bits of helpful functionality we could add to our DataFrame class to make our lives easier\n",
    "# fortunately, a team has already done this for many years with their own DataFrame class\n",
    "import pandas as pd"
   ]
  },
  {
   "cell_type": "code",
   "execution_count": 312,
   "id": "d88324d4",
   "metadata": {},
   "outputs": [],
   "source": [
    "dataframe = pd.DataFrame([X,y])"
   ]
  },
  {
   "cell_type": "code",
   "execution_count": 313,
   "id": "927a687a",
   "metadata": {},
   "outputs": [
    {
     "data": {
      "text/html": [
       "<div>\n",
       "<style scoped>\n",
       "    .dataframe tbody tr th:only-of-type {\n",
       "        vertical-align: middle;\n",
       "    }\n",
       "\n",
       "    .dataframe tbody tr th {\n",
       "        vertical-align: top;\n",
       "    }\n",
       "\n",
       "    .dataframe thead th {\n",
       "        text-align: right;\n",
       "    }\n",
       "</style>\n",
       "<table border=\"1\" class=\"dataframe\">\n",
       "  <thead>\n",
       "    <tr style=\"text-align: right;\">\n",
       "      <th></th>\n",
       "      <th>0</th>\n",
       "      <th>1</th>\n",
       "      <th>2</th>\n",
       "      <th>3</th>\n",
       "      <th>4</th>\n",
       "      <th>5</th>\n",
       "      <th>6</th>\n",
       "      <th>7</th>\n",
       "      <th>8</th>\n",
       "      <th>9</th>\n",
       "      <th>...</th>\n",
       "      <th>990</th>\n",
       "      <th>991</th>\n",
       "      <th>992</th>\n",
       "      <th>993</th>\n",
       "      <th>994</th>\n",
       "      <th>995</th>\n",
       "      <th>996</th>\n",
       "      <th>997</th>\n",
       "      <th>998</th>\n",
       "      <th>999</th>\n",
       "    </tr>\n",
       "  </thead>\n",
       "  <tbody>\n",
       "    <tr>\n",
       "      <th>0</th>\n",
       "      <td>-1.188213</td>\n",
       "      <td>0.433503</td>\n",
       "      <td>-1.544304</td>\n",
       "      <td>0.252494</td>\n",
       "      <td>-0.408594</td>\n",
       "      <td>-1.047109</td>\n",
       "      <td>0.065664</td>\n",
       "      <td>1.004819</td>\n",
       "      <td>1.754636</td>\n",
       "      <td>0.809138</td>\n",
       "      <td>...</td>\n",
       "      <td>0.346017</td>\n",
       "      <td>-0.973047</td>\n",
       "      <td>-0.358829</td>\n",
       "      <td>2.668268</td>\n",
       "      <td>0.786271</td>\n",
       "      <td>2.994943</td>\n",
       "      <td>0.210202</td>\n",
       "      <td>0.708067</td>\n",
       "      <td>-2.716280</td>\n",
       "      <td>0.622166</td>\n",
       "    </tr>\n",
       "    <tr>\n",
       "      <th>1</th>\n",
       "      <td>-3.040182</td>\n",
       "      <td>3.669111</td>\n",
       "      <td>-2.931446</td>\n",
       "      <td>0.544249</td>\n",
       "      <td>-0.384014</td>\n",
       "      <td>-2.250336</td>\n",
       "      <td>-0.598773</td>\n",
       "      <td>2.981205</td>\n",
       "      <td>1.587534</td>\n",
       "      <td>1.571394</td>\n",
       "      <td>...</td>\n",
       "      <td>1.304637</td>\n",
       "      <td>-1.921803</td>\n",
       "      <td>0.653994</td>\n",
       "      <td>6.394806</td>\n",
       "      <td>0.809714</td>\n",
       "      <td>3.817155</td>\n",
       "      <td>0.765616</td>\n",
       "      <td>2.251192</td>\n",
       "      <td>-5.198857</td>\n",
       "      <td>1.423773</td>\n",
       "    </tr>\n",
       "  </tbody>\n",
       "</table>\n",
       "<p>2 rows × 1000 columns</p>\n",
       "</div>"
      ],
      "text/plain": [
       "        0         1         2         3         4         5         6    \\\n",
       "0 -1.188213  0.433503 -1.544304  0.252494 -0.408594 -1.047109  0.065664   \n",
       "1 -3.040182  3.669111 -2.931446  0.544249 -0.384014 -2.250336 -0.598773   \n",
       "\n",
       "        7         8         9    ...       990       991       992       993  \\\n",
       "0  1.004819  1.754636  0.809138  ...  0.346017 -0.973047 -0.358829  2.668268   \n",
       "1  2.981205  1.587534  1.571394  ...  1.304637 -1.921803  0.653994  6.394806   \n",
       "\n",
       "        994       995       996       997       998       999  \n",
       "0  0.786271  2.994943  0.210202  0.708067 -2.716280  0.622166  \n",
       "1  0.809714  3.817155  0.765616  2.251192 -5.198857  1.423773  \n",
       "\n",
       "[2 rows x 1000 columns]"
      ]
     },
     "execution_count": 313,
     "metadata": {},
     "output_type": "execute_result"
    }
   ],
   "source": [
    "dataframe"
   ]
  },
  {
   "cell_type": "code",
   "execution_count": null,
   "id": "20055337",
   "metadata": {},
   "outputs": [],
   "source": [
    "# this is probably not what we expected / hoped for; maybe we wanted 1000 rows x 2 columns, with named columns X and y\n",
    "# we'll see how to work with pandas on Day 4. this is perhaps one of the most important packages you'll work with, so it\n",
    "# warrants special attention."
   ]
  }
 ],
 "metadata": {
  "kernelspec": {
   "display_name": "Python 3 (ipykernel)",
   "language": "python",
   "name": "python3"
  },
  "language_info": {
   "codemirror_mode": {
    "name": "ipython",
    "version": 3
   },
   "file_extension": ".py",
   "mimetype": "text/x-python",
   "name": "python",
   "nbconvert_exporter": "python",
   "pygments_lexer": "ipython3",
   "version": "3.9.12"
  }
 },
 "nbformat": 4,
 "nbformat_minor": 5
}
