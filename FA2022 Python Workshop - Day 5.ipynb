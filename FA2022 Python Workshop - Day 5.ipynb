{
 "cells": [
  {
   "cell_type": "code",
   "execution_count": 12,
   "id": "f2ea3b1d",
   "metadata": {},
   "outputs": [],
   "source": [
    "import statsmodels.api as sm\n",
    "df = sm.datasets.grunfeld.load_pandas().data"
   ]
  },
  {
   "cell_type": "code",
   "execution_count": 13,
   "id": "d1195536",
   "metadata": {},
   "outputs": [
    {
     "data": {
      "text/plain": [
       "pandas.core.frame.DataFrame"
      ]
     },
     "execution_count": 13,
     "metadata": {},
     "output_type": "execute_result"
    }
   ],
   "source": [
    "type(df)"
   ]
  },
  {
   "cell_type": "code",
   "execution_count": 16,
   "id": "47ac670f",
   "metadata": {},
   "outputs": [
    {
     "data": {
      "text/plain": [
       "pandas.core.series.Series"
      ]
     },
     "execution_count": 16,
     "metadata": {},
     "output_type": "execute_result"
    }
   ],
   "source": [
    "type(df['invest'])"
   ]
  },
  {
   "cell_type": "code",
   "execution_count": 17,
   "id": "4ddc17e3",
   "metadata": {},
   "outputs": [
    {
     "data": {
      "text/plain": [
       "count     220.000000\n",
       "mean      133.311900\n",
       "std       210.587186\n",
       "min         0.930000\n",
       "25%        27.380000\n",
       "50%        52.365000\n",
       "75%        99.782500\n",
       "max      1486.700000\n",
       "Name: invest, dtype: float64"
      ]
     },
     "execution_count": 17,
     "metadata": {},
     "output_type": "execute_result"
    }
   ],
   "source": [
    "df['invest'].describe()"
   ]
  },
  {
   "cell_type": "code",
   "execution_count": 21,
   "id": "efdd992e",
   "metadata": {},
   "outputs": [
    {
     "data": {
      "text/html": [
       "<div>\n",
       "<style scoped>\n",
       "    .dataframe tbody tr th:only-of-type {\n",
       "        vertical-align: middle;\n",
       "    }\n",
       "\n",
       "    .dataframe tbody tr th {\n",
       "        vertical-align: top;\n",
       "    }\n",
       "\n",
       "    .dataframe thead th {\n",
       "        text-align: right;\n",
       "    }\n",
       "</style>\n",
       "<table border=\"1\" class=\"dataframe\">\n",
       "  <thead>\n",
       "    <tr style=\"text-align: right;\">\n",
       "      <th></th>\n",
       "      <th>invest</th>\n",
       "      <th>value</th>\n",
       "      <th>capital</th>\n",
       "      <th>year</th>\n",
       "    </tr>\n",
       "  </thead>\n",
       "  <tbody>\n",
       "    <tr>\n",
       "      <th>count</th>\n",
       "      <td>220.000000</td>\n",
       "      <td>220.000000</td>\n",
       "      <td>220.000000</td>\n",
       "      <td>220.000000</td>\n",
       "    </tr>\n",
       "    <tr>\n",
       "      <th>mean</th>\n",
       "      <td>133.311900</td>\n",
       "      <td>988.577805</td>\n",
       "      <td>257.108541</td>\n",
       "      <td>1944.500000</td>\n",
       "    </tr>\n",
       "    <tr>\n",
       "      <th>std</th>\n",
       "      <td>210.587186</td>\n",
       "      <td>1287.301172</td>\n",
       "      <td>293.227914</td>\n",
       "      <td>5.779431</td>\n",
       "    </tr>\n",
       "    <tr>\n",
       "      <th>min</th>\n",
       "      <td>0.930000</td>\n",
       "      <td>30.284000</td>\n",
       "      <td>0.800000</td>\n",
       "      <td>1935.000000</td>\n",
       "    </tr>\n",
       "    <tr>\n",
       "      <th>25%</th>\n",
       "      <td>27.380000</td>\n",
       "      <td>160.325000</td>\n",
       "      <td>67.100000</td>\n",
       "      <td>1939.750000</td>\n",
       "    </tr>\n",
       "    <tr>\n",
       "      <th>50%</th>\n",
       "      <td>52.365000</td>\n",
       "      <td>404.650000</td>\n",
       "      <td>180.100000</td>\n",
       "      <td>1944.500000</td>\n",
       "    </tr>\n",
       "    <tr>\n",
       "      <th>75%</th>\n",
       "      <td>99.782500</td>\n",
       "      <td>1605.925000</td>\n",
       "      <td>344.500000</td>\n",
       "      <td>1949.250000</td>\n",
       "    </tr>\n",
       "    <tr>\n",
       "      <th>max</th>\n",
       "      <td>1486.700000</td>\n",
       "      <td>6241.700000</td>\n",
       "      <td>2226.300000</td>\n",
       "      <td>1954.000000</td>\n",
       "    </tr>\n",
       "  </tbody>\n",
       "</table>\n",
       "</div>"
      ],
      "text/plain": [
       "            invest        value      capital         year\n",
       "count   220.000000   220.000000   220.000000   220.000000\n",
       "mean    133.311900   988.577805   257.108541  1944.500000\n",
       "std     210.587186  1287.301172   293.227914     5.779431\n",
       "min       0.930000    30.284000     0.800000  1935.000000\n",
       "25%      27.380000   160.325000    67.100000  1939.750000\n",
       "50%      52.365000   404.650000   180.100000  1944.500000\n",
       "75%      99.782500  1605.925000   344.500000  1949.250000\n",
       "max    1486.700000  6241.700000  2226.300000  1954.000000"
      ]
     },
     "execution_count": 21,
     "metadata": {},
     "output_type": "execute_result"
    }
   ],
   "source": [
    "df.describe()"
   ]
  },
  {
   "cell_type": "code",
   "execution_count": 22,
   "id": "7b8cb417",
   "metadata": {},
   "outputs": [
    {
     "data": {
      "text/plain": [
       "Index(['invest', 'value', 'capital', 'firm', 'year'], dtype='object')"
      ]
     },
     "execution_count": 22,
     "metadata": {},
     "output_type": "execute_result"
    }
   ],
   "source": [
    "df.columns"
   ]
  },
  {
   "cell_type": "code",
   "execution_count": 24,
   "id": "62d369c1",
   "metadata": {},
   "outputs": [
    {
     "data": {
      "text/plain": [
       "0      General Motors\n",
       "1      General Motors\n",
       "2      General Motors\n",
       "3      General Motors\n",
       "4      General Motors\n",
       "            ...      \n",
       "215    American Steel\n",
       "216    American Steel\n",
       "217    American Steel\n",
       "218    American Steel\n",
       "219    American Steel\n",
       "Name: firm, Length: 220, dtype: object"
      ]
     },
     "execution_count": 24,
     "metadata": {},
     "output_type": "execute_result"
    }
   ],
   "source": [
    "df['firm']"
   ]
  },
  {
   "cell_type": "code",
   "execution_count": 25,
   "id": "1c4a5c95",
   "metadata": {},
   "outputs": [
    {
     "data": {
      "text/plain": [
       "0      3078.500\n",
       "1      4661.700\n",
       "2      5387.100\n",
       "3      2792.200\n",
       "4      4313.200\n",
       "         ...   \n",
       "215      36.494\n",
       "216      46.082\n",
       "217      57.616\n",
       "218      57.441\n",
       "219      47.165\n",
       "Name: value, Length: 220, dtype: float64"
      ]
     },
     "execution_count": 25,
     "metadata": {},
     "output_type": "execute_result"
    }
   ],
   "source": [
    "df['value']"
   ]
  },
  {
   "cell_type": "code",
   "execution_count": 181,
   "id": "4a6491b6",
   "metadata": {},
   "outputs": [],
   "source": [
    "df['value'] = df['value'].apply(str)  # sometimes data might -look- like int or float but it's actually not "
   ]
  },
  {
   "cell_type": "code",
   "execution_count": 182,
   "id": "ccbf6534",
   "metadata": {},
   "outputs": [
    {
     "data": {
      "text/plain": [
       "0      3078.5\n",
       "1      4661.7\n",
       "2      5387.1\n",
       "3      2792.2\n",
       "4      4313.2\n",
       "        ...  \n",
       "215    36.494\n",
       "216    46.082\n",
       "217    57.616\n",
       "218    57.441\n",
       "219    47.165\n",
       "Name: value, Length: 220, dtype: object"
      ]
     },
     "execution_count": 182,
     "metadata": {},
     "output_type": "execute_result"
    }
   ],
   "source": [
    "df['value']  # and then of course, we can't do the same operations on str as we can on int or float, so this raises issues"
   ]
  },
  {
   "cell_type": "code",
   "execution_count": 30,
   "id": "c2dbf2d6",
   "metadata": {},
   "outputs": [
    {
     "data": {
      "text/plain": [
       "False"
      ]
     },
     "execution_count": 30,
     "metadata": {},
     "output_type": "execute_result"
    }
   ],
   "source": [
    "df['value'][0]==3078.5"
   ]
  },
  {
   "cell_type": "code",
   "execution_count": 31,
   "id": "70ce71ec",
   "metadata": {},
   "outputs": [
    {
     "data": {
      "text/html": [
       "<div>\n",
       "<style scoped>\n",
       "    .dataframe tbody tr th:only-of-type {\n",
       "        vertical-align: middle;\n",
       "    }\n",
       "\n",
       "    .dataframe tbody tr th {\n",
       "        vertical-align: top;\n",
       "    }\n",
       "\n",
       "    .dataframe thead th {\n",
       "        text-align: right;\n",
       "    }\n",
       "</style>\n",
       "<table border=\"1\" class=\"dataframe\">\n",
       "  <thead>\n",
       "    <tr style=\"text-align: right;\">\n",
       "      <th></th>\n",
       "      <th>invest</th>\n",
       "      <th>capital</th>\n",
       "      <th>year</th>\n",
       "    </tr>\n",
       "  </thead>\n",
       "  <tbody>\n",
       "    <tr>\n",
       "      <th>count</th>\n",
       "      <td>220.000000</td>\n",
       "      <td>220.000000</td>\n",
       "      <td>220.000000</td>\n",
       "    </tr>\n",
       "    <tr>\n",
       "      <th>mean</th>\n",
       "      <td>133.311900</td>\n",
       "      <td>257.108541</td>\n",
       "      <td>1944.500000</td>\n",
       "    </tr>\n",
       "    <tr>\n",
       "      <th>std</th>\n",
       "      <td>210.587186</td>\n",
       "      <td>293.227914</td>\n",
       "      <td>5.779431</td>\n",
       "    </tr>\n",
       "    <tr>\n",
       "      <th>min</th>\n",
       "      <td>0.930000</td>\n",
       "      <td>0.800000</td>\n",
       "      <td>1935.000000</td>\n",
       "    </tr>\n",
       "    <tr>\n",
       "      <th>25%</th>\n",
       "      <td>27.380000</td>\n",
       "      <td>67.100000</td>\n",
       "      <td>1939.750000</td>\n",
       "    </tr>\n",
       "    <tr>\n",
       "      <th>50%</th>\n",
       "      <td>52.365000</td>\n",
       "      <td>180.100000</td>\n",
       "      <td>1944.500000</td>\n",
       "    </tr>\n",
       "    <tr>\n",
       "      <th>75%</th>\n",
       "      <td>99.782500</td>\n",
       "      <td>344.500000</td>\n",
       "      <td>1949.250000</td>\n",
       "    </tr>\n",
       "    <tr>\n",
       "      <th>max</th>\n",
       "      <td>1486.700000</td>\n",
       "      <td>2226.300000</td>\n",
       "      <td>1954.000000</td>\n",
       "    </tr>\n",
       "  </tbody>\n",
       "</table>\n",
       "</div>"
      ],
      "text/plain": [
       "            invest      capital         year\n",
       "count   220.000000   220.000000   220.000000\n",
       "mean    133.311900   257.108541  1944.500000\n",
       "std     210.587186   293.227914     5.779431\n",
       "min       0.930000     0.800000  1935.000000\n",
       "25%      27.380000    67.100000  1939.750000\n",
       "50%      52.365000   180.100000  1944.500000\n",
       "75%      99.782500   344.500000  1949.250000\n",
       "max    1486.700000  2226.300000  1954.000000"
      ]
     },
     "execution_count": 31,
     "metadata": {},
     "output_type": "execute_result"
    }
   ],
   "source": [
    "df.describe()  # describe() will only print summary stats for non-object columns (so, firm and our messed up 'value' wont print)"
   ]
  },
  {
   "cell_type": "code",
   "execution_count": 188,
   "id": "c53e7e6d",
   "metadata": {},
   "outputs": [],
   "source": [
    "# some more practice with lists\n",
    "import random\n",
    "list_x = [random.normalvariate(0,1) for n in range(0,100)]"
   ]
  },
  {
   "cell_type": "code",
   "execution_count": 189,
   "id": "ad381f9c",
   "metadata": {},
   "outputs": [],
   "source": [
    "list_x.append('problematic element of list')"
   ]
  },
  {
   "cell_type": "code",
   "execution_count": 190,
   "id": "2f3cb66a",
   "metadata": {},
   "outputs": [
    {
     "data": {
      "text/plain": [
       "[0.12561238599373625,\n",
       " 1.6542945610830517,\n",
       " -0.22828213341281026,\n",
       " 0.8129067371758608,\n",
       " 'problematic element of list']"
      ]
     },
     "execution_count": 190,
     "metadata": {},
     "output_type": "execute_result"
    }
   ],
   "source": [
    "list_x[-5:]  # print the last 5 elements"
   ]
  },
  {
   "cell_type": "code",
   "execution_count": 191,
   "id": "546d0678",
   "metadata": {},
   "outputs": [],
   "source": [
    "list_x.extend([1,2,3,4])  # add more values"
   ]
  },
  {
   "cell_type": "code",
   "execution_count": 192,
   "id": "6ae02363",
   "metadata": {},
   "outputs": [
    {
     "data": {
      "text/plain": [
       "[-1.9036581508224513,\n",
       " 0.12561238599373625,\n",
       " 1.6542945610830517,\n",
       " -0.22828213341281026,\n",
       " 0.8129067371758608,\n",
       " 'problematic element of list',\n",
       " 1,\n",
       " 2,\n",
       " 3,\n",
       " 4]"
      ]
     },
     "execution_count": 192,
     "metadata": {},
     "output_type": "execute_result"
    }
   ],
   "source": [
    "list_x[-10:]"
   ]
  },
  {
   "cell_type": "code",
   "execution_count": 63,
   "id": "83db2ab2",
   "metadata": {},
   "outputs": [],
   "source": [
    "list_y = [3,53,74,37,555]\n",
    "list_z = [1,2,3,4,5]"
   ]
  },
  {
   "cell_type": "code",
   "execution_count": 64,
   "id": "3ae43a59",
   "metadata": {},
   "outputs": [
    {
     "name": "stdout",
     "output_type": "stream",
     "text": [
      "3 1\n",
      "53 2\n",
      "74 3\n",
      "37 4\n",
      "555 5\n"
     ]
    }
   ],
   "source": [
    "for i,j in zip(list_y,list_z):  # run through two lists together\n",
    "    print(i,j)"
   ]
  },
  {
   "cell_type": "code",
   "execution_count": 56,
   "id": "95da3105",
   "metadata": {},
   "outputs": [
    {
     "data": {
      "text/plain": [
       "[53, 74, 37, 555]"
      ]
     },
     "execution_count": 56,
     "metadata": {},
     "output_type": "execute_result"
    }
   ],
   "source": [
    "list_y[1:]"
   ]
  },
  {
   "cell_type": "code",
   "execution_count": 68,
   "id": "358bc567",
   "metadata": {},
   "outputs": [
    {
     "name": "stdout",
     "output_type": "stream",
     "text": [
      "0\n",
      "1\n",
      "2\n",
      "3\n",
      "4\n"
     ]
    }
   ],
   "source": [
    "for idx, i in enumerate(list_y):\n",
    "    print(idx)"
   ]
  },
  {
   "cell_type": "code",
   "execution_count": 49,
   "id": "aeaa67b5",
   "metadata": {},
   "outputs": [
    {
     "name": "stdout",
     "output_type": "stream",
     "text": [
      "0 3\n",
      "1 53\n",
      "2 74\n",
      "3 37\n"
     ]
    }
   ],
   "source": [
    "for idx, y in enumerate(list_y):\n",
    "    print(idx, y)"
   ]
  },
  {
   "cell_type": "code",
   "execution_count": 193,
   "id": "5040214c",
   "metadata": {},
   "outputs": [
    {
     "name": "stdout",
     "output_type": "stream",
     "text": [
      "(0, 3)\n",
      "(1, 53)\n",
      "(2, 74)\n",
      "(3, 37)\n",
      "(4, 555)\n"
     ]
    }
   ],
   "source": [
    "for tuple_idx in enumerate(list_y):  # enumerate expects two variable names; if you only give it one it'll return a tuple:\n",
    "    print(tuple_idx)"
   ]
  },
  {
   "cell_type": "code",
   "execution_count": null,
   "id": "2b8bf527",
   "metadata": {},
   "outputs": [],
   "source": [
    "# in writing our own functions and classes, we saw a few important concepts:\n",
    "# raising custom errors\n",
    "# docstrings \n",
    "# in general, thinking about how users might break functionality, and how to protect against it\n",
    "\n",
    "\n",
    "\n",
    "# try-except clause is useful for allowing the user to continue to do something even if they produce an error"
   ]
  },
  {
   "cell_type": "code",
   "execution_count": 196,
   "id": "81d21f0d",
   "metadata": {},
   "outputs": [
    {
     "name": "stdout",
     "output_type": "stream",
     "text": [
      "96 0.12561238599373625\n",
      "97 1.6542945610830517\n",
      "98 -0.22828213341281026\n",
      "99 0.8129067371758608\n",
      "100 problematic element of list\n",
      "Warning: there's a TypeError occurring. Do you have any strings in the list?\n",
      "101 1\n",
      "102 2\n",
      "103 3\n",
      "104 4\n"
     ]
    }
   ],
   "source": [
    "test_sum = 0\n",
    "\n",
    "for idx, x in enumerate(list_x):\n",
    "    if idx>95:  # don't want to print all of them out\n",
    "        print(idx, x)\n",
    "        try:\n",
    "            test_sum +=x  \n",
    "        except TypeError:\n",
    "            print('Warning: there\\'s a TypeError occurring. Do you have any strings in the list?')\n",
    "# notice that the warning prints, but the loop continues, and the test_sum just computes using all valid values and ignores\n",
    "# bad ones. This is just like how pandas' .describe() method will skip columns that can't have summary statistics generated!"
   ]
  },
  {
   "cell_type": "code",
   "execution_count": 197,
   "id": "397fbf9e",
   "metadata": {},
   "outputs": [],
   "source": [
    "# back to pandas, for a final look at some important functionality\n",
    "import statsmodels.api as sm\n",
    "df = sm.datasets.grunfeld.load_pandas().data"
   ]
  },
  {
   "cell_type": "code",
   "execution_count": 198,
   "id": "82642d97",
   "metadata": {},
   "outputs": [],
   "source": [
    "import pandas as pd"
   ]
  },
  {
   "cell_type": "code",
   "execution_count": 199,
   "id": "f17f79ba",
   "metadata": {},
   "outputs": [],
   "source": [
    "df = pd.read_csv(r'C:\\Users\\ethan\\Documents\\Workshop FA2022\\grunfeld.csv')"
   ]
  },
  {
   "cell_type": "code",
   "execution_count": 200,
   "id": "0be30c76",
   "metadata": {},
   "outputs": [
    {
     "data": {
      "text/html": [
       "<div>\n",
       "<style scoped>\n",
       "    .dataframe tbody tr th:only-of-type {\n",
       "        vertical-align: middle;\n",
       "    }\n",
       "\n",
       "    .dataframe tbody tr th {\n",
       "        vertical-align: top;\n",
       "    }\n",
       "\n",
       "    .dataframe thead th {\n",
       "        text-align: right;\n",
       "    }\n",
       "</style>\n",
       "<table border=\"1\" class=\"dataframe\">\n",
       "  <thead>\n",
       "    <tr style=\"text-align: right;\">\n",
       "      <th></th>\n",
       "      <th>Unnamed: 0</th>\n",
       "      <th>invest</th>\n",
       "      <th>value</th>\n",
       "      <th>capital</th>\n",
       "      <th>firm</th>\n",
       "      <th>year</th>\n",
       "    </tr>\n",
       "  </thead>\n",
       "  <tbody>\n",
       "    <tr>\n",
       "      <th>0</th>\n",
       "      <td>0</td>\n",
       "      <td>317.600</td>\n",
       "      <td>3078.500</td>\n",
       "      <td>2.800</td>\n",
       "      <td>General Motors</td>\n",
       "      <td>1935.0</td>\n",
       "    </tr>\n",
       "    <tr>\n",
       "      <th>1</th>\n",
       "      <td>1</td>\n",
       "      <td>391.800</td>\n",
       "      <td>4661.700</td>\n",
       "      <td>52.600</td>\n",
       "      <td>General Motors</td>\n",
       "      <td>1936.0</td>\n",
       "    </tr>\n",
       "    <tr>\n",
       "      <th>2</th>\n",
       "      <td>2</td>\n",
       "      <td>410.600</td>\n",
       "      <td>5387.100</td>\n",
       "      <td>156.900</td>\n",
       "      <td>General Motors</td>\n",
       "      <td>1937.0</td>\n",
       "    </tr>\n",
       "    <tr>\n",
       "      <th>3</th>\n",
       "      <td>3</td>\n",
       "      <td>257.700</td>\n",
       "      <td>2792.200</td>\n",
       "      <td>209.200</td>\n",
       "      <td>General Motors</td>\n",
       "      <td>1938.0</td>\n",
       "    </tr>\n",
       "    <tr>\n",
       "      <th>4</th>\n",
       "      <td>4</td>\n",
       "      <td>330.800</td>\n",
       "      <td>4313.200</td>\n",
       "      <td>203.400</td>\n",
       "      <td>General Motors</td>\n",
       "      <td>1939.0</td>\n",
       "    </tr>\n",
       "    <tr>\n",
       "      <th>...</th>\n",
       "      <td>...</td>\n",
       "      <td>...</td>\n",
       "      <td>...</td>\n",
       "      <td>...</td>\n",
       "      <td>...</td>\n",
       "      <td>...</td>\n",
       "    </tr>\n",
       "    <tr>\n",
       "      <th>215</th>\n",
       "      <td>215</td>\n",
       "      <td>4.770</td>\n",
       "      <td>36.494</td>\n",
       "      <td>75.847</td>\n",
       "      <td>American Steel</td>\n",
       "      <td>1950.0</td>\n",
       "    </tr>\n",
       "    <tr>\n",
       "      <th>216</th>\n",
       "      <td>216</td>\n",
       "      <td>6.532</td>\n",
       "      <td>46.082</td>\n",
       "      <td>77.367</td>\n",
       "      <td>American Steel</td>\n",
       "      <td>1951.0</td>\n",
       "    </tr>\n",
       "    <tr>\n",
       "      <th>217</th>\n",
       "      <td>217</td>\n",
       "      <td>7.329</td>\n",
       "      <td>57.616</td>\n",
       "      <td>78.631</td>\n",
       "      <td>American Steel</td>\n",
       "      <td>1952.0</td>\n",
       "    </tr>\n",
       "    <tr>\n",
       "      <th>218</th>\n",
       "      <td>218</td>\n",
       "      <td>9.020</td>\n",
       "      <td>57.441</td>\n",
       "      <td>80.215</td>\n",
       "      <td>American Steel</td>\n",
       "      <td>1953.0</td>\n",
       "    </tr>\n",
       "    <tr>\n",
       "      <th>219</th>\n",
       "      <td>219</td>\n",
       "      <td>6.281</td>\n",
       "      <td>47.165</td>\n",
       "      <td>83.788</td>\n",
       "      <td>American Steel</td>\n",
       "      <td>1954.0</td>\n",
       "    </tr>\n",
       "  </tbody>\n",
       "</table>\n",
       "<p>220 rows × 6 columns</p>\n",
       "</div>"
      ],
      "text/plain": [
       "     Unnamed: 0   invest     value  capital            firm    year\n",
       "0             0  317.600  3078.500    2.800  General Motors  1935.0\n",
       "1             1  391.800  4661.700   52.600  General Motors  1936.0\n",
       "2             2  410.600  5387.100  156.900  General Motors  1937.0\n",
       "3             3  257.700  2792.200  209.200  General Motors  1938.0\n",
       "4             4  330.800  4313.200  203.400  General Motors  1939.0\n",
       "..          ...      ...       ...      ...             ...     ...\n",
       "215         215    4.770    36.494   75.847  American Steel  1950.0\n",
       "216         216    6.532    46.082   77.367  American Steel  1951.0\n",
       "217         217    7.329    57.616   78.631  American Steel  1952.0\n",
       "218         218    9.020    57.441   80.215  American Steel  1953.0\n",
       "219         219    6.281    47.165   83.788  American Steel  1954.0\n",
       "\n",
       "[220 rows x 6 columns]"
      ]
     },
     "execution_count": 200,
     "metadata": {},
     "output_type": "execute_result"
    }
   ],
   "source": [
    "df"
   ]
  },
  {
   "cell_type": "code",
   "execution_count": 201,
   "id": "9ea34d5f",
   "metadata": {},
   "outputs": [],
   "source": [
    "df.drop('Unnamed: 0', axis=1, inplace=True)"
   ]
  },
  {
   "cell_type": "code",
   "execution_count": 202,
   "id": "8cb651b6",
   "metadata": {},
   "outputs": [
    {
     "data": {
      "text/html": [
       "<div>\n",
       "<style scoped>\n",
       "    .dataframe tbody tr th:only-of-type {\n",
       "        vertical-align: middle;\n",
       "    }\n",
       "\n",
       "    .dataframe tbody tr th {\n",
       "        vertical-align: top;\n",
       "    }\n",
       "\n",
       "    .dataframe thead th {\n",
       "        text-align: right;\n",
       "    }\n",
       "</style>\n",
       "<table border=\"1\" class=\"dataframe\">\n",
       "  <thead>\n",
       "    <tr style=\"text-align: right;\">\n",
       "      <th></th>\n",
       "      <th>invest</th>\n",
       "      <th>value</th>\n",
       "      <th>capital</th>\n",
       "      <th>firm</th>\n",
       "      <th>year</th>\n",
       "    </tr>\n",
       "  </thead>\n",
       "  <tbody>\n",
       "    <tr>\n",
       "      <th>0</th>\n",
       "      <td>317.600</td>\n",
       "      <td>3078.500</td>\n",
       "      <td>2.800</td>\n",
       "      <td>General Motors</td>\n",
       "      <td>1935.0</td>\n",
       "    </tr>\n",
       "    <tr>\n",
       "      <th>1</th>\n",
       "      <td>391.800</td>\n",
       "      <td>4661.700</td>\n",
       "      <td>52.600</td>\n",
       "      <td>General Motors</td>\n",
       "      <td>1936.0</td>\n",
       "    </tr>\n",
       "    <tr>\n",
       "      <th>2</th>\n",
       "      <td>410.600</td>\n",
       "      <td>5387.100</td>\n",
       "      <td>156.900</td>\n",
       "      <td>General Motors</td>\n",
       "      <td>1937.0</td>\n",
       "    </tr>\n",
       "    <tr>\n",
       "      <th>3</th>\n",
       "      <td>257.700</td>\n",
       "      <td>2792.200</td>\n",
       "      <td>209.200</td>\n",
       "      <td>General Motors</td>\n",
       "      <td>1938.0</td>\n",
       "    </tr>\n",
       "    <tr>\n",
       "      <th>4</th>\n",
       "      <td>330.800</td>\n",
       "      <td>4313.200</td>\n",
       "      <td>203.400</td>\n",
       "      <td>General Motors</td>\n",
       "      <td>1939.0</td>\n",
       "    </tr>\n",
       "    <tr>\n",
       "      <th>...</th>\n",
       "      <td>...</td>\n",
       "      <td>...</td>\n",
       "      <td>...</td>\n",
       "      <td>...</td>\n",
       "      <td>...</td>\n",
       "    </tr>\n",
       "    <tr>\n",
       "      <th>215</th>\n",
       "      <td>4.770</td>\n",
       "      <td>36.494</td>\n",
       "      <td>75.847</td>\n",
       "      <td>American Steel</td>\n",
       "      <td>1950.0</td>\n",
       "    </tr>\n",
       "    <tr>\n",
       "      <th>216</th>\n",
       "      <td>6.532</td>\n",
       "      <td>46.082</td>\n",
       "      <td>77.367</td>\n",
       "      <td>American Steel</td>\n",
       "      <td>1951.0</td>\n",
       "    </tr>\n",
       "    <tr>\n",
       "      <th>217</th>\n",
       "      <td>7.329</td>\n",
       "      <td>57.616</td>\n",
       "      <td>78.631</td>\n",
       "      <td>American Steel</td>\n",
       "      <td>1952.0</td>\n",
       "    </tr>\n",
       "    <tr>\n",
       "      <th>218</th>\n",
       "      <td>9.020</td>\n",
       "      <td>57.441</td>\n",
       "      <td>80.215</td>\n",
       "      <td>American Steel</td>\n",
       "      <td>1953.0</td>\n",
       "    </tr>\n",
       "    <tr>\n",
       "      <th>219</th>\n",
       "      <td>6.281</td>\n",
       "      <td>47.165</td>\n",
       "      <td>83.788</td>\n",
       "      <td>American Steel</td>\n",
       "      <td>1954.0</td>\n",
       "    </tr>\n",
       "  </tbody>\n",
       "</table>\n",
       "<p>220 rows × 5 columns</p>\n",
       "</div>"
      ],
      "text/plain": [
       "      invest     value  capital            firm    year\n",
       "0    317.600  3078.500    2.800  General Motors  1935.0\n",
       "1    391.800  4661.700   52.600  General Motors  1936.0\n",
       "2    410.600  5387.100  156.900  General Motors  1937.0\n",
       "3    257.700  2792.200  209.200  General Motors  1938.0\n",
       "4    330.800  4313.200  203.400  General Motors  1939.0\n",
       "..       ...       ...      ...             ...     ...\n",
       "215    4.770    36.494   75.847  American Steel  1950.0\n",
       "216    6.532    46.082   77.367  American Steel  1951.0\n",
       "217    7.329    57.616   78.631  American Steel  1952.0\n",
       "218    9.020    57.441   80.215  American Steel  1953.0\n",
       "219    6.281    47.165   83.788  American Steel  1954.0\n",
       "\n",
       "[220 rows x 5 columns]"
      ]
     },
     "execution_count": 202,
     "metadata": {},
     "output_type": "execute_result"
    }
   ],
   "source": [
    "df"
   ]
  },
  {
   "cell_type": "code",
   "execution_count": 203,
   "id": "56d57db3",
   "metadata": {},
   "outputs": [],
   "source": [
    "df['capital_sqd'] = df['capital']**2"
   ]
  },
  {
   "cell_type": "code",
   "execution_count": 204,
   "id": "0ffd7f3c",
   "metadata": {},
   "outputs": [],
   "source": [
    "df.to_csv(r'C:\\Users\\ethan\\Documents\\Workshop FA2022\\grunfeld_modified.csv')  # this is how you would -write- to a .csv file!\n",
    "# you can of course now read the file in from your local computer location with read_csv"
   ]
  },
  {
   "cell_type": "code",
   "execution_count": 205,
   "id": "dc457148",
   "metadata": {},
   "outputs": [
    {
     "data": {
      "text/plain": [
       "General Motors       20\n",
       "US Steel             20\n",
       "General Electric     20\n",
       "Chrysler             20\n",
       "Atlantic Refining    20\n",
       "IBM                  20\n",
       "Union Oil            20\n",
       "Westinghouse         20\n",
       "Goodyear             20\n",
       "Diamond Match        20\n",
       "American Steel       20\n",
       "Name: firm, dtype: int64"
      ]
     },
     "execution_count": 205,
     "metadata": {},
     "output_type": "execute_result"
    }
   ],
   "source": [
    "# grunfeld is at the firm-year level\n",
    "df['firm'].value_counts()  # 20 obs for each firm"
   ]
  },
  {
   "cell_type": "code",
   "execution_count": 206,
   "id": "0bf16885",
   "metadata": {},
   "outputs": [],
   "source": [
    "df2 = df.groupby(['firm'])[['capital']].agg('mean')  # creates a new DataFrame, aggregating mean capital at firm-level"
   ]
  },
  {
   "cell_type": "code",
   "execution_count": 208,
   "id": "619f077a",
   "metadata": {},
   "outputs": [],
   "source": [
    "df2.reset_index(inplace=True)  # 'flattens' the dataframe so it's easier to index into"
   ]
  },
  {
   "cell_type": "code",
   "execution_count": 209,
   "id": "531bc8f5",
   "metadata": {},
   "outputs": [
    {
     "data": {
      "text/html": [
       "<div>\n",
       "<style scoped>\n",
       "    .dataframe tbody tr th:only-of-type {\n",
       "        vertical-align: middle;\n",
       "    }\n",
       "\n",
       "    .dataframe tbody tr th {\n",
       "        vertical-align: top;\n",
       "    }\n",
       "\n",
       "    .dataframe thead th {\n",
       "        text-align: right;\n",
       "    }\n",
       "</style>\n",
       "<table border=\"1\" class=\"dataframe\">\n",
       "  <thead>\n",
       "    <tr style=\"text-align: right;\">\n",
       "      <th></th>\n",
       "      <th>firm</th>\n",
       "      <th>capital</th>\n",
       "    </tr>\n",
       "  </thead>\n",
       "  <tbody>\n",
       "    <tr>\n",
       "      <th>0</th>\n",
       "      <td>American Steel</td>\n",
       "      <td>68.02245</td>\n",
       "    </tr>\n",
       "    <tr>\n",
       "      <th>1</th>\n",
       "      <td>Atlantic Refining</td>\n",
       "      <td>486.76500</td>\n",
       "    </tr>\n",
       "    <tr>\n",
       "      <th>2</th>\n",
       "      <td>Chrysler</td>\n",
       "      <td>121.24500</td>\n",
       "    </tr>\n",
       "    <tr>\n",
       "      <th>3</th>\n",
       "      <td>Diamond Match</td>\n",
       "      <td>5.94150</td>\n",
       "    </tr>\n",
       "    <tr>\n",
       "      <th>4</th>\n",
       "      <td>General Electric</td>\n",
       "      <td>400.16000</td>\n",
       "    </tr>\n",
       "    <tr>\n",
       "      <th>5</th>\n",
       "      <td>General Motors</td>\n",
       "      <td>648.43500</td>\n",
       "    </tr>\n",
       "    <tr>\n",
       "      <th>6</th>\n",
       "      <td>Goodyear</td>\n",
       "      <td>297.90000</td>\n",
       "    </tr>\n",
       "    <tr>\n",
       "      <th>7</th>\n",
       "      <td>IBM</td>\n",
       "      <td>104.28500</td>\n",
       "    </tr>\n",
       "    <tr>\n",
       "      <th>8</th>\n",
       "      <td>US Steel</td>\n",
       "      <td>294.85500</td>\n",
       "    </tr>\n",
       "    <tr>\n",
       "      <th>9</th>\n",
       "      <td>Union Oil</td>\n",
       "      <td>314.94500</td>\n",
       "    </tr>\n",
       "    <tr>\n",
       "      <th>10</th>\n",
       "      <td>Westinghouse</td>\n",
       "      <td>85.64000</td>\n",
       "    </tr>\n",
       "  </tbody>\n",
       "</table>\n",
       "</div>"
      ],
      "text/plain": [
       "                 firm    capital\n",
       "0      American Steel   68.02245\n",
       "1   Atlantic Refining  486.76500\n",
       "2            Chrysler  121.24500\n",
       "3       Diamond Match    5.94150\n",
       "4    General Electric  400.16000\n",
       "5      General Motors  648.43500\n",
       "6            Goodyear  297.90000\n",
       "7                 IBM  104.28500\n",
       "8            US Steel  294.85500\n",
       "9           Union Oil  314.94500\n",
       "10       Westinghouse   85.64000"
      ]
     },
     "execution_count": 209,
     "metadata": {},
     "output_type": "execute_result"
    }
   ],
   "source": [
    "df2"
   ]
  },
  {
   "cell_type": "code",
   "execution_count": 210,
   "id": "ba148baa",
   "metadata": {},
   "outputs": [],
   "source": [
    "df2.rename(columns={'capital':'agg_capital'}, inplace=True)"
   ]
  },
  {
   "cell_type": "code",
   "execution_count": 211,
   "id": "3f737fe7",
   "metadata": {},
   "outputs": [
    {
     "data": {
      "text/html": [
       "<div>\n",
       "<style scoped>\n",
       "    .dataframe tbody tr th:only-of-type {\n",
       "        vertical-align: middle;\n",
       "    }\n",
       "\n",
       "    .dataframe tbody tr th {\n",
       "        vertical-align: top;\n",
       "    }\n",
       "\n",
       "    .dataframe thead th {\n",
       "        text-align: right;\n",
       "    }\n",
       "</style>\n",
       "<table border=\"1\" class=\"dataframe\">\n",
       "  <thead>\n",
       "    <tr style=\"text-align: right;\">\n",
       "      <th></th>\n",
       "      <th>firm</th>\n",
       "      <th>agg_capital</th>\n",
       "    </tr>\n",
       "  </thead>\n",
       "  <tbody>\n",
       "    <tr>\n",
       "      <th>0</th>\n",
       "      <td>American Steel</td>\n",
       "      <td>68.02245</td>\n",
       "    </tr>\n",
       "    <tr>\n",
       "      <th>1</th>\n",
       "      <td>Atlantic Refining</td>\n",
       "      <td>486.76500</td>\n",
       "    </tr>\n",
       "    <tr>\n",
       "      <th>2</th>\n",
       "      <td>Chrysler</td>\n",
       "      <td>121.24500</td>\n",
       "    </tr>\n",
       "    <tr>\n",
       "      <th>3</th>\n",
       "      <td>Diamond Match</td>\n",
       "      <td>5.94150</td>\n",
       "    </tr>\n",
       "    <tr>\n",
       "      <th>4</th>\n",
       "      <td>General Electric</td>\n",
       "      <td>400.16000</td>\n",
       "    </tr>\n",
       "    <tr>\n",
       "      <th>5</th>\n",
       "      <td>General Motors</td>\n",
       "      <td>648.43500</td>\n",
       "    </tr>\n",
       "    <tr>\n",
       "      <th>6</th>\n",
       "      <td>Goodyear</td>\n",
       "      <td>297.90000</td>\n",
       "    </tr>\n",
       "    <tr>\n",
       "      <th>7</th>\n",
       "      <td>IBM</td>\n",
       "      <td>104.28500</td>\n",
       "    </tr>\n",
       "    <tr>\n",
       "      <th>8</th>\n",
       "      <td>US Steel</td>\n",
       "      <td>294.85500</td>\n",
       "    </tr>\n",
       "    <tr>\n",
       "      <th>9</th>\n",
       "      <td>Union Oil</td>\n",
       "      <td>314.94500</td>\n",
       "    </tr>\n",
       "    <tr>\n",
       "      <th>10</th>\n",
       "      <td>Westinghouse</td>\n",
       "      <td>85.64000</td>\n",
       "    </tr>\n",
       "  </tbody>\n",
       "</table>\n",
       "</div>"
      ],
      "text/plain": [
       "                 firm  agg_capital\n",
       "0      American Steel     68.02245\n",
       "1   Atlantic Refining    486.76500\n",
       "2            Chrysler    121.24500\n",
       "3       Diamond Match      5.94150\n",
       "4    General Electric    400.16000\n",
       "5      General Motors    648.43500\n",
       "6            Goodyear    297.90000\n",
       "7                 IBM    104.28500\n",
       "8            US Steel    294.85500\n",
       "9           Union Oil    314.94500\n",
       "10       Westinghouse     85.64000"
      ]
     },
     "execution_count": 211,
     "metadata": {},
     "output_type": "execute_result"
    }
   ],
   "source": [
    "df2"
   ]
  },
  {
   "cell_type": "code",
   "execution_count": 212,
   "id": "74f080f5",
   "metadata": {},
   "outputs": [
    {
     "data": {
      "text/html": [
       "<div>\n",
       "<style scoped>\n",
       "    .dataframe tbody tr th:only-of-type {\n",
       "        vertical-align: middle;\n",
       "    }\n",
       "\n",
       "    .dataframe tbody tr th {\n",
       "        vertical-align: top;\n",
       "    }\n",
       "\n",
       "    .dataframe thead th {\n",
       "        text-align: right;\n",
       "    }\n",
       "</style>\n",
       "<table border=\"1\" class=\"dataframe\">\n",
       "  <thead>\n",
       "    <tr style=\"text-align: right;\">\n",
       "      <th></th>\n",
       "      <th>invest</th>\n",
       "      <th>value</th>\n",
       "      <th>capital</th>\n",
       "      <th>firm</th>\n",
       "      <th>year</th>\n",
       "      <th>capital_sqd</th>\n",
       "      <th>agg_capital</th>\n",
       "    </tr>\n",
       "  </thead>\n",
       "  <tbody>\n",
       "    <tr>\n",
       "      <th>0</th>\n",
       "      <td>317.600</td>\n",
       "      <td>3078.500</td>\n",
       "      <td>2.800</td>\n",
       "      <td>General Motors</td>\n",
       "      <td>1935.0</td>\n",
       "      <td>7.840000</td>\n",
       "      <td>648.43500</td>\n",
       "    </tr>\n",
       "    <tr>\n",
       "      <th>1</th>\n",
       "      <td>391.800</td>\n",
       "      <td>4661.700</td>\n",
       "      <td>52.600</td>\n",
       "      <td>General Motors</td>\n",
       "      <td>1936.0</td>\n",
       "      <td>2766.760000</td>\n",
       "      <td>648.43500</td>\n",
       "    </tr>\n",
       "    <tr>\n",
       "      <th>2</th>\n",
       "      <td>410.600</td>\n",
       "      <td>5387.100</td>\n",
       "      <td>156.900</td>\n",
       "      <td>General Motors</td>\n",
       "      <td>1937.0</td>\n",
       "      <td>24617.610000</td>\n",
       "      <td>648.43500</td>\n",
       "    </tr>\n",
       "    <tr>\n",
       "      <th>3</th>\n",
       "      <td>257.700</td>\n",
       "      <td>2792.200</td>\n",
       "      <td>209.200</td>\n",
       "      <td>General Motors</td>\n",
       "      <td>1938.0</td>\n",
       "      <td>43764.640000</td>\n",
       "      <td>648.43500</td>\n",
       "    </tr>\n",
       "    <tr>\n",
       "      <th>4</th>\n",
       "      <td>330.800</td>\n",
       "      <td>4313.200</td>\n",
       "      <td>203.400</td>\n",
       "      <td>General Motors</td>\n",
       "      <td>1939.0</td>\n",
       "      <td>41371.560000</td>\n",
       "      <td>648.43500</td>\n",
       "    </tr>\n",
       "    <tr>\n",
       "      <th>...</th>\n",
       "      <td>...</td>\n",
       "      <td>...</td>\n",
       "      <td>...</td>\n",
       "      <td>...</td>\n",
       "      <td>...</td>\n",
       "      <td>...</td>\n",
       "      <td>...</td>\n",
       "    </tr>\n",
       "    <tr>\n",
       "      <th>215</th>\n",
       "      <td>4.770</td>\n",
       "      <td>36.494</td>\n",
       "      <td>75.847</td>\n",
       "      <td>American Steel</td>\n",
       "      <td>1950.0</td>\n",
       "      <td>5752.767409</td>\n",
       "      <td>68.02245</td>\n",
       "    </tr>\n",
       "    <tr>\n",
       "      <th>216</th>\n",
       "      <td>6.532</td>\n",
       "      <td>46.082</td>\n",
       "      <td>77.367</td>\n",
       "      <td>American Steel</td>\n",
       "      <td>1951.0</td>\n",
       "      <td>5985.652689</td>\n",
       "      <td>68.02245</td>\n",
       "    </tr>\n",
       "    <tr>\n",
       "      <th>217</th>\n",
       "      <td>7.329</td>\n",
       "      <td>57.616</td>\n",
       "      <td>78.631</td>\n",
       "      <td>American Steel</td>\n",
       "      <td>1952.0</td>\n",
       "      <td>6182.834161</td>\n",
       "      <td>68.02245</td>\n",
       "    </tr>\n",
       "    <tr>\n",
       "      <th>218</th>\n",
       "      <td>9.020</td>\n",
       "      <td>57.441</td>\n",
       "      <td>80.215</td>\n",
       "      <td>American Steel</td>\n",
       "      <td>1953.0</td>\n",
       "      <td>6434.446225</td>\n",
       "      <td>68.02245</td>\n",
       "    </tr>\n",
       "    <tr>\n",
       "      <th>219</th>\n",
       "      <td>6.281</td>\n",
       "      <td>47.165</td>\n",
       "      <td>83.788</td>\n",
       "      <td>American Steel</td>\n",
       "      <td>1954.0</td>\n",
       "      <td>7020.428944</td>\n",
       "      <td>68.02245</td>\n",
       "    </tr>\n",
       "  </tbody>\n",
       "</table>\n",
       "<p>220 rows × 7 columns</p>\n",
       "</div>"
      ],
      "text/plain": [
       "      invest     value  capital            firm    year   capital_sqd  \\\n",
       "0    317.600  3078.500    2.800  General Motors  1935.0      7.840000   \n",
       "1    391.800  4661.700   52.600  General Motors  1936.0   2766.760000   \n",
       "2    410.600  5387.100  156.900  General Motors  1937.0  24617.610000   \n",
       "3    257.700  2792.200  209.200  General Motors  1938.0  43764.640000   \n",
       "4    330.800  4313.200  203.400  General Motors  1939.0  41371.560000   \n",
       "..       ...       ...      ...             ...     ...           ...   \n",
       "215    4.770    36.494   75.847  American Steel  1950.0   5752.767409   \n",
       "216    6.532    46.082   77.367  American Steel  1951.0   5985.652689   \n",
       "217    7.329    57.616   78.631  American Steel  1952.0   6182.834161   \n",
       "218    9.020    57.441   80.215  American Steel  1953.0   6434.446225   \n",
       "219    6.281    47.165   83.788  American Steel  1954.0   7020.428944   \n",
       "\n",
       "     agg_capital  \n",
       "0      648.43500  \n",
       "1      648.43500  \n",
       "2      648.43500  \n",
       "3      648.43500  \n",
       "4      648.43500  \n",
       "..           ...  \n",
       "215     68.02245  \n",
       "216     68.02245  \n",
       "217     68.02245  \n",
       "218     68.02245  \n",
       "219     68.02245  \n",
       "\n",
       "[220 rows x 7 columns]"
      ]
     },
     "execution_count": 212,
     "metadata": {},
     "output_type": "execute_result"
    }
   ],
   "source": [
    "df.merge(df2,on='firm',suffixes=('','_agg'))  # note that the suffix for df2 doesn't actually show up"
   ]
  },
  {
   "cell_type": "code",
   "execution_count": 213,
   "id": "84efebac",
   "metadata": {},
   "outputs": [
    {
     "data": {
      "text/html": [
       "<div>\n",
       "<style scoped>\n",
       "    .dataframe tbody tr th:only-of-type {\n",
       "        vertical-align: middle;\n",
       "    }\n",
       "\n",
       "    .dataframe tbody tr th {\n",
       "        vertical-align: top;\n",
       "    }\n",
       "\n",
       "    .dataframe thead th {\n",
       "        text-align: right;\n",
       "    }\n",
       "</style>\n",
       "<table border=\"1\" class=\"dataframe\">\n",
       "  <thead>\n",
       "    <tr style=\"text-align: right;\">\n",
       "      <th></th>\n",
       "      <th>invest</th>\n",
       "      <th>value</th>\n",
       "      <th>capital</th>\n",
       "      <th>firm</th>\n",
       "      <th>year</th>\n",
       "      <th>capital_sqd</th>\n",
       "      <th>capital_agg</th>\n",
       "    </tr>\n",
       "  </thead>\n",
       "  <tbody>\n",
       "    <tr>\n",
       "      <th>0</th>\n",
       "      <td>317.600</td>\n",
       "      <td>3078.500</td>\n",
       "      <td>2.800</td>\n",
       "      <td>General Motors</td>\n",
       "      <td>1935.0</td>\n",
       "      <td>7.840000</td>\n",
       "      <td>648.43500</td>\n",
       "    </tr>\n",
       "    <tr>\n",
       "      <th>1</th>\n",
       "      <td>391.800</td>\n",
       "      <td>4661.700</td>\n",
       "      <td>52.600</td>\n",
       "      <td>General Motors</td>\n",
       "      <td>1936.0</td>\n",
       "      <td>2766.760000</td>\n",
       "      <td>648.43500</td>\n",
       "    </tr>\n",
       "    <tr>\n",
       "      <th>2</th>\n",
       "      <td>410.600</td>\n",
       "      <td>5387.100</td>\n",
       "      <td>156.900</td>\n",
       "      <td>General Motors</td>\n",
       "      <td>1937.0</td>\n",
       "      <td>24617.610000</td>\n",
       "      <td>648.43500</td>\n",
       "    </tr>\n",
       "    <tr>\n",
       "      <th>3</th>\n",
       "      <td>257.700</td>\n",
       "      <td>2792.200</td>\n",
       "      <td>209.200</td>\n",
       "      <td>General Motors</td>\n",
       "      <td>1938.0</td>\n",
       "      <td>43764.640000</td>\n",
       "      <td>648.43500</td>\n",
       "    </tr>\n",
       "    <tr>\n",
       "      <th>4</th>\n",
       "      <td>330.800</td>\n",
       "      <td>4313.200</td>\n",
       "      <td>203.400</td>\n",
       "      <td>General Motors</td>\n",
       "      <td>1939.0</td>\n",
       "      <td>41371.560000</td>\n",
       "      <td>648.43500</td>\n",
       "    </tr>\n",
       "    <tr>\n",
       "      <th>...</th>\n",
       "      <td>...</td>\n",
       "      <td>...</td>\n",
       "      <td>...</td>\n",
       "      <td>...</td>\n",
       "      <td>...</td>\n",
       "      <td>...</td>\n",
       "      <td>...</td>\n",
       "    </tr>\n",
       "    <tr>\n",
       "      <th>215</th>\n",
       "      <td>4.770</td>\n",
       "      <td>36.494</td>\n",
       "      <td>75.847</td>\n",
       "      <td>American Steel</td>\n",
       "      <td>1950.0</td>\n",
       "      <td>5752.767409</td>\n",
       "      <td>68.02245</td>\n",
       "    </tr>\n",
       "    <tr>\n",
       "      <th>216</th>\n",
       "      <td>6.532</td>\n",
       "      <td>46.082</td>\n",
       "      <td>77.367</td>\n",
       "      <td>American Steel</td>\n",
       "      <td>1951.0</td>\n",
       "      <td>5985.652689</td>\n",
       "      <td>68.02245</td>\n",
       "    </tr>\n",
       "    <tr>\n",
       "      <th>217</th>\n",
       "      <td>7.329</td>\n",
       "      <td>57.616</td>\n",
       "      <td>78.631</td>\n",
       "      <td>American Steel</td>\n",
       "      <td>1952.0</td>\n",
       "      <td>6182.834161</td>\n",
       "      <td>68.02245</td>\n",
       "    </tr>\n",
       "    <tr>\n",
       "      <th>218</th>\n",
       "      <td>9.020</td>\n",
       "      <td>57.441</td>\n",
       "      <td>80.215</td>\n",
       "      <td>American Steel</td>\n",
       "      <td>1953.0</td>\n",
       "      <td>6434.446225</td>\n",
       "      <td>68.02245</td>\n",
       "    </tr>\n",
       "    <tr>\n",
       "      <th>219</th>\n",
       "      <td>6.281</td>\n",
       "      <td>47.165</td>\n",
       "      <td>83.788</td>\n",
       "      <td>American Steel</td>\n",
       "      <td>1954.0</td>\n",
       "      <td>7020.428944</td>\n",
       "      <td>68.02245</td>\n",
       "    </tr>\n",
       "  </tbody>\n",
       "</table>\n",
       "<p>220 rows × 7 columns</p>\n",
       "</div>"
      ],
      "text/plain": [
       "      invest     value  capital            firm    year   capital_sqd  \\\n",
       "0    317.600  3078.500    2.800  General Motors  1935.0      7.840000   \n",
       "1    391.800  4661.700   52.600  General Motors  1936.0   2766.760000   \n",
       "2    410.600  5387.100  156.900  General Motors  1937.0  24617.610000   \n",
       "3    257.700  2792.200  209.200  General Motors  1938.0  43764.640000   \n",
       "4    330.800  4313.200  203.400  General Motors  1939.0  41371.560000   \n",
       "..       ...       ...      ...             ...     ...           ...   \n",
       "215    4.770    36.494   75.847  American Steel  1950.0   5752.767409   \n",
       "216    6.532    46.082   77.367  American Steel  1951.0   5985.652689   \n",
       "217    7.329    57.616   78.631  American Steel  1952.0   6182.834161   \n",
       "218    9.020    57.441   80.215  American Steel  1953.0   6434.446225   \n",
       "219    6.281    47.165   83.788  American Steel  1954.0   7020.428944   \n",
       "\n",
       "     capital_agg  \n",
       "0      648.43500  \n",
       "1      648.43500  \n",
       "2      648.43500  \n",
       "3      648.43500  \n",
       "4      648.43500  \n",
       "..           ...  \n",
       "215     68.02245  \n",
       "216     68.02245  \n",
       "217     68.02245  \n",
       "218     68.02245  \n",
       "219     68.02245  \n",
       "\n",
       "[220 rows x 7 columns]"
      ]
     },
     "execution_count": 213,
     "metadata": {},
     "output_type": "execute_result"
    }
   ],
   "source": [
    "df2.rename(columns={'agg_capital':'capital'}, inplace=True)  # if df2 had the same named column as df1...\n",
    "df.merge(df2,on='firm',suffixes=('','_agg'))  # now it will use the suffix to protect against duplicate column names"
   ]
  },
  {
   "cell_type": "code",
   "execution_count": 214,
   "id": "f678a9bd",
   "metadata": {},
   "outputs": [],
   "source": [
    "df['value_agg'] = df.groupby(['firm'])['value'].transform('mean')"
   ]
  },
  {
   "cell_type": "code",
   "execution_count": 215,
   "id": "43379fd4",
   "metadata": {},
   "outputs": [],
   "source": [
    "import numpy as np"
   ]
  },
  {
   "cell_type": "code",
   "execution_count": 216,
   "id": "b5af6178",
   "metadata": {},
   "outputs": [],
   "source": [
    "df.loc[df['firm']=='General Motors', 'invest'] = np.nan  # replace GM invest data with NaN (missing values) for pratice"
   ]
  },
  {
   "cell_type": "code",
   "execution_count": 218,
   "id": "ee2170e0",
   "metadata": {},
   "outputs": [
    {
     "data": {
      "text/plain": [
       "nan"
      ]
     },
     "execution_count": 218,
     "metadata": {},
     "output_type": "execute_result"
    }
   ],
   "source": [
    "df['invest'][0]"
   ]
  },
  {
   "cell_type": "code",
   "execution_count": 219,
   "id": "751dad22",
   "metadata": {},
   "outputs": [
    {
     "data": {
      "text/plain": [
       "False"
      ]
     },
     "execution_count": 219,
     "metadata": {},
     "output_type": "execute_result"
    }
   ],
   "source": [
    "np.nan == np.nan  # looking for the condition 'dataframe value equals np.nan' won't work"
   ]
  },
  {
   "cell_type": "code",
   "execution_count": 124,
   "id": "4cf476d7",
   "metadata": {},
   "outputs": [
    {
     "data": {
      "text/plain": [
       "0       True\n",
       "1       True\n",
       "2       True\n",
       "3       True\n",
       "4       True\n",
       "       ...  \n",
       "215    False\n",
       "216    False\n",
       "217    False\n",
       "218    False\n",
       "219    False\n",
       "Name: invest, Length: 220, dtype: bool"
      ]
     },
     "execution_count": 124,
     "metadata": {},
     "output_type": "execute_result"
    }
   ],
   "source": [
    "pd.isnull(df['invest'])  # this is how you find np.nan with pandas"
   ]
  },
  {
   "cell_type": "code",
   "execution_count": 220,
   "id": "953eb834",
   "metadata": {},
   "outputs": [
    {
     "data": {
      "text/plain": [
       "invest         20\n",
       "value           0\n",
       "capital         0\n",
       "firm            0\n",
       "year            0\n",
       "capital_sqd     0\n",
       "value_agg       0\n",
       "dtype: int64"
      ]
     },
     "execution_count": 220,
     "metadata": {},
     "output_type": "execute_result"
    }
   ],
   "source": [
    "df.isna().sum()"
   ]
  },
  {
   "cell_type": "code",
   "execution_count": 221,
   "id": "55f2f80e",
   "metadata": {},
   "outputs": [],
   "source": [
    "df.loc[df['firm']=='American Steel', 'invest'] = 'NA'  # a different kind of nan, a 'soft missing' value, technically a string"
   ]
  },
  {
   "cell_type": "code",
   "execution_count": 222,
   "id": "3719a331",
   "metadata": {},
   "outputs": [
    {
     "data": {
      "text/plain": [
       "invest         20\n",
       "value           0\n",
       "capital         0\n",
       "firm            0\n",
       "year            0\n",
       "capital_sqd     0\n",
       "value_agg       0\n",
       "dtype: int64"
      ]
     },
     "execution_count": 222,
     "metadata": {},
     "output_type": "execute_result"
    }
   ],
   "source": [
    "df.isna().sum()  # it doesn't show up here!"
   ]
  },
  {
   "cell_type": "code",
   "execution_count": 223,
   "id": "aa2fcc68",
   "metadata": {},
   "outputs": [],
   "source": [
    "df.loc[df['invest'].isnull(),'invest'] = -1  # can replace the np.nan values"
   ]
  },
  {
   "cell_type": "code",
   "execution_count": 224,
   "id": "0e380d16",
   "metadata": {},
   "outputs": [],
   "source": [
    "df.loc[df['invest']=='NA', 'invest'] = np.nan  # can set 'soft missing' values to true nan"
   ]
  },
  {
   "cell_type": "code",
   "execution_count": 225,
   "id": "863dd0b6",
   "metadata": {},
   "outputs": [
    {
     "data": {
      "text/plain": [
       "invest         20\n",
       "value           0\n",
       "capital         0\n",
       "firm            0\n",
       "year            0\n",
       "capital_sqd     0\n",
       "value_agg       0\n",
       "dtype: int64"
      ]
     },
     "execution_count": 225,
     "metadata": {},
     "output_type": "execute_result"
    }
   ],
   "source": [
    "df.isna().sum()"
   ]
  },
  {
   "cell_type": "code",
   "execution_count": 226,
   "id": "34f31d8f",
   "metadata": {},
   "outputs": [
    {
     "data": {
      "text/html": [
       "<div>\n",
       "<style scoped>\n",
       "    .dataframe tbody tr th:only-of-type {\n",
       "        vertical-align: middle;\n",
       "    }\n",
       "\n",
       "    .dataframe tbody tr th {\n",
       "        vertical-align: top;\n",
       "    }\n",
       "\n",
       "    .dataframe thead th {\n",
       "        text-align: right;\n",
       "    }\n",
       "</style>\n",
       "<table border=\"1\" class=\"dataframe\">\n",
       "  <thead>\n",
       "    <tr style=\"text-align: right;\">\n",
       "      <th></th>\n",
       "      <th>invest</th>\n",
       "      <th>value</th>\n",
       "      <th>capital</th>\n",
       "      <th>firm</th>\n",
       "      <th>year</th>\n",
       "      <th>capital_sqd</th>\n",
       "      <th>value_agg</th>\n",
       "    </tr>\n",
       "  </thead>\n",
       "  <tbody>\n",
       "    <tr>\n",
       "      <th>0</th>\n",
       "      <td>-1</td>\n",
       "      <td>3078.500</td>\n",
       "      <td>2.800</td>\n",
       "      <td>General Motors</td>\n",
       "      <td>1935.0</td>\n",
       "      <td>7.840000</td>\n",
       "      <td>4333.84500</td>\n",
       "    </tr>\n",
       "    <tr>\n",
       "      <th>1</th>\n",
       "      <td>-1</td>\n",
       "      <td>4661.700</td>\n",
       "      <td>52.600</td>\n",
       "      <td>General Motors</td>\n",
       "      <td>1936.0</td>\n",
       "      <td>2766.760000</td>\n",
       "      <td>4333.84500</td>\n",
       "    </tr>\n",
       "    <tr>\n",
       "      <th>2</th>\n",
       "      <td>-1</td>\n",
       "      <td>5387.100</td>\n",
       "      <td>156.900</td>\n",
       "      <td>General Motors</td>\n",
       "      <td>1937.0</td>\n",
       "      <td>24617.610000</td>\n",
       "      <td>4333.84500</td>\n",
       "    </tr>\n",
       "    <tr>\n",
       "      <th>3</th>\n",
       "      <td>-1</td>\n",
       "      <td>2792.200</td>\n",
       "      <td>209.200</td>\n",
       "      <td>General Motors</td>\n",
       "      <td>1938.0</td>\n",
       "      <td>43764.640000</td>\n",
       "      <td>4333.84500</td>\n",
       "    </tr>\n",
       "    <tr>\n",
       "      <th>4</th>\n",
       "      <td>-1</td>\n",
       "      <td>4313.200</td>\n",
       "      <td>203.400</td>\n",
       "      <td>General Motors</td>\n",
       "      <td>1939.0</td>\n",
       "      <td>41371.560000</td>\n",
       "      <td>4333.84500</td>\n",
       "    </tr>\n",
       "    <tr>\n",
       "      <th>...</th>\n",
       "      <td>...</td>\n",
       "      <td>...</td>\n",
       "      <td>...</td>\n",
       "      <td>...</td>\n",
       "      <td>...</td>\n",
       "      <td>...</td>\n",
       "      <td>...</td>\n",
       "    </tr>\n",
       "    <tr>\n",
       "      <th>215</th>\n",
       "      <td>NaN</td>\n",
       "      <td>36.494</td>\n",
       "      <td>75.847</td>\n",
       "      <td>American Steel</td>\n",
       "      <td>1950.0</td>\n",
       "      <td>5752.767409</td>\n",
       "      <td>57.54485</td>\n",
       "    </tr>\n",
       "    <tr>\n",
       "      <th>216</th>\n",
       "      <td>NaN</td>\n",
       "      <td>46.082</td>\n",
       "      <td>77.367</td>\n",
       "      <td>American Steel</td>\n",
       "      <td>1951.0</td>\n",
       "      <td>5985.652689</td>\n",
       "      <td>57.54485</td>\n",
       "    </tr>\n",
       "    <tr>\n",
       "      <th>217</th>\n",
       "      <td>NaN</td>\n",
       "      <td>57.616</td>\n",
       "      <td>78.631</td>\n",
       "      <td>American Steel</td>\n",
       "      <td>1952.0</td>\n",
       "      <td>6182.834161</td>\n",
       "      <td>57.54485</td>\n",
       "    </tr>\n",
       "    <tr>\n",
       "      <th>218</th>\n",
       "      <td>NaN</td>\n",
       "      <td>57.441</td>\n",
       "      <td>80.215</td>\n",
       "      <td>American Steel</td>\n",
       "      <td>1953.0</td>\n",
       "      <td>6434.446225</td>\n",
       "      <td>57.54485</td>\n",
       "    </tr>\n",
       "    <tr>\n",
       "      <th>219</th>\n",
       "      <td>NaN</td>\n",
       "      <td>47.165</td>\n",
       "      <td>83.788</td>\n",
       "      <td>American Steel</td>\n",
       "      <td>1954.0</td>\n",
       "      <td>7020.428944</td>\n",
       "      <td>57.54485</td>\n",
       "    </tr>\n",
       "  </tbody>\n",
       "</table>\n",
       "<p>220 rows × 7 columns</p>\n",
       "</div>"
      ],
      "text/plain": [
       "    invest     value  capital            firm    year   capital_sqd  \\\n",
       "0       -1  3078.500    2.800  General Motors  1935.0      7.840000   \n",
       "1       -1  4661.700   52.600  General Motors  1936.0   2766.760000   \n",
       "2       -1  5387.100  156.900  General Motors  1937.0  24617.610000   \n",
       "3       -1  2792.200  209.200  General Motors  1938.0  43764.640000   \n",
       "4       -1  4313.200  203.400  General Motors  1939.0  41371.560000   \n",
       "..     ...       ...      ...             ...     ...           ...   \n",
       "215    NaN    36.494   75.847  American Steel  1950.0   5752.767409   \n",
       "216    NaN    46.082   77.367  American Steel  1951.0   5985.652689   \n",
       "217    NaN    57.616   78.631  American Steel  1952.0   6182.834161   \n",
       "218    NaN    57.441   80.215  American Steel  1953.0   6434.446225   \n",
       "219    NaN    47.165   83.788  American Steel  1954.0   7020.428944   \n",
       "\n",
       "      value_agg  \n",
       "0    4333.84500  \n",
       "1    4333.84500  \n",
       "2    4333.84500  \n",
       "3    4333.84500  \n",
       "4    4333.84500  \n",
       "..          ...  \n",
       "215    57.54485  \n",
       "216    57.54485  \n",
       "217    57.54485  \n",
       "218    57.54485  \n",
       "219    57.54485  \n",
       "\n",
       "[220 rows x 7 columns]"
      ]
     },
     "execution_count": 226,
     "metadata": {},
     "output_type": "execute_result"
    }
   ],
   "source": [
    "df"
   ]
  },
  {
   "cell_type": "code",
   "execution_count": 228,
   "id": "935590cd",
   "metadata": {},
   "outputs": [],
   "source": [
    "df = pd.read_csv(r'C:\\Users\\ethan\\Documents\\Workshop FA2022\\grunfeld.csv')\n",
    "df.loc[df['year']!=1939, 'capital'] = np.nan  # what if we only had 1939's capital data and wanted to use it for other years?\n",
    "# we can use some simple methods like fillna(), but I want to show you a more complex way because of its versatility elsewhere"
   ]
  },
  {
   "cell_type": "code",
   "execution_count": 229,
   "id": "af3b91bc",
   "metadata": {},
   "outputs": [],
   "source": [
    "df2 = df.sample(frac=1.0, random_state=42)  # sample 100% of df (shuffle it)"
   ]
  },
  {
   "cell_type": "code",
   "execution_count": 230,
   "id": "0b60e821",
   "metadata": {},
   "outputs": [
    {
     "data": {
      "text/html": [
       "<div>\n",
       "<style scoped>\n",
       "    .dataframe tbody tr th:only-of-type {\n",
       "        vertical-align: middle;\n",
       "    }\n",
       "\n",
       "    .dataframe tbody tr th {\n",
       "        vertical-align: top;\n",
       "    }\n",
       "\n",
       "    .dataframe thead th {\n",
       "        text-align: right;\n",
       "    }\n",
       "</style>\n",
       "<table border=\"1\" class=\"dataframe\">\n",
       "  <thead>\n",
       "    <tr style=\"text-align: right;\">\n",
       "      <th></th>\n",
       "      <th>Unnamed: 0</th>\n",
       "      <th>invest</th>\n",
       "      <th>value</th>\n",
       "      <th>capital</th>\n",
       "      <th>firm</th>\n",
       "      <th>year</th>\n",
       "    </tr>\n",
       "  </thead>\n",
       "  <tbody>\n",
       "    <tr>\n",
       "      <th>132</th>\n",
       "      <td>132</td>\n",
       "      <td>48.51</td>\n",
       "      <td>119.40</td>\n",
       "      <td>NaN</td>\n",
       "      <td>Union Oil</td>\n",
       "      <td>1947.0</td>\n",
       "    </tr>\n",
       "    <tr>\n",
       "      <th>148</th>\n",
       "      <td>148</td>\n",
       "      <td>37.02</td>\n",
       "      <td>617.20</td>\n",
       "      <td>NaN</td>\n",
       "      <td>Westinghouse</td>\n",
       "      <td>1943.0</td>\n",
       "    </tr>\n",
       "    <tr>\n",
       "      <th>93</th>\n",
       "      <td>93</td>\n",
       "      <td>70.34</td>\n",
       "      <td>224.50</td>\n",
       "      <td>NaN</td>\n",
       "      <td>Atlantic Refining</td>\n",
       "      <td>1948.0</td>\n",
       "    </tr>\n",
       "    <tr>\n",
       "      <th>180</th>\n",
       "      <td>180</td>\n",
       "      <td>2.54</td>\n",
       "      <td>70.91</td>\n",
       "      <td>NaN</td>\n",
       "      <td>Diamond Match</td>\n",
       "      <td>1935.0</td>\n",
       "    </tr>\n",
       "    <tr>\n",
       "      <th>15</th>\n",
       "      <td>15</td>\n",
       "      <td>642.90</td>\n",
       "      <td>3755.60</td>\n",
       "      <td>NaN</td>\n",
       "      <td>General Motors</td>\n",
       "      <td>1950.0</td>\n",
       "    </tr>\n",
       "    <tr>\n",
       "      <th>...</th>\n",
       "      <td>...</td>\n",
       "      <td>...</td>\n",
       "      <td>...</td>\n",
       "      <td>...</td>\n",
       "      <td>...</td>\n",
       "      <td>...</td>\n",
       "    </tr>\n",
       "    <tr>\n",
       "      <th>106</th>\n",
       "      <td>106</td>\n",
       "      <td>43.41</td>\n",
       "      <td>276.90</td>\n",
       "      <td>NaN</td>\n",
       "      <td>IBM</td>\n",
       "      <td>1941.0</td>\n",
       "    </tr>\n",
       "    <tr>\n",
       "      <th>14</th>\n",
       "      <td>14</td>\n",
       "      <td>555.10</td>\n",
       "      <td>3700.20</td>\n",
       "      <td>NaN</td>\n",
       "      <td>General Motors</td>\n",
       "      <td>1949.0</td>\n",
       "    </tr>\n",
       "    <tr>\n",
       "      <th>92</th>\n",
       "      <td>92</td>\n",
       "      <td>58.02</td>\n",
       "      <td>249.00</td>\n",
       "      <td>NaN</td>\n",
       "      <td>Atlantic Refining</td>\n",
       "      <td>1947.0</td>\n",
       "    </tr>\n",
       "    <tr>\n",
       "      <th>179</th>\n",
       "      <td>179</td>\n",
       "      <td>49.34</td>\n",
       "      <td>474.50</td>\n",
       "      <td>NaN</td>\n",
       "      <td>Goodyear</td>\n",
       "      <td>1954.0</td>\n",
       "    </tr>\n",
       "    <tr>\n",
       "      <th>102</th>\n",
       "      <td>102</td>\n",
       "      <td>25.94</td>\n",
       "      <td>223.10</td>\n",
       "      <td>NaN</td>\n",
       "      <td>IBM</td>\n",
       "      <td>1937.0</td>\n",
       "    </tr>\n",
       "  </tbody>\n",
       "</table>\n",
       "<p>220 rows × 6 columns</p>\n",
       "</div>"
      ],
      "text/plain": [
       "     Unnamed: 0  invest    value  capital               firm    year\n",
       "132         132   48.51   119.40      NaN          Union Oil  1947.0\n",
       "148         148   37.02   617.20      NaN       Westinghouse  1943.0\n",
       "93           93   70.34   224.50      NaN  Atlantic Refining  1948.0\n",
       "180         180    2.54    70.91      NaN      Diamond Match  1935.0\n",
       "15           15  642.90  3755.60      NaN     General Motors  1950.0\n",
       "..          ...     ...      ...      ...                ...     ...\n",
       "106         106   43.41   276.90      NaN                IBM  1941.0\n",
       "14           14  555.10  3700.20      NaN     General Motors  1949.0\n",
       "92           92   58.02   249.00      NaN  Atlantic Refining  1947.0\n",
       "179         179   49.34   474.50      NaN           Goodyear  1954.0\n",
       "102         102   25.94   223.10      NaN                IBM  1937.0\n",
       "\n",
       "[220 rows x 6 columns]"
      ]
     },
     "execution_count": 230,
     "metadata": {},
     "output_type": "execute_result"
    }
   ],
   "source": [
    "df2"
   ]
  },
  {
   "cell_type": "code",
   "execution_count": 141,
   "id": "eb67bb88",
   "metadata": {},
   "outputs": [],
   "source": [
    "df.sort_values(by = ['firm','year'], inplace=True)  # first we need to sort the data"
   ]
  },
  {
   "cell_type": "code",
   "execution_count": 142,
   "id": "ae4116e6",
   "metadata": {},
   "outputs": [
    {
     "data": {
      "text/html": [
       "<div>\n",
       "<style scoped>\n",
       "    .dataframe tbody tr th:only-of-type {\n",
       "        vertical-align: middle;\n",
       "    }\n",
       "\n",
       "    .dataframe tbody tr th {\n",
       "        vertical-align: top;\n",
       "    }\n",
       "\n",
       "    .dataframe thead th {\n",
       "        text-align: right;\n",
       "    }\n",
       "</style>\n",
       "<table border=\"1\" class=\"dataframe\">\n",
       "  <thead>\n",
       "    <tr style=\"text-align: right;\">\n",
       "      <th></th>\n",
       "      <th>invest</th>\n",
       "      <th>value</th>\n",
       "      <th>capital</th>\n",
       "      <th>firm</th>\n",
       "      <th>year</th>\n",
       "      <th>capital_sqd</th>\n",
       "      <th>value_agg</th>\n",
       "    </tr>\n",
       "  </thead>\n",
       "  <tbody>\n",
       "    <tr>\n",
       "      <th>200</th>\n",
       "      <td>-1</td>\n",
       "      <td>30.284</td>\n",
       "      <td>NaN</td>\n",
       "      <td>American Steel</td>\n",
       "      <td>1935.0</td>\n",
       "      <td>2705.144121</td>\n",
       "      <td>57.54485</td>\n",
       "    </tr>\n",
       "    <tr>\n",
       "      <th>201</th>\n",
       "      <td>-1</td>\n",
       "      <td>43.909</td>\n",
       "      <td>NaN</td>\n",
       "      <td>American Steel</td>\n",
       "      <td>1936.0</td>\n",
       "      <td>2798.727409</td>\n",
       "      <td>57.54485</td>\n",
       "    </tr>\n",
       "    <tr>\n",
       "      <th>202</th>\n",
       "      <td>-1</td>\n",
       "      <td>107.020</td>\n",
       "      <td>NaN</td>\n",
       "      <td>American Steel</td>\n",
       "      <td>1937.0</td>\n",
       "      <td>2970.141001</td>\n",
       "      <td>57.54485</td>\n",
       "    </tr>\n",
       "    <tr>\n",
       "      <th>203</th>\n",
       "      <td>-1</td>\n",
       "      <td>68.306</td>\n",
       "      <td>NaN</td>\n",
       "      <td>American Steel</td>\n",
       "      <td>1938.0</td>\n",
       "      <td>3566.717284</td>\n",
       "      <td>57.54485</td>\n",
       "    </tr>\n",
       "    <tr>\n",
       "      <th>204</th>\n",
       "      <td>-1</td>\n",
       "      <td>84.164</td>\n",
       "      <td>61.659</td>\n",
       "      <td>American Steel</td>\n",
       "      <td>1939.0</td>\n",
       "      <td>3801.832281</td>\n",
       "      <td>57.54485</td>\n",
       "    </tr>\n",
       "    <tr>\n",
       "      <th>...</th>\n",
       "      <td>...</td>\n",
       "      <td>...</td>\n",
       "      <td>...</td>\n",
       "      <td>...</td>\n",
       "      <td>...</td>\n",
       "      <td>...</td>\n",
       "      <td>...</td>\n",
       "    </tr>\n",
       "    <tr>\n",
       "      <th>155</th>\n",
       "      <td>32.24</td>\n",
       "      <td>635.200</td>\n",
       "      <td>NaN</td>\n",
       "      <td>Westinghouse</td>\n",
       "      <td>1950.0</td>\n",
       "      <td>18686.890000</td>\n",
       "      <td>670.91000</td>\n",
       "    </tr>\n",
       "    <tr>\n",
       "      <th>156</th>\n",
       "      <td>54.38</td>\n",
       "      <td>723.800</td>\n",
       "      <td>NaN</td>\n",
       "      <td>Westinghouse</td>\n",
       "      <td>1951.0</td>\n",
       "      <td>16822.090000</td>\n",
       "      <td>670.91000</td>\n",
       "    </tr>\n",
       "    <tr>\n",
       "      <th>157</th>\n",
       "      <td>71.78</td>\n",
       "      <td>864.100</td>\n",
       "      <td>NaN</td>\n",
       "      <td>Westinghouse</td>\n",
       "      <td>1952.0</td>\n",
       "      <td>21170.250000</td>\n",
       "      <td>670.91000</td>\n",
       "    </tr>\n",
       "    <tr>\n",
       "      <th>158</th>\n",
       "      <td>90.08</td>\n",
       "      <td>1193.500</td>\n",
       "      <td>NaN</td>\n",
       "      <td>Westinghouse</td>\n",
       "      <td>1953.0</td>\n",
       "      <td>30555.040000</td>\n",
       "      <td>670.91000</td>\n",
       "    </tr>\n",
       "    <tr>\n",
       "      <th>159</th>\n",
       "      <td>68.6</td>\n",
       "      <td>1188.900</td>\n",
       "      <td>NaN</td>\n",
       "      <td>Westinghouse</td>\n",
       "      <td>1954.0</td>\n",
       "      <td>45582.250000</td>\n",
       "      <td>670.91000</td>\n",
       "    </tr>\n",
       "  </tbody>\n",
       "</table>\n",
       "<p>220 rows × 7 columns</p>\n",
       "</div>"
      ],
      "text/plain": [
       "    invest     value  capital            firm    year   capital_sqd  value_agg\n",
       "200     -1    30.284      NaN  American Steel  1935.0   2705.144121   57.54485\n",
       "201     -1    43.909      NaN  American Steel  1936.0   2798.727409   57.54485\n",
       "202     -1   107.020      NaN  American Steel  1937.0   2970.141001   57.54485\n",
       "203     -1    68.306      NaN  American Steel  1938.0   3566.717284   57.54485\n",
       "204     -1    84.164   61.659  American Steel  1939.0   3801.832281   57.54485\n",
       "..     ...       ...      ...             ...     ...           ...        ...\n",
       "155  32.24   635.200      NaN    Westinghouse  1950.0  18686.890000  670.91000\n",
       "156  54.38   723.800      NaN    Westinghouse  1951.0  16822.090000  670.91000\n",
       "157  71.78   864.100      NaN    Westinghouse  1952.0  21170.250000  670.91000\n",
       "158  90.08  1193.500      NaN    Westinghouse  1953.0  30555.040000  670.91000\n",
       "159   68.6  1188.900      NaN    Westinghouse  1954.0  45582.250000  670.91000\n",
       "\n",
       "[220 rows x 7 columns]"
      ]
     },
     "execution_count": 142,
     "metadata": {},
     "output_type": "execute_result"
    }
   ],
   "source": [
    "df"
   ]
  },
  {
   "cell_type": "code",
   "execution_count": 231,
   "id": "b844a1d2",
   "metadata": {},
   "outputs": [],
   "source": [
    "df['capital'] = df.groupby(['firm'])['capital'].ffill()"
   ]
  },
  {
   "cell_type": "code",
   "execution_count": 232,
   "id": "0a036665",
   "metadata": {},
   "outputs": [],
   "source": [
    "df['capital'] = df.groupby(['firm'])['capital'].bfill()\n"
   ]
  },
  {
   "cell_type": "code",
   "execution_count": 233,
   "id": "440298a2",
   "metadata": {},
   "outputs": [
    {
     "data": {
      "text/html": [
       "<div>\n",
       "<style scoped>\n",
       "    .dataframe tbody tr th:only-of-type {\n",
       "        vertical-align: middle;\n",
       "    }\n",
       "\n",
       "    .dataframe tbody tr th {\n",
       "        vertical-align: top;\n",
       "    }\n",
       "\n",
       "    .dataframe thead th {\n",
       "        text-align: right;\n",
       "    }\n",
       "</style>\n",
       "<table border=\"1\" class=\"dataframe\">\n",
       "  <thead>\n",
       "    <tr style=\"text-align: right;\">\n",
       "      <th></th>\n",
       "      <th>Unnamed: 0</th>\n",
       "      <th>invest</th>\n",
       "      <th>value</th>\n",
       "      <th>capital</th>\n",
       "      <th>firm</th>\n",
       "      <th>year</th>\n",
       "    </tr>\n",
       "  </thead>\n",
       "  <tbody>\n",
       "    <tr>\n",
       "      <th>0</th>\n",
       "      <td>0</td>\n",
       "      <td>317.6</td>\n",
       "      <td>3078.5</td>\n",
       "      <td>203.4</td>\n",
       "      <td>General Motors</td>\n",
       "      <td>1935.0</td>\n",
       "    </tr>\n",
       "    <tr>\n",
       "      <th>1</th>\n",
       "      <td>1</td>\n",
       "      <td>391.8</td>\n",
       "      <td>4661.7</td>\n",
       "      <td>203.4</td>\n",
       "      <td>General Motors</td>\n",
       "      <td>1936.0</td>\n",
       "    </tr>\n",
       "    <tr>\n",
       "      <th>2</th>\n",
       "      <td>2</td>\n",
       "      <td>410.6</td>\n",
       "      <td>5387.1</td>\n",
       "      <td>203.4</td>\n",
       "      <td>General Motors</td>\n",
       "      <td>1937.0</td>\n",
       "    </tr>\n",
       "    <tr>\n",
       "      <th>3</th>\n",
       "      <td>3</td>\n",
       "      <td>257.7</td>\n",
       "      <td>2792.2</td>\n",
       "      <td>203.4</td>\n",
       "      <td>General Motors</td>\n",
       "      <td>1938.0</td>\n",
       "    </tr>\n",
       "    <tr>\n",
       "      <th>4</th>\n",
       "      <td>4</td>\n",
       "      <td>330.8</td>\n",
       "      <td>4313.2</td>\n",
       "      <td>203.4</td>\n",
       "      <td>General Motors</td>\n",
       "      <td>1939.0</td>\n",
       "    </tr>\n",
       "    <tr>\n",
       "      <th>5</th>\n",
       "      <td>5</td>\n",
       "      <td>461.2</td>\n",
       "      <td>4643.9</td>\n",
       "      <td>203.4</td>\n",
       "      <td>General Motors</td>\n",
       "      <td>1940.0</td>\n",
       "    </tr>\n",
       "    <tr>\n",
       "      <th>6</th>\n",
       "      <td>6</td>\n",
       "      <td>512.0</td>\n",
       "      <td>4551.2</td>\n",
       "      <td>203.4</td>\n",
       "      <td>General Motors</td>\n",
       "      <td>1941.0</td>\n",
       "    </tr>\n",
       "    <tr>\n",
       "      <th>7</th>\n",
       "      <td>7</td>\n",
       "      <td>448.0</td>\n",
       "      <td>3244.1</td>\n",
       "      <td>203.4</td>\n",
       "      <td>General Motors</td>\n",
       "      <td>1942.0</td>\n",
       "    </tr>\n",
       "    <tr>\n",
       "      <th>8</th>\n",
       "      <td>8</td>\n",
       "      <td>499.6</td>\n",
       "      <td>4053.7</td>\n",
       "      <td>203.4</td>\n",
       "      <td>General Motors</td>\n",
       "      <td>1943.0</td>\n",
       "    </tr>\n",
       "    <tr>\n",
       "      <th>9</th>\n",
       "      <td>9</td>\n",
       "      <td>547.5</td>\n",
       "      <td>4379.3</td>\n",
       "      <td>203.4</td>\n",
       "      <td>General Motors</td>\n",
       "      <td>1944.0</td>\n",
       "    </tr>\n",
       "    <tr>\n",
       "      <th>10</th>\n",
       "      <td>10</td>\n",
       "      <td>561.2</td>\n",
       "      <td>4840.9</td>\n",
       "      <td>203.4</td>\n",
       "      <td>General Motors</td>\n",
       "      <td>1945.0</td>\n",
       "    </tr>\n",
       "    <tr>\n",
       "      <th>11</th>\n",
       "      <td>11</td>\n",
       "      <td>688.1</td>\n",
       "      <td>4900.9</td>\n",
       "      <td>203.4</td>\n",
       "      <td>General Motors</td>\n",
       "      <td>1946.0</td>\n",
       "    </tr>\n",
       "    <tr>\n",
       "      <th>12</th>\n",
       "      <td>12</td>\n",
       "      <td>568.9</td>\n",
       "      <td>3526.5</td>\n",
       "      <td>203.4</td>\n",
       "      <td>General Motors</td>\n",
       "      <td>1947.0</td>\n",
       "    </tr>\n",
       "    <tr>\n",
       "      <th>13</th>\n",
       "      <td>13</td>\n",
       "      <td>529.2</td>\n",
       "      <td>3254.7</td>\n",
       "      <td>203.4</td>\n",
       "      <td>General Motors</td>\n",
       "      <td>1948.0</td>\n",
       "    </tr>\n",
       "    <tr>\n",
       "      <th>14</th>\n",
       "      <td>14</td>\n",
       "      <td>555.1</td>\n",
       "      <td>3700.2</td>\n",
       "      <td>203.4</td>\n",
       "      <td>General Motors</td>\n",
       "      <td>1949.0</td>\n",
       "    </tr>\n",
       "    <tr>\n",
       "      <th>15</th>\n",
       "      <td>15</td>\n",
       "      <td>642.9</td>\n",
       "      <td>3755.6</td>\n",
       "      <td>203.4</td>\n",
       "      <td>General Motors</td>\n",
       "      <td>1950.0</td>\n",
       "    </tr>\n",
       "    <tr>\n",
       "      <th>16</th>\n",
       "      <td>16</td>\n",
       "      <td>755.9</td>\n",
       "      <td>4833.0</td>\n",
       "      <td>203.4</td>\n",
       "      <td>General Motors</td>\n",
       "      <td>1951.0</td>\n",
       "    </tr>\n",
       "    <tr>\n",
       "      <th>17</th>\n",
       "      <td>17</td>\n",
       "      <td>891.2</td>\n",
       "      <td>4924.9</td>\n",
       "      <td>203.4</td>\n",
       "      <td>General Motors</td>\n",
       "      <td>1952.0</td>\n",
       "    </tr>\n",
       "    <tr>\n",
       "      <th>18</th>\n",
       "      <td>18</td>\n",
       "      <td>1304.4</td>\n",
       "      <td>6241.7</td>\n",
       "      <td>203.4</td>\n",
       "      <td>General Motors</td>\n",
       "      <td>1953.0</td>\n",
       "    </tr>\n",
       "    <tr>\n",
       "      <th>19</th>\n",
       "      <td>19</td>\n",
       "      <td>1486.7</td>\n",
       "      <td>5593.6</td>\n",
       "      <td>203.4</td>\n",
       "      <td>General Motors</td>\n",
       "      <td>1954.0</td>\n",
       "    </tr>\n",
       "    <tr>\n",
       "      <th>20</th>\n",
       "      <td>20</td>\n",
       "      <td>209.9</td>\n",
       "      <td>1362.4</td>\n",
       "      <td>312.7</td>\n",
       "      <td>US Steel</td>\n",
       "      <td>1935.0</td>\n",
       "    </tr>\n",
       "    <tr>\n",
       "      <th>21</th>\n",
       "      <td>21</td>\n",
       "      <td>355.3</td>\n",
       "      <td>1807.1</td>\n",
       "      <td>312.7</td>\n",
       "      <td>US Steel</td>\n",
       "      <td>1936.0</td>\n",
       "    </tr>\n",
       "    <tr>\n",
       "      <th>22</th>\n",
       "      <td>22</td>\n",
       "      <td>469.9</td>\n",
       "      <td>2676.3</td>\n",
       "      <td>312.7</td>\n",
       "      <td>US Steel</td>\n",
       "      <td>1937.0</td>\n",
       "    </tr>\n",
       "    <tr>\n",
       "      <th>23</th>\n",
       "      <td>23</td>\n",
       "      <td>262.3</td>\n",
       "      <td>1801.9</td>\n",
       "      <td>312.7</td>\n",
       "      <td>US Steel</td>\n",
       "      <td>1938.0</td>\n",
       "    </tr>\n",
       "    <tr>\n",
       "      <th>24</th>\n",
       "      <td>24</td>\n",
       "      <td>230.4</td>\n",
       "      <td>1957.3</td>\n",
       "      <td>312.7</td>\n",
       "      <td>US Steel</td>\n",
       "      <td>1939.0</td>\n",
       "    </tr>\n",
       "    <tr>\n",
       "      <th>25</th>\n",
       "      <td>25</td>\n",
       "      <td>361.6</td>\n",
       "      <td>2202.9</td>\n",
       "      <td>312.7</td>\n",
       "      <td>US Steel</td>\n",
       "      <td>1940.0</td>\n",
       "    </tr>\n",
       "    <tr>\n",
       "      <th>26</th>\n",
       "      <td>26</td>\n",
       "      <td>472.8</td>\n",
       "      <td>2380.5</td>\n",
       "      <td>312.7</td>\n",
       "      <td>US Steel</td>\n",
       "      <td>1941.0</td>\n",
       "    </tr>\n",
       "    <tr>\n",
       "      <th>27</th>\n",
       "      <td>27</td>\n",
       "      <td>445.6</td>\n",
       "      <td>2168.6</td>\n",
       "      <td>312.7</td>\n",
       "      <td>US Steel</td>\n",
       "      <td>1942.0</td>\n",
       "    </tr>\n",
       "    <tr>\n",
       "      <th>28</th>\n",
       "      <td>28</td>\n",
       "      <td>361.6</td>\n",
       "      <td>1985.1</td>\n",
       "      <td>312.7</td>\n",
       "      <td>US Steel</td>\n",
       "      <td>1943.0</td>\n",
       "    </tr>\n",
       "    <tr>\n",
       "      <th>29</th>\n",
       "      <td>29</td>\n",
       "      <td>288.2</td>\n",
       "      <td>1813.9</td>\n",
       "      <td>312.7</td>\n",
       "      <td>US Steel</td>\n",
       "      <td>1944.0</td>\n",
       "    </tr>\n",
       "    <tr>\n",
       "      <th>30</th>\n",
       "      <td>30</td>\n",
       "      <td>258.7</td>\n",
       "      <td>1850.2</td>\n",
       "      <td>312.7</td>\n",
       "      <td>US Steel</td>\n",
       "      <td>1945.0</td>\n",
       "    </tr>\n",
       "    <tr>\n",
       "      <th>31</th>\n",
       "      <td>31</td>\n",
       "      <td>420.3</td>\n",
       "      <td>2067.7</td>\n",
       "      <td>312.7</td>\n",
       "      <td>US Steel</td>\n",
       "      <td>1946.0</td>\n",
       "    </tr>\n",
       "    <tr>\n",
       "      <th>32</th>\n",
       "      <td>32</td>\n",
       "      <td>420.5</td>\n",
       "      <td>1796.7</td>\n",
       "      <td>312.7</td>\n",
       "      <td>US Steel</td>\n",
       "      <td>1947.0</td>\n",
       "    </tr>\n",
       "    <tr>\n",
       "      <th>33</th>\n",
       "      <td>33</td>\n",
       "      <td>494.5</td>\n",
       "      <td>1625.8</td>\n",
       "      <td>312.7</td>\n",
       "      <td>US Steel</td>\n",
       "      <td>1948.0</td>\n",
       "    </tr>\n",
       "    <tr>\n",
       "      <th>34</th>\n",
       "      <td>34</td>\n",
       "      <td>405.1</td>\n",
       "      <td>1667.0</td>\n",
       "      <td>312.7</td>\n",
       "      <td>US Steel</td>\n",
       "      <td>1949.0</td>\n",
       "    </tr>\n",
       "    <tr>\n",
       "      <th>35</th>\n",
       "      <td>35</td>\n",
       "      <td>418.8</td>\n",
       "      <td>1677.4</td>\n",
       "      <td>312.7</td>\n",
       "      <td>US Steel</td>\n",
       "      <td>1950.0</td>\n",
       "    </tr>\n",
       "    <tr>\n",
       "      <th>36</th>\n",
       "      <td>36</td>\n",
       "      <td>588.2</td>\n",
       "      <td>2289.5</td>\n",
       "      <td>312.7</td>\n",
       "      <td>US Steel</td>\n",
       "      <td>1951.0</td>\n",
       "    </tr>\n",
       "    <tr>\n",
       "      <th>37</th>\n",
       "      <td>37</td>\n",
       "      <td>645.5</td>\n",
       "      <td>2159.4</td>\n",
       "      <td>312.7</td>\n",
       "      <td>US Steel</td>\n",
       "      <td>1952.0</td>\n",
       "    </tr>\n",
       "    <tr>\n",
       "      <th>38</th>\n",
       "      <td>38</td>\n",
       "      <td>641.0</td>\n",
       "      <td>2031.3</td>\n",
       "      <td>312.7</td>\n",
       "      <td>US Steel</td>\n",
       "      <td>1953.0</td>\n",
       "    </tr>\n",
       "    <tr>\n",
       "      <th>39</th>\n",
       "      <td>39</td>\n",
       "      <td>459.3</td>\n",
       "      <td>2115.5</td>\n",
       "      <td>312.7</td>\n",
       "      <td>US Steel</td>\n",
       "      <td>1954.0</td>\n",
       "    </tr>\n",
       "    <tr>\n",
       "      <th>40</th>\n",
       "      <td>40</td>\n",
       "      <td>33.1</td>\n",
       "      <td>1170.6</td>\n",
       "      <td>172.6</td>\n",
       "      <td>General Electric</td>\n",
       "      <td>1935.0</td>\n",
       "    </tr>\n",
       "    <tr>\n",
       "      <th>41</th>\n",
       "      <td>41</td>\n",
       "      <td>45.0</td>\n",
       "      <td>2015.8</td>\n",
       "      <td>172.6</td>\n",
       "      <td>General Electric</td>\n",
       "      <td>1936.0</td>\n",
       "    </tr>\n",
       "    <tr>\n",
       "      <th>42</th>\n",
       "      <td>42</td>\n",
       "      <td>77.2</td>\n",
       "      <td>2803.3</td>\n",
       "      <td>172.6</td>\n",
       "      <td>General Electric</td>\n",
       "      <td>1937.0</td>\n",
       "    </tr>\n",
       "    <tr>\n",
       "      <th>43</th>\n",
       "      <td>43</td>\n",
       "      <td>44.6</td>\n",
       "      <td>2039.7</td>\n",
       "      <td>172.6</td>\n",
       "      <td>General Electric</td>\n",
       "      <td>1938.0</td>\n",
       "    </tr>\n",
       "    <tr>\n",
       "      <th>44</th>\n",
       "      <td>44</td>\n",
       "      <td>48.1</td>\n",
       "      <td>2256.2</td>\n",
       "      <td>172.6</td>\n",
       "      <td>General Electric</td>\n",
       "      <td>1939.0</td>\n",
       "    </tr>\n",
       "    <tr>\n",
       "      <th>45</th>\n",
       "      <td>45</td>\n",
       "      <td>74.4</td>\n",
       "      <td>2132.2</td>\n",
       "      <td>172.6</td>\n",
       "      <td>General Electric</td>\n",
       "      <td>1940.0</td>\n",
       "    </tr>\n",
       "    <tr>\n",
       "      <th>46</th>\n",
       "      <td>46</td>\n",
       "      <td>113.0</td>\n",
       "      <td>1834.1</td>\n",
       "      <td>172.6</td>\n",
       "      <td>General Electric</td>\n",
       "      <td>1941.0</td>\n",
       "    </tr>\n",
       "    <tr>\n",
       "      <th>47</th>\n",
       "      <td>47</td>\n",
       "      <td>91.9</td>\n",
       "      <td>1588.0</td>\n",
       "      <td>172.6</td>\n",
       "      <td>General Electric</td>\n",
       "      <td>1942.0</td>\n",
       "    </tr>\n",
       "    <tr>\n",
       "      <th>48</th>\n",
       "      <td>48</td>\n",
       "      <td>61.3</td>\n",
       "      <td>1749.4</td>\n",
       "      <td>172.6</td>\n",
       "      <td>General Electric</td>\n",
       "      <td>1943.0</td>\n",
       "    </tr>\n",
       "    <tr>\n",
       "      <th>49</th>\n",
       "      <td>49</td>\n",
       "      <td>56.8</td>\n",
       "      <td>1687.2</td>\n",
       "      <td>172.6</td>\n",
       "      <td>General Electric</td>\n",
       "      <td>1944.0</td>\n",
       "    </tr>\n",
       "  </tbody>\n",
       "</table>\n",
       "</div>"
      ],
      "text/plain": [
       "    Unnamed: 0  invest   value  capital              firm    year\n",
       "0            0   317.6  3078.5    203.4    General Motors  1935.0\n",
       "1            1   391.8  4661.7    203.4    General Motors  1936.0\n",
       "2            2   410.6  5387.1    203.4    General Motors  1937.0\n",
       "3            3   257.7  2792.2    203.4    General Motors  1938.0\n",
       "4            4   330.8  4313.2    203.4    General Motors  1939.0\n",
       "5            5   461.2  4643.9    203.4    General Motors  1940.0\n",
       "6            6   512.0  4551.2    203.4    General Motors  1941.0\n",
       "7            7   448.0  3244.1    203.4    General Motors  1942.0\n",
       "8            8   499.6  4053.7    203.4    General Motors  1943.0\n",
       "9            9   547.5  4379.3    203.4    General Motors  1944.0\n",
       "10          10   561.2  4840.9    203.4    General Motors  1945.0\n",
       "11          11   688.1  4900.9    203.4    General Motors  1946.0\n",
       "12          12   568.9  3526.5    203.4    General Motors  1947.0\n",
       "13          13   529.2  3254.7    203.4    General Motors  1948.0\n",
       "14          14   555.1  3700.2    203.4    General Motors  1949.0\n",
       "15          15   642.9  3755.6    203.4    General Motors  1950.0\n",
       "16          16   755.9  4833.0    203.4    General Motors  1951.0\n",
       "17          17   891.2  4924.9    203.4    General Motors  1952.0\n",
       "18          18  1304.4  6241.7    203.4    General Motors  1953.0\n",
       "19          19  1486.7  5593.6    203.4    General Motors  1954.0\n",
       "20          20   209.9  1362.4    312.7          US Steel  1935.0\n",
       "21          21   355.3  1807.1    312.7          US Steel  1936.0\n",
       "22          22   469.9  2676.3    312.7          US Steel  1937.0\n",
       "23          23   262.3  1801.9    312.7          US Steel  1938.0\n",
       "24          24   230.4  1957.3    312.7          US Steel  1939.0\n",
       "25          25   361.6  2202.9    312.7          US Steel  1940.0\n",
       "26          26   472.8  2380.5    312.7          US Steel  1941.0\n",
       "27          27   445.6  2168.6    312.7          US Steel  1942.0\n",
       "28          28   361.6  1985.1    312.7          US Steel  1943.0\n",
       "29          29   288.2  1813.9    312.7          US Steel  1944.0\n",
       "30          30   258.7  1850.2    312.7          US Steel  1945.0\n",
       "31          31   420.3  2067.7    312.7          US Steel  1946.0\n",
       "32          32   420.5  1796.7    312.7          US Steel  1947.0\n",
       "33          33   494.5  1625.8    312.7          US Steel  1948.0\n",
       "34          34   405.1  1667.0    312.7          US Steel  1949.0\n",
       "35          35   418.8  1677.4    312.7          US Steel  1950.0\n",
       "36          36   588.2  2289.5    312.7          US Steel  1951.0\n",
       "37          37   645.5  2159.4    312.7          US Steel  1952.0\n",
       "38          38   641.0  2031.3    312.7          US Steel  1953.0\n",
       "39          39   459.3  2115.5    312.7          US Steel  1954.0\n",
       "40          40    33.1  1170.6    172.6  General Electric  1935.0\n",
       "41          41    45.0  2015.8    172.6  General Electric  1936.0\n",
       "42          42    77.2  2803.3    172.6  General Electric  1937.0\n",
       "43          43    44.6  2039.7    172.6  General Electric  1938.0\n",
       "44          44    48.1  2256.2    172.6  General Electric  1939.0\n",
       "45          45    74.4  2132.2    172.6  General Electric  1940.0\n",
       "46          46   113.0  1834.1    172.6  General Electric  1941.0\n",
       "47          47    91.9  1588.0    172.6  General Electric  1942.0\n",
       "48          48    61.3  1749.4    172.6  General Electric  1943.0\n",
       "49          49    56.8  1687.2    172.6  General Electric  1944.0"
      ]
     },
     "execution_count": 233,
     "metadata": {},
     "output_type": "execute_result"
    }
   ],
   "source": [
    "df.head(50)  # now, every firm has capital filled out using their 1939 value"
   ]
  },
  {
   "cell_type": "code",
   "execution_count": 171,
   "id": "f4495e43",
   "metadata": {},
   "outputs": [],
   "source": [
    "import plotly.express as px  # fancy seaborn"
   ]
  },
  {
   "cell_type": "code",
   "execution_count": 179,
   "id": "5e93035b",
   "metadata": {},
   "outputs": [
    {
     "data": {
      "application/vnd.plotly.v1+json": {
       "config": {
        "plotlyServerURL": "https://plot.ly"
       },
       "data": [
        {
         "hovertemplate": "firm=General Motors<br>capital=%{x}<br>value=%{y}<extra></extra>",
         "legendgroup": "General Motors",
         "marker": {
          "color": "#636efa",
          "symbol": "circle"
         },
         "mode": "markers",
         "name": "General Motors",
         "orientation": "v",
         "showlegend": true,
         "type": "scatter",
         "x": [
          2.8,
          52.6,
          156.9,
          209.2,
          203.4,
          207.2,
          255.2,
          303.7,
          264.1,
          201.6,
          265,
          402.2,
          761.5,
          922.4,
          1020.1,
          1099,
          1207.7,
          1430.5,
          1777.3,
          2226.3
         ],
         "xaxis": "x",
         "y": [
          3078.5,
          4661.7,
          5387.1,
          2792.2,
          4313.2,
          4643.9,
          4551.2,
          3244.1,
          4053.7,
          4379.3,
          4840.9,
          4900.9,
          3526.5,
          3254.7,
          3700.2,
          3755.6,
          4833,
          4924.9,
          6241.7,
          5593.6
         ],
         "yaxis": "y"
        },
        {
         "hovertemplate": "firm=US Steel<br>capital=%{x}<br>value=%{y}<extra></extra>",
         "legendgroup": "US Steel",
         "marker": {
          "color": "#EF553B",
          "symbol": "circle"
         },
         "mode": "markers",
         "name": "US Steel",
         "orientation": "v",
         "showlegend": true,
         "type": "scatter",
         "x": [
          53.8,
          50.5,
          118.1,
          260.2,
          312.7,
          254.2,
          261.4,
          298.7,
          301.8,
          279.1,
          213.8,
          132.6,
          264.8,
          306.9,
          351.1,
          357.8,
          342.1,
          444.2,
          623.6,
          669.7
         ],
         "xaxis": "x",
         "y": [
          1362.4,
          1807.1,
          2676.3,
          1801.9,
          1957.3,
          2202.9,
          2380.5,
          2168.6,
          1985.1,
          1813.9,
          1850.2,
          2067.7,
          1796.7,
          1625.8,
          1667,
          1677.4,
          2289.5,
          2159.4,
          2031.3,
          2115.5
         ],
         "yaxis": "y"
        },
        {
         "hovertemplate": "firm=General Electric<br>capital=%{x}<br>value=%{y}<extra></extra>",
         "legendgroup": "General Electric",
         "marker": {
          "color": "#00cc96",
          "symbol": "circle"
         },
         "mode": "markers",
         "name": "General Electric",
         "orientation": "v",
         "showlegend": true,
         "type": "scatter",
         "x": [
          97.8,
          104.4,
          118,
          156.2,
          172.6,
          186.6,
          220.9,
          287.8,
          319.9,
          321.3,
          319.6,
          346,
          456.4,
          543.4,
          618.3,
          647.4,
          671.3,
          726.1,
          800.3,
          888.9
         ],
         "xaxis": "x",
         "y": [
          1170.6,
          2015.8,
          2803.3,
          2039.7,
          2256.2,
          2132.2,
          1834.1,
          1588,
          1749.4,
          1687.2,
          2007.7,
          2208.3,
          1656.7,
          1604.4,
          1431.8,
          1610.5,
          1819.4,
          2079.7,
          2371.6,
          2759.9
         ],
         "yaxis": "y"
        },
        {
         "hovertemplate": "firm=Chrysler<br>capital=%{x}<br>value=%{y}<extra></extra>",
         "legendgroup": "Chrysler",
         "marker": {
          "color": "#ab63fa",
          "symbol": "circle"
         },
         "mode": "markers",
         "name": "Chrysler",
         "orientation": "v",
         "showlegend": true,
         "type": "scatter",
         "x": [
          10.5,
          10.2,
          34.7,
          51.8,
          64.3,
          67.1,
          75.2,
          71.4,
          67.1,
          60.5,
          54.6,
          84.8,
          96.8,
          110.2,
          147.4,
          163.2,
          203.5,
          290.6,
          346.1,
          414.9
         ],
         "xaxis": "x",
         "y": [
          417.5,
          837.8,
          883.9,
          437.9,
          679.7,
          727.8,
          643.6,
          410.9,
          588.4,
          698.4,
          846.4,
          893.8,
          579,
          694.6,
          590.3,
          693.5,
          809,
          727,
          1001.5,
          703.2
         ],
         "yaxis": "y"
        },
        {
         "hovertemplate": "firm=Atlantic Refining<br>capital=%{x}<br>value=%{y}<extra></extra>",
         "legendgroup": "Atlantic Refining",
         "marker": {
          "color": "#FFA15A",
          "symbol": "circle"
         },
         "mode": "markers",
         "name": "Atlantic Refining",
         "orientation": "v",
         "showlegend": true,
         "type": "scatter",
         "x": [
          183.2,
          204,
          236,
          291.7,
          323.1,
          344,
          367.7,
          407.2,
          426.6,
          470,
          499.2,
          534.6,
          566.6,
          595.3,
          631.4,
          662.3,
          683.9,
          729.3,
          774.3,
          804.9
         ],
         "xaxis": "x",
         "y": [
          157.7,
          167.9,
          192.9,
          156.7,
          191.4,
          185.5,
          199.6,
          189.5,
          151.2,
          187.7,
          214.7,
          232.9,
          249,
          224.5,
          237.3,
          240.1,
          327.3,
          359.4,
          398.4,
          365.7
         ],
         "yaxis": "y"
        },
        {
         "hovertemplate": "firm=IBM<br>capital=%{x}<br>value=%{y}<extra></extra>",
         "legendgroup": "IBM",
         "marker": {
          "color": "#19d3f3",
          "symbol": "circle"
         },
         "mode": "markers",
         "name": "IBM",
         "orientation": "v",
         "showlegend": true,
         "type": "scatter",
         "x": [
          6.5,
          15.8,
          27.7,
          39.2,
          48.6,
          52.5,
          61.5,
          80.5,
          94.4,
          92.6,
          92.3,
          94.2,
          111.4,
          127.4,
          149.3,
          164.4,
          177.2,
          200,
          211.5,
          238.7
         ],
         "xaxis": "x",
         "y": [
          197,
          210.3,
          223.1,
          216.7,
          286.4,
          298,
          276.9,
          272.6,
          287.4,
          330.3,
          324.4,
          401.9,
          407.4,
          409.2,
          482.2,
          673.8,
          676.9,
          702,
          793.5,
          927.3
         ],
         "yaxis": "y"
        },
        {
         "hovertemplate": "firm=Union Oil<br>capital=%{x}<br>value=%{y}<extra></extra>",
         "legendgroup": "Union Oil",
         "marker": {
          "color": "#FF6692",
          "symbol": "circle"
         },
         "mode": "markers",
         "name": "Union Oil",
         "orientation": "v",
         "showlegend": true,
         "type": "scatter",
         "x": [
          100.2,
          125,
          142.4,
          165.1,
          194.8,
          222.9,
          252.1,
          276.3,
          300.3,
          318.2,
          336.2,
          351.2,
          373.6,
          389.4,
          406.7,
          429.5,
          450.6,
          466.9,
          486.2,
          511.3
         ],
         "xaxis": "x",
         "y": [
          138,
          200.1,
          210.1,
          161.2,
          161.7,
          145.1,
          110.6,
          98.1,
          108.8,
          118.2,
          126.5,
          156.7,
          119.4,
          129.1,
          134.8,
          140.8,
          179,
          178.1,
          186.8,
          192.7
         ],
         "yaxis": "y"
        },
        {
         "hovertemplate": "firm=Westinghouse<br>capital=%{x}<br>value=%{y}<extra></extra>",
         "legendgroup": "Westinghouse",
         "marker": {
          "color": "#B6E880",
          "symbol": "circle"
         },
         "mode": "markers",
         "name": "Westinghouse",
         "orientation": "v",
         "showlegend": true,
         "type": "scatter",
         "x": [
          1.8,
          0.8,
          7.4,
          18.1,
          23.5,
          26.5,
          36.2,
          60.8,
          84.4,
          91.2,
          92.4,
          86,
          111.1,
          130.6,
          141.8,
          136.7,
          129.7,
          145.5,
          174.8,
          213.5
         ],
         "xaxis": "x",
         "y": [
          191.5,
          516,
          729,
          560.4,
          519.9,
          628.5,
          537.1,
          561.2,
          617.2,
          626.7,
          737.2,
          760.5,
          581.4,
          662.3,
          583.8,
          635.2,
          723.8,
          864.1,
          1193.5,
          1188.9
         ],
         "yaxis": "y"
        },
        {
         "hovertemplate": "firm=Goodyear<br>capital=%{x}<br>value=%{y}<extra></extra>",
         "legendgroup": "Goodyear",
         "marker": {
          "color": "#FF97FF",
          "symbol": "circle"
         },
         "mode": "markers",
         "name": "Goodyear",
         "orientation": "v",
         "showlegend": true,
         "type": "scatter",
         "x": [
          162,
          174,
          183,
          198,
          208,
          223,
          234,
          248,
          274,
          282,
          316,
          302,
          333,
          359,
          370,
          376,
          391,
          414,
          443,
          468
         ],
         "xaxis": "x",
         "y": [
          290.6,
          291.1,
          335,
          246,
          356.2,
          289.8,
          268.2,
          213.3,
          348.2,
          374.2,
          387.2,
          347.4,
          291.9,
          297.2,
          276.9,
          274.6,
          339.9,
          474.8,
          496,
          474.5
         ],
         "yaxis": "y"
        },
        {
         "hovertemplate": "firm=Diamond Match<br>capital=%{x}<br>value=%{y}<extra></extra>",
         "legendgroup": "Diamond Match",
         "marker": {
          "color": "#FECB52",
          "symbol": "circle"
         },
         "mode": "markers",
         "name": "Diamond Match",
         "orientation": "v",
         "showlegend": true,
         "type": "scatter",
         "x": [
          4.5,
          4.71,
          4.57,
          4.56,
          4.38,
          4.21,
          4.12,
          3.83,
          3.58,
          3.41,
          3.31,
          3.23,
          3.9,
          5.38,
          7.39,
          8.74,
          9.07,
          9.93,
          11.68,
          14.33
         ],
         "xaxis": "x",
         "y": [
          70.91,
          87.94,
          82.2,
          58.72,
          80.54,
          86.47,
          77.68,
          62.16,
          62.24,
          61.82,
          65.85,
          69.54,
          64.97,
          68,
          71.24,
          69.05,
          83.04,
          74.42,
          63.51,
          58.12
         ],
         "yaxis": "y"
        },
        {
         "hovertemplate": "firm=American Steel<br>capital=%{x}<br>value=%{y}<extra></extra>",
         "legendgroup": "American Steel",
         "marker": {
          "color": "#636efa",
          "symbol": "circle"
         },
         "mode": "markers",
         "name": "American Steel",
         "orientation": "v",
         "showlegend": true,
         "type": "scatter",
         "x": [
          52.011,
          52.903,
          54.499,
          59.722,
          61.659,
          62.243,
          63.361,
          64.861,
          67.953,
          69.59,
          69.144,
          70.269,
          71.051,
          71.508,
          73.827,
          75.847,
          77.367,
          78.631,
          80.215,
          83.788
         ],
         "xaxis": "x",
         "y": [
          30.284,
          43.909,
          107.02,
          68.306,
          84.164,
          69.157,
          60.148,
          49.332,
          75.18,
          62.05,
          59.152,
          68.424,
          48.505,
          40.507,
          39.961,
          36.494,
          46.082,
          57.616,
          57.441,
          47.165
         ],
         "yaxis": "y"
        }
       ],
       "layout": {
        "legend": {
         "title": {
          "text": "firm"
         },
         "tracegroupgap": 0
        },
        "margin": {
         "t": 60
        },
        "template": {
         "data": {
          "bar": [
           {
            "error_x": {
             "color": "#2a3f5f"
            },
            "error_y": {
             "color": "#2a3f5f"
            },
            "marker": {
             "line": {
              "color": "#E5ECF6",
              "width": 0.5
             },
             "pattern": {
              "fillmode": "overlay",
              "size": 10,
              "solidity": 0.2
             }
            },
            "type": "bar"
           }
          ],
          "barpolar": [
           {
            "marker": {
             "line": {
              "color": "#E5ECF6",
              "width": 0.5
             },
             "pattern": {
              "fillmode": "overlay",
              "size": 10,
              "solidity": 0.2
             }
            },
            "type": "barpolar"
           }
          ],
          "carpet": [
           {
            "aaxis": {
             "endlinecolor": "#2a3f5f",
             "gridcolor": "white",
             "linecolor": "white",
             "minorgridcolor": "white",
             "startlinecolor": "#2a3f5f"
            },
            "baxis": {
             "endlinecolor": "#2a3f5f",
             "gridcolor": "white",
             "linecolor": "white",
             "minorgridcolor": "white",
             "startlinecolor": "#2a3f5f"
            },
            "type": "carpet"
           }
          ],
          "choropleth": [
           {
            "colorbar": {
             "outlinewidth": 0,
             "ticks": ""
            },
            "type": "choropleth"
           }
          ],
          "contour": [
           {
            "colorbar": {
             "outlinewidth": 0,
             "ticks": ""
            },
            "colorscale": [
             [
              0,
              "#0d0887"
             ],
             [
              0.1111111111111111,
              "#46039f"
             ],
             [
              0.2222222222222222,
              "#7201a8"
             ],
             [
              0.3333333333333333,
              "#9c179e"
             ],
             [
              0.4444444444444444,
              "#bd3786"
             ],
             [
              0.5555555555555556,
              "#d8576b"
             ],
             [
              0.6666666666666666,
              "#ed7953"
             ],
             [
              0.7777777777777778,
              "#fb9f3a"
             ],
             [
              0.8888888888888888,
              "#fdca26"
             ],
             [
              1,
              "#f0f921"
             ]
            ],
            "type": "contour"
           }
          ],
          "contourcarpet": [
           {
            "colorbar": {
             "outlinewidth": 0,
             "ticks": ""
            },
            "type": "contourcarpet"
           }
          ],
          "heatmap": [
           {
            "colorbar": {
             "outlinewidth": 0,
             "ticks": ""
            },
            "colorscale": [
             [
              0,
              "#0d0887"
             ],
             [
              0.1111111111111111,
              "#46039f"
             ],
             [
              0.2222222222222222,
              "#7201a8"
             ],
             [
              0.3333333333333333,
              "#9c179e"
             ],
             [
              0.4444444444444444,
              "#bd3786"
             ],
             [
              0.5555555555555556,
              "#d8576b"
             ],
             [
              0.6666666666666666,
              "#ed7953"
             ],
             [
              0.7777777777777778,
              "#fb9f3a"
             ],
             [
              0.8888888888888888,
              "#fdca26"
             ],
             [
              1,
              "#f0f921"
             ]
            ],
            "type": "heatmap"
           }
          ],
          "heatmapgl": [
           {
            "colorbar": {
             "outlinewidth": 0,
             "ticks": ""
            },
            "colorscale": [
             [
              0,
              "#0d0887"
             ],
             [
              0.1111111111111111,
              "#46039f"
             ],
             [
              0.2222222222222222,
              "#7201a8"
             ],
             [
              0.3333333333333333,
              "#9c179e"
             ],
             [
              0.4444444444444444,
              "#bd3786"
             ],
             [
              0.5555555555555556,
              "#d8576b"
             ],
             [
              0.6666666666666666,
              "#ed7953"
             ],
             [
              0.7777777777777778,
              "#fb9f3a"
             ],
             [
              0.8888888888888888,
              "#fdca26"
             ],
             [
              1,
              "#f0f921"
             ]
            ],
            "type": "heatmapgl"
           }
          ],
          "histogram": [
           {
            "marker": {
             "pattern": {
              "fillmode": "overlay",
              "size": 10,
              "solidity": 0.2
             }
            },
            "type": "histogram"
           }
          ],
          "histogram2d": [
           {
            "colorbar": {
             "outlinewidth": 0,
             "ticks": ""
            },
            "colorscale": [
             [
              0,
              "#0d0887"
             ],
             [
              0.1111111111111111,
              "#46039f"
             ],
             [
              0.2222222222222222,
              "#7201a8"
             ],
             [
              0.3333333333333333,
              "#9c179e"
             ],
             [
              0.4444444444444444,
              "#bd3786"
             ],
             [
              0.5555555555555556,
              "#d8576b"
             ],
             [
              0.6666666666666666,
              "#ed7953"
             ],
             [
              0.7777777777777778,
              "#fb9f3a"
             ],
             [
              0.8888888888888888,
              "#fdca26"
             ],
             [
              1,
              "#f0f921"
             ]
            ],
            "type": "histogram2d"
           }
          ],
          "histogram2dcontour": [
           {
            "colorbar": {
             "outlinewidth": 0,
             "ticks": ""
            },
            "colorscale": [
             [
              0,
              "#0d0887"
             ],
             [
              0.1111111111111111,
              "#46039f"
             ],
             [
              0.2222222222222222,
              "#7201a8"
             ],
             [
              0.3333333333333333,
              "#9c179e"
             ],
             [
              0.4444444444444444,
              "#bd3786"
             ],
             [
              0.5555555555555556,
              "#d8576b"
             ],
             [
              0.6666666666666666,
              "#ed7953"
             ],
             [
              0.7777777777777778,
              "#fb9f3a"
             ],
             [
              0.8888888888888888,
              "#fdca26"
             ],
             [
              1,
              "#f0f921"
             ]
            ],
            "type": "histogram2dcontour"
           }
          ],
          "mesh3d": [
           {
            "colorbar": {
             "outlinewidth": 0,
             "ticks": ""
            },
            "type": "mesh3d"
           }
          ],
          "parcoords": [
           {
            "line": {
             "colorbar": {
              "outlinewidth": 0,
              "ticks": ""
             }
            },
            "type": "parcoords"
           }
          ],
          "pie": [
           {
            "automargin": true,
            "type": "pie"
           }
          ],
          "scatter": [
           {
            "marker": {
             "colorbar": {
              "outlinewidth": 0,
              "ticks": ""
             }
            },
            "type": "scatter"
           }
          ],
          "scatter3d": [
           {
            "line": {
             "colorbar": {
              "outlinewidth": 0,
              "ticks": ""
             }
            },
            "marker": {
             "colorbar": {
              "outlinewidth": 0,
              "ticks": ""
             }
            },
            "type": "scatter3d"
           }
          ],
          "scattercarpet": [
           {
            "marker": {
             "colorbar": {
              "outlinewidth": 0,
              "ticks": ""
             }
            },
            "type": "scattercarpet"
           }
          ],
          "scattergeo": [
           {
            "marker": {
             "colorbar": {
              "outlinewidth": 0,
              "ticks": ""
             }
            },
            "type": "scattergeo"
           }
          ],
          "scattergl": [
           {
            "marker": {
             "colorbar": {
              "outlinewidth": 0,
              "ticks": ""
             }
            },
            "type": "scattergl"
           }
          ],
          "scattermapbox": [
           {
            "marker": {
             "colorbar": {
              "outlinewidth": 0,
              "ticks": ""
             }
            },
            "type": "scattermapbox"
           }
          ],
          "scatterpolar": [
           {
            "marker": {
             "colorbar": {
              "outlinewidth": 0,
              "ticks": ""
             }
            },
            "type": "scatterpolar"
           }
          ],
          "scatterpolargl": [
           {
            "marker": {
             "colorbar": {
              "outlinewidth": 0,
              "ticks": ""
             }
            },
            "type": "scatterpolargl"
           }
          ],
          "scatterternary": [
           {
            "marker": {
             "colorbar": {
              "outlinewidth": 0,
              "ticks": ""
             }
            },
            "type": "scatterternary"
           }
          ],
          "surface": [
           {
            "colorbar": {
             "outlinewidth": 0,
             "ticks": ""
            },
            "colorscale": [
             [
              0,
              "#0d0887"
             ],
             [
              0.1111111111111111,
              "#46039f"
             ],
             [
              0.2222222222222222,
              "#7201a8"
             ],
             [
              0.3333333333333333,
              "#9c179e"
             ],
             [
              0.4444444444444444,
              "#bd3786"
             ],
             [
              0.5555555555555556,
              "#d8576b"
             ],
             [
              0.6666666666666666,
              "#ed7953"
             ],
             [
              0.7777777777777778,
              "#fb9f3a"
             ],
             [
              0.8888888888888888,
              "#fdca26"
             ],
             [
              1,
              "#f0f921"
             ]
            ],
            "type": "surface"
           }
          ],
          "table": [
           {
            "cells": {
             "fill": {
              "color": "#EBF0F8"
             },
             "line": {
              "color": "white"
             }
            },
            "header": {
             "fill": {
              "color": "#C8D4E3"
             },
             "line": {
              "color": "white"
             }
            },
            "type": "table"
           }
          ]
         },
         "layout": {
          "annotationdefaults": {
           "arrowcolor": "#2a3f5f",
           "arrowhead": 0,
           "arrowwidth": 1
          },
          "autotypenumbers": "strict",
          "coloraxis": {
           "colorbar": {
            "outlinewidth": 0,
            "ticks": ""
           }
          },
          "colorscale": {
           "diverging": [
            [
             0,
             "#8e0152"
            ],
            [
             0.1,
             "#c51b7d"
            ],
            [
             0.2,
             "#de77ae"
            ],
            [
             0.3,
             "#f1b6da"
            ],
            [
             0.4,
             "#fde0ef"
            ],
            [
             0.5,
             "#f7f7f7"
            ],
            [
             0.6,
             "#e6f5d0"
            ],
            [
             0.7,
             "#b8e186"
            ],
            [
             0.8,
             "#7fbc41"
            ],
            [
             0.9,
             "#4d9221"
            ],
            [
             1,
             "#276419"
            ]
           ],
           "sequential": [
            [
             0,
             "#0d0887"
            ],
            [
             0.1111111111111111,
             "#46039f"
            ],
            [
             0.2222222222222222,
             "#7201a8"
            ],
            [
             0.3333333333333333,
             "#9c179e"
            ],
            [
             0.4444444444444444,
             "#bd3786"
            ],
            [
             0.5555555555555556,
             "#d8576b"
            ],
            [
             0.6666666666666666,
             "#ed7953"
            ],
            [
             0.7777777777777778,
             "#fb9f3a"
            ],
            [
             0.8888888888888888,
             "#fdca26"
            ],
            [
             1,
             "#f0f921"
            ]
           ],
           "sequentialminus": [
            [
             0,
             "#0d0887"
            ],
            [
             0.1111111111111111,
             "#46039f"
            ],
            [
             0.2222222222222222,
             "#7201a8"
            ],
            [
             0.3333333333333333,
             "#9c179e"
            ],
            [
             0.4444444444444444,
             "#bd3786"
            ],
            [
             0.5555555555555556,
             "#d8576b"
            ],
            [
             0.6666666666666666,
             "#ed7953"
            ],
            [
             0.7777777777777778,
             "#fb9f3a"
            ],
            [
             0.8888888888888888,
             "#fdca26"
            ],
            [
             1,
             "#f0f921"
            ]
           ]
          },
          "colorway": [
           "#636efa",
           "#EF553B",
           "#00cc96",
           "#ab63fa",
           "#FFA15A",
           "#19d3f3",
           "#FF6692",
           "#B6E880",
           "#FF97FF",
           "#FECB52"
          ],
          "font": {
           "color": "#2a3f5f"
          },
          "geo": {
           "bgcolor": "white",
           "lakecolor": "white",
           "landcolor": "#E5ECF6",
           "showlakes": true,
           "showland": true,
           "subunitcolor": "white"
          },
          "hoverlabel": {
           "align": "left"
          },
          "hovermode": "closest",
          "mapbox": {
           "style": "light"
          },
          "paper_bgcolor": "white",
          "plot_bgcolor": "#E5ECF6",
          "polar": {
           "angularaxis": {
            "gridcolor": "white",
            "linecolor": "white",
            "ticks": ""
           },
           "bgcolor": "#E5ECF6",
           "radialaxis": {
            "gridcolor": "white",
            "linecolor": "white",
            "ticks": ""
           }
          },
          "scene": {
           "xaxis": {
            "backgroundcolor": "#E5ECF6",
            "gridcolor": "white",
            "gridwidth": 2,
            "linecolor": "white",
            "showbackground": true,
            "ticks": "",
            "zerolinecolor": "white"
           },
           "yaxis": {
            "backgroundcolor": "#E5ECF6",
            "gridcolor": "white",
            "gridwidth": 2,
            "linecolor": "white",
            "showbackground": true,
            "ticks": "",
            "zerolinecolor": "white"
           },
           "zaxis": {
            "backgroundcolor": "#E5ECF6",
            "gridcolor": "white",
            "gridwidth": 2,
            "linecolor": "white",
            "showbackground": true,
            "ticks": "",
            "zerolinecolor": "white"
           }
          },
          "shapedefaults": {
           "line": {
            "color": "#2a3f5f"
           }
          },
          "ternary": {
           "aaxis": {
            "gridcolor": "white",
            "linecolor": "white",
            "ticks": ""
           },
           "baxis": {
            "gridcolor": "white",
            "linecolor": "white",
            "ticks": ""
           },
           "bgcolor": "#E5ECF6",
           "caxis": {
            "gridcolor": "white",
            "linecolor": "white",
            "ticks": ""
           }
          },
          "title": {
           "x": 0.05
          },
          "xaxis": {
           "automargin": true,
           "gridcolor": "white",
           "linecolor": "white",
           "ticks": "",
           "title": {
            "standoff": 15
           },
           "zerolinecolor": "white",
           "zerolinewidth": 2
          },
          "yaxis": {
           "automargin": true,
           "gridcolor": "white",
           "linecolor": "white",
           "ticks": "",
           "title": {
            "standoff": 15
           },
           "zerolinecolor": "white",
           "zerolinewidth": 2
          }
         }
        },
        "xaxis": {
         "anchor": "y",
         "domain": [
          0,
          1
         ],
         "title": {
          "text": "capital"
         }
        },
        "yaxis": {
         "anchor": "x",
         "domain": [
          0,
          1
         ],
         "title": {
          "text": "value"
         }
        }
       }
      },
      "text/html": [
       "<div>                            <div id=\"1da2b8e0-6185-427d-b044-fb46a0eca4f4\" class=\"plotly-graph-div\" style=\"height:525px; width:100%;\"></div>            <script type=\"text/javascript\">                require([\"plotly\"], function(Plotly) {                    window.PLOTLYENV=window.PLOTLYENV || {};                                    if (document.getElementById(\"1da2b8e0-6185-427d-b044-fb46a0eca4f4\")) {                    Plotly.newPlot(                        \"1da2b8e0-6185-427d-b044-fb46a0eca4f4\",                        [{\"hovertemplate\":\"firm=General Motors<br>capital=%{x}<br>value=%{y}<extra></extra>\",\"legendgroup\":\"General Motors\",\"marker\":{\"color\":\"#636efa\",\"symbol\":\"circle\"},\"mode\":\"markers\",\"name\":\"General Motors\",\"orientation\":\"v\",\"showlegend\":true,\"x\":[2.8,52.6,156.9,209.2,203.4,207.2,255.2,303.7,264.1,201.6,265.0,402.2,761.5,922.4,1020.1,1099.0,1207.7,1430.5,1777.3,2226.3],\"xaxis\":\"x\",\"y\":[3078.5,4661.7,5387.1,2792.2,4313.2,4643.9,4551.2,3244.1,4053.7,4379.3,4840.9,4900.9,3526.5,3254.7,3700.2,3755.6,4833.0,4924.9,6241.7,5593.6],\"yaxis\":\"y\",\"type\":\"scatter\"},{\"hovertemplate\":\"firm=US Steel<br>capital=%{x}<br>value=%{y}<extra></extra>\",\"legendgroup\":\"US Steel\",\"marker\":{\"color\":\"#EF553B\",\"symbol\":\"circle\"},\"mode\":\"markers\",\"name\":\"US Steel\",\"orientation\":\"v\",\"showlegend\":true,\"x\":[53.8,50.5,118.1,260.2,312.7,254.2,261.4,298.7,301.8,279.1,213.8,132.6,264.8,306.9,351.1,357.8,342.1,444.2,623.6,669.7],\"xaxis\":\"x\",\"y\":[1362.4,1807.1,2676.3,1801.9,1957.3,2202.9,2380.5,2168.6,1985.1,1813.9,1850.2,2067.7,1796.7,1625.8,1667.0,1677.4,2289.5,2159.4,2031.3,2115.5],\"yaxis\":\"y\",\"type\":\"scatter\"},{\"hovertemplate\":\"firm=General Electric<br>capital=%{x}<br>value=%{y}<extra></extra>\",\"legendgroup\":\"General Electric\",\"marker\":{\"color\":\"#00cc96\",\"symbol\":\"circle\"},\"mode\":\"markers\",\"name\":\"General Electric\",\"orientation\":\"v\",\"showlegend\":true,\"x\":[97.8,104.4,118.0,156.2,172.6,186.6,220.9,287.8,319.9,321.3,319.6,346.0,456.4,543.4,618.3,647.4,671.3,726.1,800.3,888.9],\"xaxis\":\"x\",\"y\":[1170.6,2015.8,2803.3,2039.7,2256.2,2132.2,1834.1,1588.0,1749.4,1687.2,2007.7,2208.3,1656.7,1604.4,1431.8,1610.5,1819.4,2079.7,2371.6,2759.9],\"yaxis\":\"y\",\"type\":\"scatter\"},{\"hovertemplate\":\"firm=Chrysler<br>capital=%{x}<br>value=%{y}<extra></extra>\",\"legendgroup\":\"Chrysler\",\"marker\":{\"color\":\"#ab63fa\",\"symbol\":\"circle\"},\"mode\":\"markers\",\"name\":\"Chrysler\",\"orientation\":\"v\",\"showlegend\":true,\"x\":[10.5,10.2,34.7,51.8,64.3,67.1,75.2,71.4,67.1,60.5,54.6,84.8,96.8,110.2,147.4,163.2,203.5,290.6,346.1,414.9],\"xaxis\":\"x\",\"y\":[417.5,837.8,883.9,437.9,679.7,727.8,643.6,410.9,588.4,698.4,846.4,893.8,579.0,694.6,590.3,693.5,809.0,727.0,1001.5,703.2],\"yaxis\":\"y\",\"type\":\"scatter\"},{\"hovertemplate\":\"firm=Atlantic Refining<br>capital=%{x}<br>value=%{y}<extra></extra>\",\"legendgroup\":\"Atlantic Refining\",\"marker\":{\"color\":\"#FFA15A\",\"symbol\":\"circle\"},\"mode\":\"markers\",\"name\":\"Atlantic Refining\",\"orientation\":\"v\",\"showlegend\":true,\"x\":[183.2,204.0,236.0,291.7,323.1,344.0,367.7,407.2,426.6,470.0,499.2,534.6,566.6,595.3,631.4,662.3,683.9,729.3,774.3,804.9],\"xaxis\":\"x\",\"y\":[157.7,167.9,192.9,156.7,191.4,185.5,199.6,189.5,151.2,187.7,214.7,232.9,249.0,224.5,237.3,240.1,327.3,359.4,398.4,365.7],\"yaxis\":\"y\",\"type\":\"scatter\"},{\"hovertemplate\":\"firm=IBM<br>capital=%{x}<br>value=%{y}<extra></extra>\",\"legendgroup\":\"IBM\",\"marker\":{\"color\":\"#19d3f3\",\"symbol\":\"circle\"},\"mode\":\"markers\",\"name\":\"IBM\",\"orientation\":\"v\",\"showlegend\":true,\"x\":[6.5,15.8,27.7,39.2,48.6,52.5,61.5,80.5,94.4,92.6,92.3,94.2,111.4,127.4,149.3,164.4,177.2,200.0,211.5,238.7],\"xaxis\":\"x\",\"y\":[197.0,210.3,223.1,216.7,286.4,298.0,276.9,272.6,287.4,330.3,324.4,401.9,407.4,409.2,482.2,673.8,676.9,702.0,793.5,927.3],\"yaxis\":\"y\",\"type\":\"scatter\"},{\"hovertemplate\":\"firm=Union Oil<br>capital=%{x}<br>value=%{y}<extra></extra>\",\"legendgroup\":\"Union Oil\",\"marker\":{\"color\":\"#FF6692\",\"symbol\":\"circle\"},\"mode\":\"markers\",\"name\":\"Union Oil\",\"orientation\":\"v\",\"showlegend\":true,\"x\":[100.2,125.0,142.4,165.1,194.8,222.9,252.1,276.3,300.3,318.2,336.2,351.2,373.6,389.4,406.7,429.5,450.6,466.9,486.2,511.3],\"xaxis\":\"x\",\"y\":[138.0,200.1,210.1,161.2,161.7,145.1,110.6,98.1,108.8,118.2,126.5,156.7,119.4,129.1,134.8,140.8,179.0,178.1,186.8,192.7],\"yaxis\":\"y\",\"type\":\"scatter\"},{\"hovertemplate\":\"firm=Westinghouse<br>capital=%{x}<br>value=%{y}<extra></extra>\",\"legendgroup\":\"Westinghouse\",\"marker\":{\"color\":\"#B6E880\",\"symbol\":\"circle\"},\"mode\":\"markers\",\"name\":\"Westinghouse\",\"orientation\":\"v\",\"showlegend\":true,\"x\":[1.8,0.8,7.4,18.1,23.5,26.5,36.2,60.8,84.4,91.2,92.4,86.0,111.1,130.6,141.8,136.7,129.7,145.5,174.8,213.5],\"xaxis\":\"x\",\"y\":[191.5,516.0,729.0,560.4,519.9,628.5,537.1,561.2,617.2,626.7,737.2,760.5,581.4,662.3,583.8,635.2,723.8,864.1,1193.5,1188.9],\"yaxis\":\"y\",\"type\":\"scatter\"},{\"hovertemplate\":\"firm=Goodyear<br>capital=%{x}<br>value=%{y}<extra></extra>\",\"legendgroup\":\"Goodyear\",\"marker\":{\"color\":\"#FF97FF\",\"symbol\":\"circle\"},\"mode\":\"markers\",\"name\":\"Goodyear\",\"orientation\":\"v\",\"showlegend\":true,\"x\":[162.0,174.0,183.0,198.0,208.0,223.0,234.0,248.0,274.0,282.0,316.0,302.0,333.0,359.0,370.0,376.0,391.0,414.0,443.0,468.0],\"xaxis\":\"x\",\"y\":[290.6,291.1,335.0,246.0,356.2,289.8,268.2,213.3,348.2,374.2,387.2,347.4,291.9,297.2,276.9,274.6,339.9,474.8,496.0,474.5],\"yaxis\":\"y\",\"type\":\"scatter\"},{\"hovertemplate\":\"firm=Diamond Match<br>capital=%{x}<br>value=%{y}<extra></extra>\",\"legendgroup\":\"Diamond Match\",\"marker\":{\"color\":\"#FECB52\",\"symbol\":\"circle\"},\"mode\":\"markers\",\"name\":\"Diamond Match\",\"orientation\":\"v\",\"showlegend\":true,\"x\":[4.5,4.71,4.57,4.56,4.38,4.21,4.12,3.83,3.58,3.41,3.31,3.23,3.9,5.38,7.39,8.74,9.07,9.93,11.68,14.33],\"xaxis\":\"x\",\"y\":[70.91,87.94,82.2,58.72,80.54,86.47,77.68,62.16,62.24,61.82,65.85,69.54,64.97,68.0,71.24,69.05,83.04,74.42,63.51,58.12],\"yaxis\":\"y\",\"type\":\"scatter\"},{\"hovertemplate\":\"firm=American Steel<br>capital=%{x}<br>value=%{y}<extra></extra>\",\"legendgroup\":\"American Steel\",\"marker\":{\"color\":\"#636efa\",\"symbol\":\"circle\"},\"mode\":\"markers\",\"name\":\"American Steel\",\"orientation\":\"v\",\"showlegend\":true,\"x\":[52.011,52.903,54.499,59.722,61.659,62.243,63.361,64.861,67.953,69.59,69.144,70.269,71.051,71.508,73.827,75.847,77.367,78.631,80.215,83.788],\"xaxis\":\"x\",\"y\":[30.284,43.909,107.02,68.306,84.164,69.157,60.148,49.332,75.18,62.05,59.152,68.424,48.505,40.507,39.961,36.494,46.082,57.616,57.441,47.165],\"yaxis\":\"y\",\"type\":\"scatter\"}],                        {\"template\":{\"data\":{\"bar\":[{\"error_x\":{\"color\":\"#2a3f5f\"},\"error_y\":{\"color\":\"#2a3f5f\"},\"marker\":{\"line\":{\"color\":\"#E5ECF6\",\"width\":0.5},\"pattern\":{\"fillmode\":\"overlay\",\"size\":10,\"solidity\":0.2}},\"type\":\"bar\"}],\"barpolar\":[{\"marker\":{\"line\":{\"color\":\"#E5ECF6\",\"width\":0.5},\"pattern\":{\"fillmode\":\"overlay\",\"size\":10,\"solidity\":0.2}},\"type\":\"barpolar\"}],\"carpet\":[{\"aaxis\":{\"endlinecolor\":\"#2a3f5f\",\"gridcolor\":\"white\",\"linecolor\":\"white\",\"minorgridcolor\":\"white\",\"startlinecolor\":\"#2a3f5f\"},\"baxis\":{\"endlinecolor\":\"#2a3f5f\",\"gridcolor\":\"white\",\"linecolor\":\"white\",\"minorgridcolor\":\"white\",\"startlinecolor\":\"#2a3f5f\"},\"type\":\"carpet\"}],\"choropleth\":[{\"colorbar\":{\"outlinewidth\":0,\"ticks\":\"\"},\"type\":\"choropleth\"}],\"contour\":[{\"colorbar\":{\"outlinewidth\":0,\"ticks\":\"\"},\"colorscale\":[[0.0,\"#0d0887\"],[0.1111111111111111,\"#46039f\"],[0.2222222222222222,\"#7201a8\"],[0.3333333333333333,\"#9c179e\"],[0.4444444444444444,\"#bd3786\"],[0.5555555555555556,\"#d8576b\"],[0.6666666666666666,\"#ed7953\"],[0.7777777777777778,\"#fb9f3a\"],[0.8888888888888888,\"#fdca26\"],[1.0,\"#f0f921\"]],\"type\":\"contour\"}],\"contourcarpet\":[{\"colorbar\":{\"outlinewidth\":0,\"ticks\":\"\"},\"type\":\"contourcarpet\"}],\"heatmap\":[{\"colorbar\":{\"outlinewidth\":0,\"ticks\":\"\"},\"colorscale\":[[0.0,\"#0d0887\"],[0.1111111111111111,\"#46039f\"],[0.2222222222222222,\"#7201a8\"],[0.3333333333333333,\"#9c179e\"],[0.4444444444444444,\"#bd3786\"],[0.5555555555555556,\"#d8576b\"],[0.6666666666666666,\"#ed7953\"],[0.7777777777777778,\"#fb9f3a\"],[0.8888888888888888,\"#fdca26\"],[1.0,\"#f0f921\"]],\"type\":\"heatmap\"}],\"heatmapgl\":[{\"colorbar\":{\"outlinewidth\":0,\"ticks\":\"\"},\"colorscale\":[[0.0,\"#0d0887\"],[0.1111111111111111,\"#46039f\"],[0.2222222222222222,\"#7201a8\"],[0.3333333333333333,\"#9c179e\"],[0.4444444444444444,\"#bd3786\"],[0.5555555555555556,\"#d8576b\"],[0.6666666666666666,\"#ed7953\"],[0.7777777777777778,\"#fb9f3a\"],[0.8888888888888888,\"#fdca26\"],[1.0,\"#f0f921\"]],\"type\":\"heatmapgl\"}],\"histogram\":[{\"marker\":{\"pattern\":{\"fillmode\":\"overlay\",\"size\":10,\"solidity\":0.2}},\"type\":\"histogram\"}],\"histogram2d\":[{\"colorbar\":{\"outlinewidth\":0,\"ticks\":\"\"},\"colorscale\":[[0.0,\"#0d0887\"],[0.1111111111111111,\"#46039f\"],[0.2222222222222222,\"#7201a8\"],[0.3333333333333333,\"#9c179e\"],[0.4444444444444444,\"#bd3786\"],[0.5555555555555556,\"#d8576b\"],[0.6666666666666666,\"#ed7953\"],[0.7777777777777778,\"#fb9f3a\"],[0.8888888888888888,\"#fdca26\"],[1.0,\"#f0f921\"]],\"type\":\"histogram2d\"}],\"histogram2dcontour\":[{\"colorbar\":{\"outlinewidth\":0,\"ticks\":\"\"},\"colorscale\":[[0.0,\"#0d0887\"],[0.1111111111111111,\"#46039f\"],[0.2222222222222222,\"#7201a8\"],[0.3333333333333333,\"#9c179e\"],[0.4444444444444444,\"#bd3786\"],[0.5555555555555556,\"#d8576b\"],[0.6666666666666666,\"#ed7953\"],[0.7777777777777778,\"#fb9f3a\"],[0.8888888888888888,\"#fdca26\"],[1.0,\"#f0f921\"]],\"type\":\"histogram2dcontour\"}],\"mesh3d\":[{\"colorbar\":{\"outlinewidth\":0,\"ticks\":\"\"},\"type\":\"mesh3d\"}],\"parcoords\":[{\"line\":{\"colorbar\":{\"outlinewidth\":0,\"ticks\":\"\"}},\"type\":\"parcoords\"}],\"pie\":[{\"automargin\":true,\"type\":\"pie\"}],\"scatter\":[{\"marker\":{\"colorbar\":{\"outlinewidth\":0,\"ticks\":\"\"}},\"type\":\"scatter\"}],\"scatter3d\":[{\"line\":{\"colorbar\":{\"outlinewidth\":0,\"ticks\":\"\"}},\"marker\":{\"colorbar\":{\"outlinewidth\":0,\"ticks\":\"\"}},\"type\":\"scatter3d\"}],\"scattercarpet\":[{\"marker\":{\"colorbar\":{\"outlinewidth\":0,\"ticks\":\"\"}},\"type\":\"scattercarpet\"}],\"scattergeo\":[{\"marker\":{\"colorbar\":{\"outlinewidth\":0,\"ticks\":\"\"}},\"type\":\"scattergeo\"}],\"scattergl\":[{\"marker\":{\"colorbar\":{\"outlinewidth\":0,\"ticks\":\"\"}},\"type\":\"scattergl\"}],\"scattermapbox\":[{\"marker\":{\"colorbar\":{\"outlinewidth\":0,\"ticks\":\"\"}},\"type\":\"scattermapbox\"}],\"scatterpolar\":[{\"marker\":{\"colorbar\":{\"outlinewidth\":0,\"ticks\":\"\"}},\"type\":\"scatterpolar\"}],\"scatterpolargl\":[{\"marker\":{\"colorbar\":{\"outlinewidth\":0,\"ticks\":\"\"}},\"type\":\"scatterpolargl\"}],\"scatterternary\":[{\"marker\":{\"colorbar\":{\"outlinewidth\":0,\"ticks\":\"\"}},\"type\":\"scatterternary\"}],\"surface\":[{\"colorbar\":{\"outlinewidth\":0,\"ticks\":\"\"},\"colorscale\":[[0.0,\"#0d0887\"],[0.1111111111111111,\"#46039f\"],[0.2222222222222222,\"#7201a8\"],[0.3333333333333333,\"#9c179e\"],[0.4444444444444444,\"#bd3786\"],[0.5555555555555556,\"#d8576b\"],[0.6666666666666666,\"#ed7953\"],[0.7777777777777778,\"#fb9f3a\"],[0.8888888888888888,\"#fdca26\"],[1.0,\"#f0f921\"]],\"type\":\"surface\"}],\"table\":[{\"cells\":{\"fill\":{\"color\":\"#EBF0F8\"},\"line\":{\"color\":\"white\"}},\"header\":{\"fill\":{\"color\":\"#C8D4E3\"},\"line\":{\"color\":\"white\"}},\"type\":\"table\"}]},\"layout\":{\"annotationdefaults\":{\"arrowcolor\":\"#2a3f5f\",\"arrowhead\":0,\"arrowwidth\":1},\"autotypenumbers\":\"strict\",\"coloraxis\":{\"colorbar\":{\"outlinewidth\":0,\"ticks\":\"\"}},\"colorscale\":{\"diverging\":[[0,\"#8e0152\"],[0.1,\"#c51b7d\"],[0.2,\"#de77ae\"],[0.3,\"#f1b6da\"],[0.4,\"#fde0ef\"],[0.5,\"#f7f7f7\"],[0.6,\"#e6f5d0\"],[0.7,\"#b8e186\"],[0.8,\"#7fbc41\"],[0.9,\"#4d9221\"],[1,\"#276419\"]],\"sequential\":[[0.0,\"#0d0887\"],[0.1111111111111111,\"#46039f\"],[0.2222222222222222,\"#7201a8\"],[0.3333333333333333,\"#9c179e\"],[0.4444444444444444,\"#bd3786\"],[0.5555555555555556,\"#d8576b\"],[0.6666666666666666,\"#ed7953\"],[0.7777777777777778,\"#fb9f3a\"],[0.8888888888888888,\"#fdca26\"],[1.0,\"#f0f921\"]],\"sequentialminus\":[[0.0,\"#0d0887\"],[0.1111111111111111,\"#46039f\"],[0.2222222222222222,\"#7201a8\"],[0.3333333333333333,\"#9c179e\"],[0.4444444444444444,\"#bd3786\"],[0.5555555555555556,\"#d8576b\"],[0.6666666666666666,\"#ed7953\"],[0.7777777777777778,\"#fb9f3a\"],[0.8888888888888888,\"#fdca26\"],[1.0,\"#f0f921\"]]},\"colorway\":[\"#636efa\",\"#EF553B\",\"#00cc96\",\"#ab63fa\",\"#FFA15A\",\"#19d3f3\",\"#FF6692\",\"#B6E880\",\"#FF97FF\",\"#FECB52\"],\"font\":{\"color\":\"#2a3f5f\"},\"geo\":{\"bgcolor\":\"white\",\"lakecolor\":\"white\",\"landcolor\":\"#E5ECF6\",\"showlakes\":true,\"showland\":true,\"subunitcolor\":\"white\"},\"hoverlabel\":{\"align\":\"left\"},\"hovermode\":\"closest\",\"mapbox\":{\"style\":\"light\"},\"paper_bgcolor\":\"white\",\"plot_bgcolor\":\"#E5ECF6\",\"polar\":{\"angularaxis\":{\"gridcolor\":\"white\",\"linecolor\":\"white\",\"ticks\":\"\"},\"bgcolor\":\"#E5ECF6\",\"radialaxis\":{\"gridcolor\":\"white\",\"linecolor\":\"white\",\"ticks\":\"\"}},\"scene\":{\"xaxis\":{\"backgroundcolor\":\"#E5ECF6\",\"gridcolor\":\"white\",\"gridwidth\":2,\"linecolor\":\"white\",\"showbackground\":true,\"ticks\":\"\",\"zerolinecolor\":\"white\"},\"yaxis\":{\"backgroundcolor\":\"#E5ECF6\",\"gridcolor\":\"white\",\"gridwidth\":2,\"linecolor\":\"white\",\"showbackground\":true,\"ticks\":\"\",\"zerolinecolor\":\"white\"},\"zaxis\":{\"backgroundcolor\":\"#E5ECF6\",\"gridcolor\":\"white\",\"gridwidth\":2,\"linecolor\":\"white\",\"showbackground\":true,\"ticks\":\"\",\"zerolinecolor\":\"white\"}},\"shapedefaults\":{\"line\":{\"color\":\"#2a3f5f\"}},\"ternary\":{\"aaxis\":{\"gridcolor\":\"white\",\"linecolor\":\"white\",\"ticks\":\"\"},\"baxis\":{\"gridcolor\":\"white\",\"linecolor\":\"white\",\"ticks\":\"\"},\"bgcolor\":\"#E5ECF6\",\"caxis\":{\"gridcolor\":\"white\",\"linecolor\":\"white\",\"ticks\":\"\"}},\"title\":{\"x\":0.05},\"xaxis\":{\"automargin\":true,\"gridcolor\":\"white\",\"linecolor\":\"white\",\"ticks\":\"\",\"title\":{\"standoff\":15},\"zerolinecolor\":\"white\",\"zerolinewidth\":2},\"yaxis\":{\"automargin\":true,\"gridcolor\":\"white\",\"linecolor\":\"white\",\"ticks\":\"\",\"title\":{\"standoff\":15},\"zerolinecolor\":\"white\",\"zerolinewidth\":2}}},\"xaxis\":{\"anchor\":\"y\",\"domain\":[0.0,1.0],\"title\":{\"text\":\"capital\"}},\"yaxis\":{\"anchor\":\"x\",\"domain\":[0.0,1.0],\"title\":{\"text\":\"value\"}},\"legend\":{\"title\":{\"text\":\"firm\"},\"tracegroupgap\":0},\"margin\":{\"t\":60}},                        {\"responsive\": true}                    ).then(function(){\n",
       "                            \n",
       "var gd = document.getElementById('1da2b8e0-6185-427d-b044-fb46a0eca4f4');\n",
       "var x = new MutationObserver(function (mutations, observer) {{\n",
       "        var display = window.getComputedStyle(gd).display;\n",
       "        if (!display || display === 'none') {{\n",
       "            console.log([gd, 'removed!']);\n",
       "            Plotly.purge(gd);\n",
       "            observer.disconnect();\n",
       "        }}\n",
       "}});\n",
       "\n",
       "// Listen for the removal of the full notebook cells\n",
       "var notebookContainer = gd.closest('#notebook-container');\n",
       "if (notebookContainer) {{\n",
       "    x.observe(notebookContainer, {childList: true});\n",
       "}}\n",
       "\n",
       "// Listen for the clearing of the current output cell\n",
       "var outputEl = gd.closest('.output');\n",
       "if (outputEl) {{\n",
       "    x.observe(outputEl, {childList: true});\n",
       "}}\n",
       "\n",
       "                        })                };                });            </script>        </div>"
      ]
     },
     "metadata": {},
     "output_type": "display_data"
    }
   ],
   "source": [
    "px.scatter(df,'capital','value',color='firm')"
   ]
  }
 ],
 "metadata": {
  "kernelspec": {
   "display_name": "Python 3 (ipykernel)",
   "language": "python",
   "name": "python3"
  },
  "language_info": {
   "codemirror_mode": {
    "name": "ipython",
    "version": 3
   },
   "file_extension": ".py",
   "mimetype": "text/x-python",
   "name": "python",
   "nbconvert_exporter": "python",
   "pygments_lexer": "ipython3",
   "version": "3.9.12"
  }
 },
 "nbformat": 4,
 "nbformat_minor": 5
}
