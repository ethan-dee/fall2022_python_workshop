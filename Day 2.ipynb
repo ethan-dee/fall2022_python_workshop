{
 "cells": [
  {
   "cell_type": "markdown",
   "id": "18ca2e6f",
   "metadata": {},
   "source": [
    "# Day 1 - Installation, and Writing Simple Code\n",
    "\n",
    "Today's session is segmented into two parts:\n",
    "1. Installing Python, Conda, and Jupyter Notebook\n",
    "    - Unavoidably, this will take a different amount of time, and different steps based on your laptop, OS, etc.\n",
    "    - I will provide the steps, and we will take breaks in between steps to ensure everybody's caught up.\n",
    "    - If this is too slow for you\n",
    "1. Writing some simple code, dealing with errors"
   ]
  },
  {
   "cell_type": "code",
   "execution_count": 9,
   "id": "d00fbd42",
   "metadata": {},
   "outputs": [],
   "source": [
    "# if you start the line with a hash, it's a 'comment'\n",
    "# you can 'run' this block of code, but it's all just comments\n",
    "# so nothing's going to happen"
   ]
  },
  {
   "cell_type": "code",
   "execution_count": 11,
   "id": "1dbe6456",
   "metadata": {},
   "outputs": [
    {
     "data": {
      "text/plain": [
       "9"
      ]
     },
     "execution_count": 11,
     "metadata": {},
     "output_type": "execute_result"
    }
   ],
   "source": [
    "# like R, Python handles basic mathematical operations by default\n",
    "2+7  # returns 9. by the way, you can leave comments -after- actual code on the same line"
   ]
  },
  {
   "cell_type": "code",
   "execution_count": 16,
   "id": "702cff69",
   "metadata": {},
   "outputs": [
    {
     "data": {
      "text/plain": [
       "2"
      ]
     },
     "execution_count": 16,
     "metadata": {},
     "output_type": "execute_result"
    }
   ],
   "source": [
    "5      -  3  # whitespace doesn't matter for simple calculations"
   ]
  },
  {
   "cell_type": "code",
   "execution_count": 17,
   "id": "f892c264",
   "metadata": {},
   "outputs": [
    {
     "data": {
      "text/plain": [
       "14"
      ]
     },
     "execution_count": 17,
     "metadata": {},
     "output_type": "execute_result"
    }
   ],
   "source": [
    "2*7"
   ]
  },
  {
   "cell_type": "code",
   "execution_count": 18,
   "id": "8fb1ffe8",
   "metadata": {},
   "outputs": [
    {
     "data": {
      "text/plain": [
       "128"
      ]
     },
     "execution_count": 18,
     "metadata": {},
     "output_type": "execute_result"
    }
   ],
   "source": [
    "2**7  # exponentiation"
   ]
  },
  {
   "cell_type": "code",
   "execution_count": null,
   "id": "402d0a70",
   "metadata": {},
   "outputs": [],
   "source": [
    "# don't use ^ for exponents. that's the 'bitwise XOR' operator, which I will be $1,000,000 you never need to use"
   ]
  },
  {
   "cell_type": "code",
   "execution_count": 19,
   "id": "561397dc",
   "metadata": {},
   "outputs": [
    {
     "data": {
      "text/plain": [
       "3.5"
      ]
     },
     "execution_count": 19,
     "metadata": {},
     "output_type": "execute_result"
    }
   ],
   "source": [
    "7/2"
   ]
  },
  {
   "cell_type": "code",
   "execution_count": 23,
   "id": "26ad035a",
   "metadata": {},
   "outputs": [
    {
     "data": {
      "text/plain": [
       "3"
      ]
     },
     "execution_count": 23,
     "metadata": {},
     "output_type": "execute_result"
    }
   ],
   "source": [
    "7//2  # divide, but throw away the remainder"
   ]
  },
  {
   "cell_type": "code",
   "execution_count": 26,
   "id": "e1b6ab77",
   "metadata": {},
   "outputs": [
    {
     "data": {
      "text/plain": [
       "1"
      ]
     },
     "execution_count": 26,
     "metadata": {},
     "output_type": "execute_result"
    }
   ],
   "source": [
    "7%2  # modulo"
   ]
  },
  {
   "cell_type": "code",
   "execution_count": 31,
   "id": "6e3b3e51",
   "metadata": {},
   "outputs": [
    {
     "data": {
      "text/plain": [
       "4.0"
      ]
     },
     "execution_count": 31,
     "metadata": {},
     "output_type": "execute_result"
    }
   ],
   "source": [
    "8**1/2  # this is -not- sqrt of 8; order of operations matters in Python"
   ]
  },
  {
   "cell_type": "code",
   "execution_count": 32,
   "id": "d5b1ec48",
   "metadata": {},
   "outputs": [
    {
     "data": {
      "text/plain": [
       "2.8284271247461903"
      ]
     },
     "execution_count": 32,
     "metadata": {},
     "output_type": "execute_result"
    }
   ],
   "source": [
    "8**(1/2)"
   ]
  },
  {
   "cell_type": "markdown",
   "id": "1454085c",
   "metadata": {},
   "source": [
    "## Object Types"
   ]
  },
  {
   "cell_type": "code",
   "execution_count": 59,
   "id": "5a0ebd87",
   "metadata": {},
   "outputs": [],
   "source": [
    "x1 = [5,3,4]\n",
    "x2 = [6,7,3]"
   ]
  },
  {
   "cell_type": "code",
   "execution_count": 60,
   "id": "77320929",
   "metadata": {},
   "outputs": [],
   "source": [
    "import numpy as np"
   ]
  },
  {
   "cell_type": "code",
   "execution_count": 61,
   "id": "dcf40fc4",
   "metadata": {},
   "outputs": [
    {
     "data": {
      "text/plain": [
       "63"
      ]
     },
     "execution_count": 61,
     "metadata": {},
     "output_type": "execute_result"
    }
   ],
   "source": [
    "np.array(x1).dot(np.array(x2))"
   ]
  },
  {
   "cell_type": "code",
   "execution_count": 62,
   "id": "ffbf7e26",
   "metadata": {},
   "outputs": [
    {
     "name": "stdout",
     "output_type": "stream",
     "text": [
      "5\n",
      "3\n",
      "4\n"
     ]
    }
   ],
   "source": [
    "for i in x1:\n",
    "    print(i)"
   ]
  },
  {
   "cell_type": "code",
   "execution_count": null,
   "id": "d60ca738",
   "metadata": {},
   "outputs": [],
   "source": []
  }
 ],
 "metadata": {
  "kernelspec": {
   "display_name": "Python 3",
   "language": "python",
   "name": "python3"
  },
  "language_info": {
   "codemirror_mode": {
    "name": "ipython",
    "version": 3
   },
   "file_extension": ".py",
   "mimetype": "text/x-python",
   "name": "python",
   "nbconvert_exporter": "python",
   "pygments_lexer": "ipython3",
   "version": "3.8.5"
  }
 },
 "nbformat": 4,
 "nbformat_minor": 5
}
