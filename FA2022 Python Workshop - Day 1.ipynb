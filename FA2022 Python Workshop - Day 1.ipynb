{
 "cells": [
  {
   "cell_type": "markdown",
   "id": "e1b69d63",
   "metadata": {},
   "source": [
    "# Day 1\n",
    "<b>Summary.</b> We installed Anaconda, with which we launched a Jupyter Notebook, wherein we had our first look at Python. We covered (not necessarily in this order):\n",
    "- Mathematical operations\n",
    "- Primitive Object Types (integers, floats, strings, booleans)\n",
    "- Collections (lists, sets, tuples, dictionaries)\n",
    "- Basic built-in functions:\n",
    "    - type()\n",
    "    - isinstance() \n",
    "    - int(), float(), str(), \n",
    "    - print()\n",
    "    - nested functions\n",
    "- Logical tests:\n",
    "    - equality and inequality\n",
    "    - \"and\" and \"or\"\n",
    "    - \"in\"\n",
    "    - nested logic\n",
    "- Conditionals:\n",
    "    - if|elif|else\n",
    "    - nested if|elif|else\n",
    "- Loops:\n",
    "    - \"for\"\n",
    "    - \"while\"\n",
    "    - \"break\""
   ]
  },
  {
   "cell_type": "code",
   "execution_count": 1,
   "id": "610d61e3",
   "metadata": {},
   "outputs": [
    {
     "data": {
      "text/plain": [
       "6"
      ]
     },
     "execution_count": 1,
     "metadata": {},
     "output_type": "execute_result"
    }
   ],
   "source": [
    "# using a hash begins an in-line comment\n",
    "# let's do some basic math\n",
    "2 + 4  # should return 6. By the way, you can start a comment -after- some in-line code, and the code will still execute"
   ]
  },
  {
   "cell_type": "code",
   "execution_count": 2,
   "id": "e8d5e522",
   "metadata": {},
   "outputs": [
    {
     "data": {
      "text/plain": [
       "7"
      ]
     },
     "execution_count": 2,
     "metadata": {},
     "output_type": "execute_result"
    }
   ],
   "source": [
    "# Jupyter is being nice to us by automatically printing 6, but if we run a bigger code block we see that we only get the\n",
    "# last output.\n",
    "2 + 4\n",
    "5 + 3\n",
    "1 + 6"
   ]
  },
  {
   "cell_type": "code",
   "execution_count": 5,
   "id": "189527dc",
   "metadata": {},
   "outputs": [
    {
     "name": "stdout",
     "output_type": "stream",
     "text": [
      "6\n",
      "8\n",
      "7\n",
      "6\n"
     ]
    }
   ],
   "source": [
    "# let's make sure we print all of these with the print() function (built-in, it's a default Python function)\n",
    "print(2 + 4)\n",
    "print(5 + 3)\n",
    "print(1 + 6)\n",
    "print(2+4)  # whitespace doesn't matter for math"
   ]
  },
  {
   "cell_type": "code",
   "execution_count": 7,
   "id": "1842cda8",
   "metadata": {},
   "outputs": [
    {
     "name": "stdout",
     "output_type": "stream",
     "text": [
      "8\n",
      "2.6666666666666665\n",
      "2\n",
      "0\n"
     ]
    }
   ],
   "source": [
    "print(2*4)  # should return 8\n",
    "print(8/3)  # ~2.67\n",
    "print(8//3)  # integer division, returns 2 (3 goes into 8, 2 times)\n",
    "print(8%2)  # 8 modulo 2\n",
    "print(8**2)  # 8 squared\n",
    "print(8**(1/2))  # sqrt(8)"
   ]
  },
  {
   "cell_type": "code",
   "execution_count": 8,
   "id": "5f2eff01",
   "metadata": {},
   "outputs": [
    {
     "data": {
      "text/plain": [
       "int"
      ]
     },
     "execution_count": 8,
     "metadata": {},
     "output_type": "execute_result"
    }
   ],
   "source": [
    "# Python is an object-oriented programming language; everything is an \"object.\" One \"type\" of object is an integer:\n",
    "type(5)"
   ]
  },
  {
   "cell_type": "code",
   "execution_count": 10,
   "id": "fb660038",
   "metadata": {},
   "outputs": [
    {
     "data": {
      "text/plain": [
       "float"
      ]
     },
     "execution_count": 10,
     "metadata": {},
     "output_type": "execute_result"
    }
   ],
   "source": [
    "# another type is a \"float\" (floating point number, allows decimal values):\n",
    "type(5.0)"
   ]
  },
  {
   "cell_type": "code",
   "execution_count": 11,
   "id": "b4895654",
   "metadata": {},
   "outputs": [
    {
     "data": {
      "text/plain": [
       "str"
      ]
     },
     "execution_count": 11,
     "metadata": {},
     "output_type": "execute_result"
    }
   ],
   "source": [
    "# another type is a \"string\", or text data:\n",
    "type('hello!')  # use 'single quotes'  OR  \"double quotes\" to define a string"
   ]
  },
  {
   "cell_type": "code",
   "execution_count": 13,
   "id": "b6f07956",
   "metadata": {},
   "outputs": [
    {
     "name": "stdout",
     "output_type": "stream",
     "text": [
      "2.0\n"
     ]
    },
    {
     "data": {
      "text/plain": [
       "float"
      ]
     },
     "execution_count": 13,
     "metadata": {},
     "output_type": "execute_result"
    }
   ],
   "source": [
    "# you can do math \"safely\" between floats and integers:\n",
    "print(5 - 3.0)  # sets it to a float\n",
    "type(5 - 3.0)"
   ]
  },
  {
   "cell_type": "code",
   "execution_count": 14,
   "id": "14bcf08e",
   "metadata": {},
   "outputs": [
    {
     "data": {
      "text/plain": [
       "'hello MSPE students!'"
      ]
     },
     "execution_count": 14,
     "metadata": {},
     "output_type": "execute_result"
    }
   ],
   "source": [
    "# you can even do \"math\" on a set of strings, namely, concatenating them:\n",
    "print(\"Hello \" + \"MSPE\"  + \"students!\")  # I keep a space to end the first two strings, otherwise it's all smushed together"
   ]
  },
  {
   "cell_type": "code",
   "execution_count": 15,
   "id": "47afe679",
   "metadata": {},
   "outputs": [
    {
     "data": {
      "text/plain": [
       "\"This isn't too strange!\""
      ]
     },
     "execution_count": 15,
     "metadata": {},
     "output_type": "execute_result"
    }
   ],
   "source": [
    "# if you want to include an apostrophe inside your string, use \\\n",
    "print('This isn\\'t too strange!')"
   ]
  },
  {
   "cell_type": "code",
   "execution_count": 16,
   "id": "d98ebbdc",
   "metadata": {},
   "outputs": [
    {
     "data": {
      "text/plain": [
       "\"This isn't too strange!\""
      ]
     },
     "execution_count": 16,
     "metadata": {},
     "output_type": "execute_result"
    }
   ],
   "source": [
    "# or, just use double quotes to define the string:\n",
    "print(\"This isn't too strange either!\")"
   ]
  },
  {
   "cell_type": "code",
   "execution_count": 19,
   "id": "7f3f6c59",
   "metadata": {},
   "outputs": [
    {
     "name": "stdout",
     "output_type": "stream",
     "text": [
      "\"This isn't very strange,\" he says.\n"
     ]
    }
   ],
   "source": [
    "# what if you want both apostrophes and double quotes to print out?\n",
    "print('\"This isn\\'t very strange,\" he says.')"
   ]
  },
  {
   "cell_type": "code",
   "execution_count": 20,
   "id": "061edb7b",
   "metadata": {},
   "outputs": [
    {
     "ename": "TypeError",
     "evalue": "unsupported operand type(s) for +: 'int' and 'str'",
     "output_type": "error",
     "traceback": [
      "\u001b[1;31m---------------------------------------------------------------------------\u001b[0m",
      "\u001b[1;31mTypeError\u001b[0m                                 Traceback (most recent call last)",
      "\u001b[1;32m<ipython-input-20-ae3bdeb3f3b7>\u001b[0m in \u001b[0;36m<module>\u001b[1;34m\u001b[0m\n\u001b[0;32m      2\u001b[0m \u001b[1;36m3\u001b[0m\u001b[1;33m+\u001b[0m\u001b[1;36m76\u001b[0m\u001b[1;33m\u001b[0m\u001b[1;33m\u001b[0m\u001b[0m\n\u001b[0;32m      3\u001b[0m \u001b[1;36m7\u001b[0m\u001b[1;33m-\u001b[0m\u001b[1;36m4\u001b[0m\u001b[1;33m\u001b[0m\u001b[1;33m\u001b[0m\u001b[0m\n\u001b[1;32m----> 4\u001b[1;33m \u001b[1;36m3\u001b[0m\u001b[1;33m+\u001b[0m\u001b[1;34m'5.0'\u001b[0m  \u001b[1;31m# this line will cause an error; we can't add an integer and a string\u001b[0m\u001b[1;33m\u001b[0m\u001b[1;33m\u001b[0m\u001b[0m\n\u001b[0m\u001b[0;32m      5\u001b[0m \u001b[1;36m8\u001b[0m\u001b[1;33m*\u001b[0m\u001b[1;36m2\u001b[0m\u001b[1;33m\u001b[0m\u001b[1;33m\u001b[0m\u001b[0m\n\u001b[0;32m      6\u001b[0m \u001b[1;36m8\u001b[0m\u001b[1;33m+\u001b[0m\u001b[1;36m1.0\u001b[0m\u001b[1;33m\u001b[0m\u001b[1;33m\u001b[0m\u001b[0m\n",
      "\u001b[1;31mTypeError\u001b[0m: unsupported operand type(s) for +: 'int' and 'str'"
     ]
    }
   ],
   "source": [
    "# in a block of code, we might encounter an error. Let's dissect how to read one:\n",
    "3+76\n",
    "7-4\n",
    "3+'5.0'  # this line will cause an error; we can't add an integer and a string\n",
    "8*2\n",
    "8+1.0"
   ]
  },
  {
   "cell_type": "markdown",
   "id": "10c0c0ad",
   "metadata": {},
   "source": [
    "<b>Regarding the TypeError above.</b> The \"TypeError\" tells us that one of the objects' data type (uncovered by using the <code>type()</code> function) does not work. In this case, it tells us one of the two types \"int\" or \"str\" are causing problems, on line 4 specifically."
   ]
  },
  {
   "cell_type": "code",
   "execution_count": 22,
   "id": "0066cb5d",
   "metadata": {},
   "outputs": [
    {
     "data": {
      "text/plain": [
       "8.0"
      ]
     },
     "execution_count": 22,
     "metadata": {},
     "output_type": "execute_result"
    }
   ],
   "source": [
    "# We can force an object to be of a different \"type\", which is useful in cases like above where we want the string\n",
    "# '5.0' to act like a float or integer\n",
    "3+float('5.0')"
   ]
  },
  {
   "cell_type": "code",
   "execution_count": 23,
   "id": "26182a99",
   "metadata": {},
   "outputs": [
    {
     "data": {
      "text/plain": [
       "3"
      ]
     },
     "execution_count": 23,
     "metadata": {},
     "output_type": "execute_result"
    }
   ],
   "source": [
    "# careful, though; forcing a float to become an integer destroys information:\n",
    "int(3.6)"
   ]
  },
  {
   "cell_type": "code",
   "execution_count": 24,
   "id": "ae068616",
   "metadata": {},
   "outputs": [
    {
     "name": "stdout",
     "output_type": "stream",
     "text": [
      "3.6\n"
     ]
    }
   ],
   "source": [
    "# let's create a variable and show what we can do with it. all it takes to create a variable is just to -name- it\n",
    "x = 3.6\n",
    "print(x)"
   ]
  },
  {
   "cell_type": "code",
   "execution_count": 25,
   "id": "ff2f9d14",
   "metadata": {},
   "outputs": [
    {
     "data": {
      "text/plain": [
       "2.6"
      ]
     },
     "execution_count": 25,
     "metadata": {},
     "output_type": "execute_result"
    }
   ],
   "source": [
    "x - 1"
   ]
  },
  {
   "cell_type": "code",
   "execution_count": 26,
   "id": "c6da49a2",
   "metadata": {},
   "outputs": [
    {
     "data": {
      "text/plain": [
       "12.96"
      ]
     },
     "execution_count": 26,
     "metadata": {},
     "output_type": "execute_result"
    }
   ],
   "source": [
    "x*x"
   ]
  },
  {
   "cell_type": "code",
   "execution_count": 28,
   "id": "db870433",
   "metadata": {},
   "outputs": [
    {
     "data": {
      "text/plain": [
       "-12.960000000000003"
      ]
     },
     "execution_count": 28,
     "metadata": {},
     "output_type": "execute_result"
    }
   ],
   "source": [
    "x-(x+x**2)  # order of operations matters"
   ]
  },
  {
   "cell_type": "code",
   "execution_count": 29,
   "id": "d0bcd960",
   "metadata": {},
   "outputs": [
    {
     "name": "stdout",
     "output_type": "stream",
     "text": [
      "2.6\n"
     ]
    }
   ],
   "source": [
    "# none of these are changing the value of x. if we want to modify x's value:\n",
    "x = x-1\n",
    "print(x)"
   ]
  },
  {
   "cell_type": "code",
   "execution_count": 30,
   "id": "4614cd06",
   "metadata": {},
   "outputs": [
    {
     "name": "stdout",
     "output_type": "stream",
     "text": [
      "error: x should not be a float!\n"
     ]
    }
   ],
   "source": [
    "# example: we want to do something with our variable x, but first it's important to verify that it's an integer\n",
    "x = 5.6\n",
    "if isinstance(x, float):  # \"if x is a floating point number...\"\n",
    "    print('error: x should not be a float!')  # the indentation is -super- important; it tells us that the code that comes after\n",
    "                                              # \"if\" has to do with the if-block specificially\n",
    "elif isinstance(x, int):  # \"otherwise, if x is an integer...\"\n",
    "    print(\"x is an integer!\")\n",
    "else:  # \"otherwise...\"\n",
    "    print(\"x is something other than a float or integer!\")"
   ]
  },
  {
   "cell_type": "code",
   "execution_count": 32,
   "id": "1c6e566f",
   "metadata": {},
   "outputs": [
    {
     "name": "stdout",
     "output_type": "stream",
     "text": [
      "error: x should not be a float!\n",
      "however, x -can- safely be converted to an integer. so let's convert it.\n"
     ]
    }
   ],
   "source": [
    "# next, note that it's possible for x to be a float, but for it's int() -converted equivalent to be the same thing, e.g. 5.0 ==5\n",
    "# in that case, maybe we shouldn't be worried that x is a float, and just convert it!\n",
    "# this is the same code as above, except that now we'll convert x to an int if it can safely be done w/o destroying information\n",
    "\n",
    "# also, just for fun & readability, note that you can have whitespace lines\n",
    "# (I don't think the code below is easier to read in practice; just saying in theory, sometimes whitespace is helpful)\n",
    "\n",
    "x = 5.0\n",
    "\n",
    "if isinstance(x, float):  \n",
    "    print('error: x should not be a float!')\n",
    "    if int(x)==x:\n",
    "        print('however, x -can- safely be converted to an integer. so let\\'s convert it.')\n",
    "        x = int(x)\n",
    "    # we don't need an else statement if we don't care about the conditions not covered by the \"if\" statement\n",
    "    \n",
    "elif isinstance(x, int):\n",
    "    print(\"x is an integer!\")\n",
    "    \n",
    "else:  # \"otherwise...\"\n",
    "    print(\"x is something other than a float or integer!\")"
   ]
  },
  {
   "cell_type": "code",
   "execution_count": 33,
   "id": "ed21c100",
   "metadata": {},
   "outputs": [
    {
     "data": {
      "text/plain": [
       "True"
      ]
     },
     "execution_count": 33,
     "metadata": {},
     "output_type": "execute_result"
    }
   ],
   "source": [
    "# if / elif / else statements rely on checking whether conditions are True or False. True and False are boolean values:\n",
    "True"
   ]
  },
  {
   "cell_type": "code",
   "execution_count": 34,
   "id": "6689b8c9",
   "metadata": {},
   "outputs": [
    {
     "data": {
      "text/plain": [
       "bool"
      ]
     },
     "execution_count": 34,
     "metadata": {},
     "output_type": "execute_result"
    }
   ],
   "source": [
    "type(True)"
   ]
  },
  {
   "cell_type": "code",
   "execution_count": 35,
   "id": "1e3f4092",
   "metadata": {},
   "outputs": [
    {
     "data": {
      "text/plain": [
       "True"
      ]
     },
     "execution_count": 35,
     "metadata": {},
     "output_type": "execute_result"
    }
   ],
   "source": [
    "# binary, True == \"on\" == 1, and False == \"off\" == 0\n",
    "True == 1"
   ]
  },
  {
   "cell_type": "code",
   "execution_count": 36,
   "id": "057731d5",
   "metadata": {},
   "outputs": [
    {
     "data": {
      "text/plain": [
       "True"
      ]
     },
     "execution_count": 36,
     "metadata": {},
     "output_type": "execute_result"
    }
   ],
   "source": [
    "False == 0"
   ]
  },
  {
   "cell_type": "code",
   "execution_count": 38,
   "id": "96a0eadb",
   "metadata": {},
   "outputs": [
    {
     "data": {
      "text/plain": [
       "True"
      ]
     },
     "execution_count": 38,
     "metadata": {},
     "output_type": "execute_result"
    }
   ],
   "source": [
    "True != False  # True does not equal false"
   ]
  },
  {
   "cell_type": "code",
   "execution_count": 40,
   "id": "22bd54aa",
   "metadata": {},
   "outputs": [
    {
     "data": {
      "text/plain": [
       "True"
      ]
     },
     "execution_count": 40,
     "metadata": {},
     "output_type": "execute_result"
    }
   ],
   "source": [
    "5 >= 3  # 5 is greater than or equal to 3 (so it should return the boolean True)"
   ]
  },
  {
   "cell_type": "code",
   "execution_count": 41,
   "id": "b39584e4",
   "metadata": {},
   "outputs": [
    {
     "data": {
      "text/plain": [
       "bool"
      ]
     },
     "execution_count": 41,
     "metadata": {},
     "output_type": "execute_result"
    }
   ],
   "source": [
    "type(5 >= 3)"
   ]
  },
  {
   "cell_type": "code",
   "execution_count": 42,
   "id": "8b089e63",
   "metadata": {},
   "outputs": [
    {
     "data": {
      "text/plain": [
       "True"
      ]
     },
     "execution_count": 42,
     "metadata": {},
     "output_type": "execute_result"
    }
   ],
   "source": [
    "# conditions can be nested:\n",
    "(5<3) or (5>4)  # true because of the second condition holding"
   ]
  },
  {
   "cell_type": "code",
   "execution_count": 43,
   "id": "cc1d08a0",
   "metadata": {},
   "outputs": [
    {
     "data": {
      "text/plain": [
       "False"
      ]
     },
     "execution_count": 43,
     "metadata": {},
     "output_type": "execute_result"
    }
   ],
   "source": [
    "(5<3) and (5>4)  # false because not all conditions are met"
   ]
  },
  {
   "cell_type": "code",
   "execution_count": 44,
   "id": "8a59cc14",
   "metadata": {},
   "outputs": [
    {
     "data": {
      "text/plain": [
       "True"
      ]
     },
     "execution_count": 44,
     "metadata": {},
     "output_type": "execute_result"
    }
   ],
   "source": [
    "((5<3) and (5>4)) or (5>1)  # true; the compound condition on the left is False, but the right condition is True, so False \n",
    "                            # OR True == True"
   ]
  },
  {
   "cell_type": "code",
   "execution_count": 45,
   "id": "8f91685a",
   "metadata": {},
   "outputs": [
    {
     "data": {
      "text/plain": [
       "True"
      ]
     },
     "execution_count": 45,
     "metadata": {},
     "output_type": "execute_result"
    }
   ],
   "source": [
    "False or True"
   ]
  },
  {
   "cell_type": "code",
   "execution_count": 46,
   "id": "e01f031d",
   "metadata": {},
   "outputs": [
    {
     "data": {
      "text/plain": [
       "True"
      ]
     },
     "execution_count": 46,
     "metadata": {},
     "output_type": "execute_result"
    }
   ],
   "source": [
    "# so that's what the if condition was checking:\n",
    "x = 5.0\n",
    "isinstance(x, float)"
   ]
  },
  {
   "cell_type": "code",
   "execution_count": 57,
   "id": "d386dfe3",
   "metadata": {},
   "outputs": [
    {
     "data": {
      "text/plain": [
       "True"
      ]
     },
     "execution_count": 57,
     "metadata": {},
     "output_type": "execute_result"
    }
   ],
   "source": [
    "3 < x < 6 >= x+1"
   ]
  },
  {
   "cell_type": "code",
   "execution_count": 48,
   "id": "0a5a2dbe",
   "metadata": {},
   "outputs": [
    {
     "name": "stdout",
     "output_type": "stream",
     "text": [
      "[1, 18, 26.4, 56.3, 'five']\n"
     ]
    }
   ],
   "source": [
    "# -collections- can store multiple other objects\n",
    "# let's look at lists, which are basically vectors (ordered containers of objects)\n",
    "my_list_x = [1,18,26.4,56.3,'five']  # you can have different object types in the same list\n",
    "print(my_list_x)"
   ]
  },
  {
   "cell_type": "code",
   "execution_count": 49,
   "id": "8f9c0860",
   "metadata": {},
   "outputs": [
    {
     "data": {
      "text/plain": [
       "5"
      ]
     },
     "execution_count": 49,
     "metadata": {},
     "output_type": "execute_result"
    }
   ],
   "source": [
    "len(my_list_x)  # how many objects are in the list?"
   ]
  },
  {
   "cell_type": "code",
   "execution_count": 50,
   "id": "cb57d0c4",
   "metadata": {},
   "outputs": [
    {
     "data": {
      "text/plain": [
       "list"
      ]
     },
     "execution_count": 50,
     "metadata": {},
     "output_type": "execute_result"
    }
   ],
   "source": [
    "type(my_list_x)"
   ]
  },
  {
   "cell_type": "code",
   "execution_count": 51,
   "id": "2a6cb75a",
   "metadata": {},
   "outputs": [
    {
     "data": {
      "text/plain": [
       "26.4"
      ]
     },
     "execution_count": 51,
     "metadata": {},
     "output_type": "execute_result"
    }
   ],
   "source": [
    "# we can return an item from a specific \"index\" within the list by calling it's position (start counting from 0):\n",
    "my_list_x[2]  # so not the 0th index, or the 1st, but the 2nd"
   ]
  },
  {
   "cell_type": "code",
   "execution_count": 52,
   "id": "d12d6c93",
   "metadata": {},
   "outputs": [
    {
     "data": {
      "text/plain": [
       "True"
      ]
     },
     "execution_count": 52,
     "metadata": {},
     "output_type": "execute_result"
    }
   ],
   "source": [
    "# we can check whether values are in a container:\n",
    "18.0 in my_list_x  # the -integer- 18 is in the list, but 18.0==18, so it returns True"
   ]
  },
  {
   "cell_type": "code",
   "execution_count": 54,
   "id": "7194ecbf",
   "metadata": {},
   "outputs": [
    {
     "data": {
      "text/plain": [
       "False"
      ]
     },
     "execution_count": 54,
     "metadata": {},
     "output_type": "execute_result"
    }
   ],
   "source": [
    "18.1 in my_list_x"
   ]
  },
  {
   "cell_type": "code",
   "execution_count": 58,
   "id": "02ccc404",
   "metadata": {},
   "outputs": [
    {
     "name": "stdout",
     "output_type": "stream",
     "text": [
      "18.1 is not in my_list_x!\n"
     ]
    }
   ],
   "source": [
    "if 18.1 not in my_list_x:\n",
    "    print('18.1 is not in my_list_x!')\n",
    "else:\n",
    "    print('18.1 is in my list_x!')"
   ]
  },
  {
   "cell_type": "code",
   "execution_count": 59,
   "id": "90f0af41",
   "metadata": {},
   "outputs": [
    {
     "name": "stdout",
     "output_type": "stream",
     "text": [
      "{1, 2, 3, 4, 5} [1, 2, 3, 4, 4, 5]\n"
     ]
    }
   ],
   "source": [
    "# sets store unique values, i.e. they shred duplicates:\n",
    "set_x = {1,2,3,4,4,5}\n",
    "list_x = [1,2,3,4,4,5]\n",
    "print(set_x, list_x)"
   ]
  },
  {
   "cell_type": "code",
   "execution_count": 61,
   "id": "9e3fb611",
   "metadata": {},
   "outputs": [
    {
     "ename": "TypeError",
     "evalue": "'set' object is not subscriptable",
     "output_type": "error",
     "traceback": [
      "\u001b[1;31m---------------------------------------------------------------------------\u001b[0m",
      "\u001b[1;31mTypeError\u001b[0m                                 Traceback (most recent call last)",
      "\u001b[1;32m<ipython-input-61-e65081aa0771>\u001b[0m in \u001b[0;36m<module>\u001b[1;34m\u001b[0m\n\u001b[1;32m----> 1\u001b[1;33m \u001b[0mset_x\u001b[0m\u001b[1;33m[\u001b[0m\u001b[1;36m1\u001b[0m\u001b[1;33m]\u001b[0m\u001b[1;33m\u001b[0m\u001b[1;33m\u001b[0m\u001b[0m\n\u001b[0m",
      "\u001b[1;31mTypeError\u001b[0m: 'set' object is not subscriptable"
     ]
    }
   ],
   "source": [
    "set_x[1]  # note that 'set' objects are not subscriptable; the order of elements in a set doesn't matter / can't be used in a \n",
    "          # way that matters by default, so you can't use indices to read specific values out of a set"
   ]
  },
  {
   "cell_type": "code",
   "execution_count": 72,
   "id": "f7d7d5d5",
   "metadata": {},
   "outputs": [
    {
     "data": {
      "text/plain": [
       "dict"
      ]
     },
     "execution_count": 72,
     "metadata": {},
     "output_type": "execute_result"
    }
   ],
   "source": [
    "# dictionaries are pairs of 'keys' and 'values'\n",
    "# the 'key' is what you use to index into the dictionary, and it will return a value\n",
    "dictionary_x = {'key1': 56, 'another_key': 73, 5: 'value for key equaling int 5'}\n",
    "type(dictionary_x)"
   ]
  },
  {
   "cell_type": "code",
   "execution_count": 73,
   "id": "2a5b26f4",
   "metadata": {},
   "outputs": [
    {
     "data": {
      "text/plain": [
       "56"
      ]
     },
     "execution_count": 73,
     "metadata": {},
     "output_type": "execute_result"
    }
   ],
   "source": [
    "dictionary_x['key1']"
   ]
  },
  {
   "cell_type": "code",
   "execution_count": 74,
   "id": "94afc908",
   "metadata": {},
   "outputs": [
    {
     "data": {
      "text/plain": [
       "'value for key equaling int 5'"
      ]
     },
     "execution_count": 74,
     "metadata": {},
     "output_type": "execute_result"
    }
   ],
   "source": [
    "dictionary_x[5]"
   ]
  },
  {
   "cell_type": "code",
   "execution_count": 75,
   "id": "76560dc1",
   "metadata": {},
   "outputs": [
    {
     "name": "stdout",
     "output_type": "stream",
     "text": [
      "[42, [1, 2, 3], [64, 6], 53.2, 'why are the data like this']\n"
     ]
    }
   ],
   "source": [
    "# collections can store other collections, e.g. a list can contain lists:\n",
    "my_nested_list = [42, [1,2,3], [64,6], 53.2, 'why are the data like this']\n",
    "print(my_nested_list)"
   ]
  },
  {
   "cell_type": "code",
   "execution_count": 76,
   "id": "12eb984d",
   "metadata": {},
   "outputs": [
    {
     "data": {
      "text/plain": [
       "list"
      ]
     },
     "execution_count": 76,
     "metadata": {},
     "output_type": "execute_result"
    }
   ],
   "source": [
    "type(my_nested_list)"
   ]
  },
  {
   "cell_type": "code",
   "execution_count": 78,
   "id": "d1a80932",
   "metadata": {},
   "outputs": [
    {
     "name": "stdout",
     "output_type": "stream",
     "text": [
      "0\n",
      "1\n",
      "2\n",
      "3\n",
      "4\n",
      "5\n",
      "6\n",
      "7\n",
      "8\n",
      "9\n"
     ]
    }
   ],
   "source": [
    "# often we want to automate / loop some portion of the workflow. 'for' loops repeat a process until a defined endpoint:\n",
    "for n in range(0,10):  # for every arbitrary value n in this function that counts from 0,...,9, we'll do something\n",
    "    print(n)"
   ]
  },
  {
   "cell_type": "code",
   "execution_count": 79,
   "id": "9f1d2d45",
   "metadata": {},
   "outputs": [
    {
     "name": "stdout",
     "output_type": "stream",
     "text": [
      "0\n",
      "2\n",
      "4\n",
      "6\n",
      "8\n"
     ]
    }
   ],
   "source": [
    "# we can nest conditions within loops:\n",
    "for n in range(0,10):\n",
    "    if n % 2 == 0:  # if n is even...\n",
    "        print(n)"
   ]
  },
  {
   "cell_type": "code",
   "execution_count": 80,
   "id": "2134aebe",
   "metadata": {},
   "outputs": [
    {
     "name": "stdout",
     "output_type": "stream",
     "text": [
      "x is an integer!\n",
      "x is an integer!\n",
      "x is an integer!\n",
      "x is an integer!\n",
      "x is an integer!\n"
     ]
    }
   ],
   "source": [
    "# or we can nest loops within conditions:\n",
    "x = 37\n",
    "if isinstance(x,int):\n",
    "    for n in range(0,5):\n",
    "        print(\"x is an integer!\")"
   ]
  },
  {
   "cell_type": "code",
   "execution_count": 81,
   "id": "3082844b",
   "metadata": {},
   "outputs": [
    {
     "name": "stdout",
     "output_type": "stream",
     "text": [
      "0\n",
      "1\n",
      "2\n",
      "3\n",
      "4\n",
      "5\n",
      "6\n",
      "7\n",
      "8\n",
      "9\n",
      "10\n",
      "11\n",
      "12\n",
      "13\n",
      "14\n",
      "15\n",
      "16\n",
      "17\n",
      "18\n",
      "19\n",
      "20\n",
      "21\n",
      "22\n",
      "23\n",
      "24\n",
      "25\n",
      "26\n",
      "27\n",
      "28\n",
      "29\n",
      "30\n",
      "31\n",
      "32\n",
      "33\n",
      "34\n",
      "35\n",
      "36\n",
      "37\n",
      "38\n",
      "39\n",
      "40\n",
      "41\n",
      "42\n",
      "43\n",
      "44\n",
      "45\n",
      "46\n",
      "47\n",
      "48\n",
      "49\n",
      "50\n",
      "51\n",
      "52\n",
      "53\n",
      "54\n",
      "55\n",
      "56\n",
      "57\n",
      "58\n",
      "59\n",
      "60\n",
      "61\n",
      "62\n",
      "63\n",
      "64\n",
      "65\n",
      "66\n",
      "67\n",
      "68\n",
      "69\n",
      "70\n",
      "71\n",
      "72\n",
      "73\n",
      "74\n",
      "75\n",
      "76\n",
      "77\n",
      "78\n",
      "79\n",
      "80\n",
      "81\n",
      "82\n",
      "83\n",
      "84\n",
      "85\n",
      "86\n",
      "87\n",
      "88\n",
      "89\n",
      "90\n",
      "91\n",
      "92\n",
      "93\n",
      "94\n",
      "95\n",
      "96\n",
      "97\n",
      "98\n",
      "99\n",
      "100\n",
      "101\n"
     ]
    }
   ],
   "source": [
    "# sometimes a loop might go longer than we'd like; we can implement a \"break\" condition to make it stop\n",
    "for n in range(0,1000000):\n",
    "    print(n)\n",
    "    if n>100:\n",
    "        break\n",
    "# note that this loop will print from 0,...,101"
   ]
  },
  {
   "cell_type": "code",
   "execution_count": 82,
   "id": "818b4072",
   "metadata": {},
   "outputs": [
    {
     "name": "stdout",
     "output_type": "stream",
     "text": [
      "0\n",
      "1\n",
      "2\n",
      "3\n",
      "4\n",
      "5\n",
      "6\n",
      "7\n",
      "8\n",
      "9\n",
      "10\n",
      "11\n",
      "12\n",
      "13\n",
      "14\n",
      "15\n",
      "16\n",
      "17\n",
      "18\n",
      "19\n",
      "20\n",
      "21\n",
      "22\n",
      "23\n",
      "24\n",
      "25\n",
      "26\n",
      "27\n",
      "28\n",
      "29\n",
      "30\n",
      "31\n",
      "32\n",
      "33\n",
      "34\n",
      "35\n",
      "36\n",
      "37\n",
      "38\n",
      "39\n",
      "40\n",
      "41\n",
      "42\n",
      "43\n",
      "44\n",
      "45\n",
      "46\n",
      "47\n",
      "48\n",
      "49\n",
      "50\n",
      "51\n",
      "52\n",
      "53\n",
      "54\n",
      "55\n",
      "56\n",
      "57\n",
      "58\n",
      "59\n",
      "60\n",
      "61\n",
      "62\n",
      "63\n",
      "64\n",
      "65\n",
      "66\n",
      "67\n",
      "68\n",
      "69\n",
      "70\n",
      "71\n",
      "72\n",
      "73\n",
      "74\n",
      "75\n",
      "76\n",
      "77\n",
      "78\n",
      "79\n",
      "80\n",
      "81\n",
      "82\n",
      "83\n",
      "84\n",
      "85\n",
      "86\n",
      "87\n",
      "88\n",
      "89\n",
      "90\n",
      "91\n",
      "92\n",
      "93\n",
      "94\n",
      "95\n",
      "96\n",
      "97\n",
      "98\n",
      "99\n",
      "100\n"
     ]
    }
   ],
   "source": [
    "for n in range(0,1000000):\n",
    "    if n>100:\n",
    "        break\n",
    "    print(n)\n",
    "# ... but this for loop prints from 0,100. Why?"
   ]
  },
  {
   "cell_type": "code",
   "execution_count": 84,
   "id": "ac2597a5",
   "metadata": {},
   "outputs": [
    {
     "name": "stdout",
     "output_type": "stream",
     "text": [
      "101\n"
     ]
    }
   ],
   "source": [
    "for n in range(0,1000000):\n",
    "    if n>100:\n",
    "        break\n",
    "print(n)\n",
    "# why does this only print 101?"
   ]
  },
  {
   "cell_type": "code",
   "execution_count": 85,
   "id": "f5044c40",
   "metadata": {},
   "outputs": [
    {
     "name": "stdout",
     "output_type": "stream",
     "text": [
      "0\n",
      "1\n",
      "2\n",
      "3\n",
      "4\n",
      "5\n",
      "6\n",
      "7\n",
      "8\n",
      "9\n",
      "10\n"
     ]
    }
   ],
   "source": [
    "# \"while\" loops are like \"for\" loops, except that they have no defined endpoint\n",
    "# \"while\" loops check whether a condition is met, and if so, execute the indented code\n",
    "# \"for\" loops iterate through a collection until it reaches that collection's end\n",
    "# this means they can -dangerously- continue for ever\n",
    "# depending on what the code is doing (for example, adding synthetic data to a dataset), this can crash your computer. :)\n",
    "\n",
    "counter = 0  # making a variable called \"counter\" to keep track of how many times this loop iterates:\n",
    "while True:  # while it is the case that True == True (so... always)\n",
    "    print(counter)\n",
    "    counter = counter+1\n",
    "    if counter > 10:  # this is your loop break criterion; set it to 1000 and see what happens\n",
    "        break"
   ]
  }
 ],
 "metadata": {
  "kernelspec": {
   "display_name": "Python 3",
   "language": "python",
   "name": "python3"
  },
  "language_info": {
   "codemirror_mode": {
    "name": "ipython",
    "version": 3
   },
   "file_extension": ".py",
   "mimetype": "text/x-python",
   "name": "python",
   "nbconvert_exporter": "python",
   "pygments_lexer": "ipython3",
   "version": "3.8.5"
  }
 },
 "nbformat": 4,
 "nbformat_minor": 5
}
